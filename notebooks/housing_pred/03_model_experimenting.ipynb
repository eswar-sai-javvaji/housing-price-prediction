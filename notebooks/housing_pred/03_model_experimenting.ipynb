{
 "cells": [
  {
   "cell_type": "markdown",
   "metadata": {},
   "source": [
    "# Purpose"
   ]
  },
  {
   "cell_type": "markdown",
   "metadata": {},
   "source": [
    "This notebook demonstrates the model experimentation and finalization. It covers EDA, outlier treatment, transformation, training, model evaluation and comparison across models."
   ]
  },
  {
   "cell_type": "markdown",
   "metadata": {},
   "source": [
    "## Imports"
   ]
  },
  {
   "cell_type": "code",
   "execution_count": 186,
   "metadata": {},
   "outputs": [],
   "source": [
    "import os\n",
    "import os.path as op\n",
    "import shutil\n",
    "\n",
    "# standard third party imports\n",
    "import numpy as np\n",
    "import pandas as pd\n",
    "from matplotlib import pyplot as plt\n",
    "from sklearn.pipeline import Pipeline\n",
    "from sklearn.feature_selection import SelectFromModel\n",
    "from sklearn.model_selection import GridSearchCV\n",
    "from sklearn.preprocessing import FunctionTransformer\n",
    "from sklearn.compose import ColumnTransformer\n",
    "\n",
    "# impute missing values\n",
    "from sklearn.experimental import enable_iterative_imputer  # noqa\n",
    "from sklearn.impute import KNNImputer, IterativeImputer, SimpleImputer\n",
    "from sklearn.tree import DecisionTreeRegressor\n",
    "from category_encoders import TargetEncoder\n"
   ]
  },
  {
   "cell_type": "code",
   "execution_count": 187,
   "metadata": {},
   "outputs": [
    {
     "name": "stdout",
     "output_type": "stream",
     "text": [
      "The autoreload extension is already loaded. To reload it, use:\n",
      "  %reload_ext autoreload\n"
     ]
    }
   ],
   "source": [
    "%load_ext autoreload\n",
    "%autoreload 2"
   ]
  },
  {
   "cell_type": "code",
   "execution_count": 188,
   "metadata": {},
   "outputs": [],
   "source": [
    "import warnings\n",
    "\n",
    "warnings.filterwarnings('ignore', message=\"pandas.Int64Index is deprecated and will be removed from pandas in a future version. Use pandas.Index with the appropriate dtype instead.\", \n",
    "                        category=FutureWarning)\n",
    "warnings.filterwarnings('ignore', message=\"pandas.Float64Index is deprecated and will be removed from pandas in a future version. Use pandas.Index with the appropriate dtype instead.\",\n",
    "                        category=FutureWarning)"
   ]
  },
  {
   "cell_type": "code",
   "execution_count": 189,
   "metadata": {},
   "outputs": [],
   "source": [
    "# standard code-template imports\n",
    "from ta_lib.core.api import (\n",
    "    create_context, get_dataframe, get_feature_names_from_column_transformer, string_cleaning,\n",
    "    get_package_path, display_as_tabs, save_pipeline, load_pipeline, initialize_environment,\n",
    "    load_dataset, save_dataset, DEFAULT_ARTIFACTS_PATH\n",
    ")\n",
    "\n",
    "import ta_lib.eda.api as eda\n",
    "from xgboost import XGBRegressor\n",
    "from ta_lib.regression.api import SKLStatsmodelOLS\n",
    "from ta_lib.regression.api import RegressionComparison, RegressionReport\n",
    "import ta_lib.reports.api as reports\n",
    "from ta_lib.data_processing.api import Outlier\n",
    "\n",
    "initialize_environment(debug=False, hide_warnings=True)"
   ]
  },
  {
   "cell_type": "markdown",
   "metadata": {},
   "source": [
    "# Initialization"
   ]
  },
  {
   "cell_type": "code",
   "execution_count": 190,
   "metadata": {},
   "outputs": [
    {
     "name": "stdout",
     "output_type": "stream",
     "text": [
      "/mnt/c/users/sai.javvaji/desktop/regression_codetemp/regression-py/src/../artifacts\n"
     ]
    }
   ],
   "source": [
    "artifacts_folder = DEFAULT_ARTIFACTS_PATH\n",
    "print(artifacts_folder)"
   ]
  },
  {
   "cell_type": "code",
   "execution_count": 191,
   "metadata": {},
   "outputs": [],
   "source": [
    "config_path = op.join('conf', 'config.yml')\n",
    "context = create_context(config_path)"
   ]
  },
  {
   "cell_type": "markdown",
   "metadata": {},
   "source": [
    "# 3 Feature Engineering\n",
    "\n",
    "The focus here is the `Pipeline` and not the model. Though the model would inform the pipeline that is needed to train the model, our focus is to set it up in such a way that it can be saved/loaded, tweaked for different model choices and so on."
   ]
  },
  {
   "cell_type": "markdown",
   "metadata": {},
   "source": [
    "## 3.1 Read the Train and Test Data"
   ]
  },
  {
   "cell_type": "code",
   "execution_count": 192,
   "metadata": {},
   "outputs": [
    {
     "name": "stdout",
     "output_type": "stream",
     "text": [
      "(16512, 9) (16512, 1)\n",
      "(4128, 9) (4128, 1)\n"
     ]
    }
   ],
   "source": [
    "train_X = load_dataset(context, 'train/housing/features')\n",
    "train_y = load_dataset(context, 'train/housing/target')\n",
    "print(train_X.shape, train_y.shape)\n",
    "\n",
    "test_X = load_dataset(context, 'test/housing/features')\n",
    "test_y = load_dataset(context, 'test/housing/target')\n",
    "print(test_X.shape, test_y.shape)"
   ]
  },
  {
   "cell_type": "markdown",
   "metadata": {},
   "source": [
    "## 3.2 Feature Engineering Pipelines\n"
   ]
  },
  {
   "cell_type": "markdown",
   "metadata": {},
   "source": [
    "**Dev NOTES**\n",
    "\n",
    "For Feature Engineering and Model Building sklearn.pipeline.Pipeline are leveraged because of the following advantages\n",
    "<details>\n",
    "    \n",
    "1. It helps in automating workflows and are easier to read and comprehend.\n",
    "2. Right Sequence can be ensured and (for example always encodes before imputing)\n",
    "3. Reproducibility is very convenient with pipelines\n",
    "4. Pipelines help you prevent data leakage in your test data\n",
    "5. Code is near implementation ready"
   ]
  },
  {
   "cell_type": "markdown",
   "metadata": {},
   "source": [
    "#### General Steps in the Feature Transformation are as follows\n",
    " - Outlier Treatment\n",
    " - Encoding of Categorical Columns\n",
    " - Missing Values Imputation"
   ]
  },
  {
   "cell_type": "code",
   "execution_count": 193,
   "metadata": {},
   "outputs": [],
   "source": [
    "# collecting different types of columns for transformations\n",
    "cat_columns = train_X.select_dtypes('object').columns\n",
    "num_columns = train_X.select_dtypes('number').columns"
   ]
  },
  {
   "cell_type": "markdown",
   "metadata": {},
   "source": [
    "#### Outlier Handling\n",
    "- A Custom Transformer is used to handle outliers. It is not included as part of the pipeline as outliers handling are optional for test data\n",
    "- An option to either drop or cap the outliers can be passed during the transform call\n",
    "- If we want to treat outliers for some columns them we can pass cols argument to the Transformer\n",
    "- This will go into production code"
   ]
  },
  {
   "cell_type": "code",
   "execution_count": 194,
   "metadata": {},
   "outputs": [],
   "source": [
    "from sklearn.base import BaseEstimator, TransformerMixin\n",
    "\n",
    "class CombinedAttributesAdder(BaseEstimator, TransformerMixin):\n",
    "    def __init__(self, add_bedrooms_per_room=True):  # no *args or **kargs\n",
    "        self.add_bedrooms_per_room = add_bedrooms_per_room\n",
    "\n",
    "    def fit(self, X, y=None):\n",
    "        return self  # nothing else to do\n",
    "\n",
    "    def transform(self, X):\n",
    "        rooms_per_household = X[:, rooms_ix] / X[:, households_ix]\n",
    "        population_per_household = X[:, population_ix] / X[:, households_ix]\n",
    "        if self.add_bedrooms_per_room:\n",
    "            bedrooms_per_room = X[:, bedrooms_ix] / X[:, rooms_ix]\n",
    "            return np.c_[\n",
    "                X,\n",
    "                rooms_per_household,\n",
    "                population_per_household,\n",
    "                bedrooms_per_room,\n",
    "            ]\n",
    "\n",
    "        else:\n",
    "            return np.c_[X, rooms_per_household, population_per_household]"
   ]
  },
  {
   "cell_type": "code",
   "execution_count": 195,
   "metadata": {},
   "outputs": [
    {
     "name": "stdout",
     "output_type": "stream",
     "text": [
      "(16512, 9)\n",
      "(16512, 9)\n"
     ]
    }
   ],
   "source": [
    "outlier_transformer = Outlier(method='mean')\n",
    "print(train_X.shape)\n",
    "train_X = outlier_transformer.fit_transform(train_X)\n",
    "print(train_X.shape)"
   ]
  },
  {
   "cell_type": "code",
   "execution_count": 196,
   "metadata": {},
   "outputs": [],
   "source": [
    "imputer = SimpleImputer(strategy=\"median\")"
   ]
  },
  {
   "cell_type": "code",
   "execution_count": 197,
   "metadata": {},
   "outputs": [],
   "source": [
    "from sklearn.preprocessing import OneHotEncoder, StandardScaler\n",
    "\n",
    "stnd_scaler = StandardScaler()"
   ]
  },
  {
   "cell_type": "code",
   "execution_count": 198,
   "metadata": {},
   "outputs": [],
   "source": [
    "cat_encoder = OneHotEncoder()"
   ]
  },
  {
   "cell_type": "code",
   "execution_count": 199,
   "metadata": {},
   "outputs": [],
   "source": [
    "attr_adder = CombinedAttributesAdder(add_bedrooms_per_room = True)"
   ]
  },
  {
   "cell_type": "code",
   "execution_count": 200,
   "metadata": {},
   "outputs": [],
   "source": [
    "num_pipeline = Pipeline(\n",
    "    [\n",
    "        (\"imputer\", imputer),\n",
    "        (\"attribs_adder\", attr_adder),\n",
    "        (\"std_scaler\", stnd_scaler),\n",
    "    ]\n",
    ")\n",
    "\n",
    "features_transformer = ColumnTransformer(\n",
    "    [\n",
    "        (\"num\", num_pipeline, num_columns),\n",
    "        (\"cat\", cat_encoder, cat_columns),\n",
    "    ]\n",
    ")\n"
   ]
  },
  {
   "cell_type": "markdown",
   "metadata": {},
   "source": [
    "#### Encoding\n"
   ]
  },
  {
   "cell_type": "markdown",
   "metadata": {},
   "source": [
    "Some sample pipelines showcasing how to create column specific pipelines and integrating them overall is presented below\n",
    "\n",
    "- Commonly target encoding is done for categorical variables with too many levels.\n",
    "- We also group sparse levels. For fewer levels one hot encoding/label encoding is preferred.\n",
    "- If there is one dominant level, we can use binary encoding.\n",
    "- This will go into production code"
   ]
  },
  {
   "cell_type": "code",
   "execution_count": 201,
   "metadata": {},
   "outputs": [],
   "source": [
    "# tgt_enc_simple_impt = Pipeline([\n",
    "#     ('target_encoding', TargetEncoder(return_df=False)),\n",
    "#     ('simple_impute', SimpleImputer(strategy='most_frequent')),\n",
    "# ])\n",
    "\n",
    "\n",
    "# # NOTE: the list of transformations here are not sequential but weighted \n",
    "# # (if multiple transforms are specified for a particular column)\n",
    "# # for sequential transforms use a pipeline as shown above.\n",
    "# features_transformer = ColumnTransformer([\n",
    "    \n",
    "#     ## categorical columns\n",
    "#     ('tgt_enc', TargetEncoder(return_df=False),\n",
    "#      list(set(cat_columns) - set(['technology', 'functional_status', 'platforms']))),\n",
    "    \n",
    "#     # NOTE: if the same column gets repeated, then they are weighed in the final output\n",
    "#     # If we want a sequence of operations, then we use a pipeline but that doesen't YET support\n",
    "#     # get_feature_names. \n",
    "#     ('tgt_enc_sim_impt', tgt_enc_simple_impt, ['technology', 'functional_status', 'platforms']),\n",
    "        \n",
    "#     ## numeric columns\n",
    "#     ('med_enc', SimpleImputer(strategy='median'), num_columns),\n",
    "    \n",
    "# ])\n"
   ]
  },
  {
   "cell_type": "markdown",
   "metadata": {},
   "source": [
    "**Dev notes(Encoding):**\n",
    "<details>\n",
    "\n",
    "    Some common practices followed in Categorical Feature Encoding are\n",
    "    * For categorical variables with too many levels, target encoding can be done.\n",
    "    * For fewer levels, one hot encoding can be done.\n",
    "    * If one very dominant level is observed, binary encoding can be used.\n",
    "    \n",
    "    \n",
    "</details>"
   ]
  },
  {
   "cell_type": "markdown",
   "metadata": {},
   "source": [
    "## 3.2 Feature analysis\n",
    "\n",
    "Using the pipeline above analyze the features and decide on additional features to add/remove from the pipeline. This section will not be part of the production code, unless input data drifts etc. are explicitly demanded in the project.\n",
    "\n",
    "Here we are primarily focused on feature selection/elimination based on business rules, prior knowledge, data analysis.\n",
    "\n",
    "**We are not building any models at this point.**\n"
   ]
  },
  {
   "cell_type": "markdown",
   "metadata": {},
   "source": [
    "- we create some sample data to analyze that we assume represent the population\n",
    "- train the features transformer and do the analysis as below"
   ]
  },
  {
   "cell_type": "code",
   "execution_count": 202,
   "metadata": {},
   "outputs": [],
   "source": [
    "rooms_ix, bedrooms_ix, population_ix, households_ix = 3, 4, 5, 6"
   ]
  },
  {
   "cell_type": "code",
   "execution_count": 203,
   "metadata": {},
   "outputs": [],
   "source": [
    "sample_X = train_X.sample(frac=0.1, random_state=context.random_seed)\n",
    "sample_y = train_y.loc[sample_X.index]\n",
    "\n",
    "sample_train_X = get_dataframe(\n",
    "    features_transformer.fit_transform(sample_X, sample_y), \n",
    "    get_feature_names_from_column_transformer(features_transformer)\n",
    ")\n",
    "\n",
    "# nothing to do for target\n",
    "sample_train_y = sample_y"
   ]
  },
  {
   "cell_type": "markdown",
   "metadata": {},
   "source": [
    "Running the features transformer on the complete data"
   ]
  },
  {
   "cell_type": "code",
   "execution_count": 204,
   "metadata": {},
   "outputs": [
    {
     "data": {
      "text/html": [
       "<div>\n",
       "<style scoped>\n",
       "    .dataframe tbody tr th:only-of-type {\n",
       "        vertical-align: middle;\n",
       "    }\n",
       "\n",
       "    .dataframe tbody tr th {\n",
       "        vertical-align: top;\n",
       "    }\n",
       "\n",
       "    .dataframe thead th {\n",
       "        text-align: right;\n",
       "    }\n",
       "</style>\n",
       "<table border=\"1\" class=\"dataframe\">\n",
       "  <thead>\n",
       "    <tr style=\"text-align: right;\">\n",
       "      <th></th>\n",
       "      <th>longitude</th>\n",
       "      <th>latitude</th>\n",
       "      <th>housing_median_age</th>\n",
       "      <th>total_rooms</th>\n",
       "      <th>total_bedrooms</th>\n",
       "      <th>population</th>\n",
       "      <th>households</th>\n",
       "      <th>median_income</th>\n",
       "      <th>ocean_proximity</th>\n",
       "    </tr>\n",
       "  </thead>\n",
       "  <tbody>\n",
       "    <tr>\n",
       "      <th>0</th>\n",
       "      <td>-118.04</td>\n",
       "      <td>33.99</td>\n",
       "      <td>47.0</td>\n",
       "      <td>2530.0</td>\n",
       "      <td>565.0</td>\n",
       "      <td>1262.0</td>\n",
       "      <td>509.0</td>\n",
       "      <td>3.6475</td>\n",
       "      <td>1H OCEAN</td>\n",
       "    </tr>\n",
       "    <tr>\n",
       "      <th>1</th>\n",
       "      <td>-122.20</td>\n",
       "      <td>37.82</td>\n",
       "      <td>37.0</td>\n",
       "      <td>1229.0</td>\n",
       "      <td>181.0</td>\n",
       "      <td>420.0</td>\n",
       "      <td>176.0</td>\n",
       "      <td>7.0175</td>\n",
       "      <td>NEAR BAY</td>\n",
       "    </tr>\n",
       "    <tr>\n",
       "      <th>2</th>\n",
       "      <td>-118.25</td>\n",
       "      <td>34.09</td>\n",
       "      <td>52.0</td>\n",
       "      <td>3142.0</td>\n",
       "      <td>765.0</td>\n",
       "      <td>1728.0</td>\n",
       "      <td>682.0</td>\n",
       "      <td>3.1864</td>\n",
       "      <td>1H OCEAN</td>\n",
       "    </tr>\n",
       "    <tr>\n",
       "      <th>3</th>\n",
       "      <td>-117.99</td>\n",
       "      <td>33.70</td>\n",
       "      <td>25.0</td>\n",
       "      <td>2017.0</td>\n",
       "      <td>357.0</td>\n",
       "      <td>1063.0</td>\n",
       "      <td>369.0</td>\n",
       "      <td>4.0345</td>\n",
       "      <td>1H OCEAN</td>\n",
       "    </tr>\n",
       "    <tr>\n",
       "      <th>4</th>\n",
       "      <td>-120.88</td>\n",
       "      <td>37.52</td>\n",
       "      <td>2.0</td>\n",
       "      <td>1871.0</td>\n",
       "      <td>409.0</td>\n",
       "      <td>707.0</td>\n",
       "      <td>256.0</td>\n",
       "      <td>2.6103</td>\n",
       "      <td>INLAND</td>\n",
       "    </tr>\n",
       "  </tbody>\n",
       "</table>\n",
       "</div>"
      ],
      "text/plain": [
       "   longitude  latitude  housing_median_age  total_rooms  total_bedrooms  \\\n",
       "0    -118.04     33.99                47.0       2530.0           565.0   \n",
       "1    -122.20     37.82                37.0       1229.0           181.0   \n",
       "2    -118.25     34.09                52.0       3142.0           765.0   \n",
       "3    -117.99     33.70                25.0       2017.0           357.0   \n",
       "4    -120.88     37.52                 2.0       1871.0           409.0   \n",
       "\n",
       "   population  households  median_income ocean_proximity  \n",
       "0      1262.0       509.0         3.6475        1H OCEAN  \n",
       "1       420.0       176.0         7.0175        NEAR BAY  \n",
       "2      1728.0       682.0         3.1864        1H OCEAN  \n",
       "3      1063.0       369.0         4.0345        1H OCEAN  \n",
       "4       707.0       256.0         2.6103          INLAND  "
      ]
     },
     "execution_count": 204,
     "metadata": {},
     "output_type": "execute_result"
    }
   ],
   "source": [
    "train_X.head()"
   ]
  },
  {
   "cell_type": "code",
   "execution_count": 205,
   "metadata": {},
   "outputs": [
    {
     "data": {
      "text/html": [
       "<div>\n",
       "<style scoped>\n",
       "    .dataframe tbody tr th:only-of-type {\n",
       "        vertical-align: middle;\n",
       "    }\n",
       "\n",
       "    .dataframe tbody tr th {\n",
       "        vertical-align: top;\n",
       "    }\n",
       "\n",
       "    .dataframe thead th {\n",
       "        text-align: right;\n",
       "    }\n",
       "</style>\n",
       "<table border=\"1\" class=\"dataframe\">\n",
       "  <thead>\n",
       "    <tr style=\"text-align: right;\">\n",
       "      <th></th>\n",
       "      <th>num_x0</th>\n",
       "      <th>num_x1</th>\n",
       "      <th>num_x2</th>\n",
       "      <th>num_x3</th>\n",
       "      <th>num_x4</th>\n",
       "      <th>num_x5</th>\n",
       "      <th>num_x6</th>\n",
       "      <th>num_x7</th>\n",
       "      <th>num_x8</th>\n",
       "      <th>num_x9</th>\n",
       "      <th>num_x10</th>\n",
       "      <th>ocean_proximity_1H OCEAN</th>\n",
       "      <th>ocean_proximity_INLAND</th>\n",
       "      <th>ocean_proximity_NEAR BAY</th>\n",
       "      <th>ocean_proximity_NEAR OCEAN</th>\n",
       "    </tr>\n",
       "  </thead>\n",
       "  <tbody>\n",
       "    <tr>\n",
       "      <th>0</th>\n",
       "      <td>0.175809</td>\n",
       "      <td>0.267753</td>\n",
       "      <td>-1.022622</td>\n",
       "      <td>0.141599</td>\n",
       "      <td>-0.025416</td>\n",
       "      <td>0.261785</td>\n",
       "      <td>0.112135</td>\n",
       "      <td>-0.043140</td>\n",
       "      <td>-0.024011</td>\n",
       "      <td>0.231115</td>\n",
       "      <td>-0.438588</td>\n",
       "      <td>0.0</td>\n",
       "      <td>1.0</td>\n",
       "      <td>0.0</td>\n",
       "      <td>0.0</td>\n",
       "    </tr>\n",
       "    <tr>\n",
       "      <th>1</th>\n",
       "      <td>-1.312558</td>\n",
       "      <td>0.937522</td>\n",
       "      <td>1.814410</td>\n",
       "      <td>-0.491983</td>\n",
       "      <td>-0.121471</td>\n",
       "      <td>-0.585811</td>\n",
       "      <td>-0.096872</td>\n",
       "      <td>-0.630365</td>\n",
       "      <td>-0.846261</td>\n",
       "      <td>-1.261343</td>\n",
       "      <td>0.952592</td>\n",
       "      <td>0.0</td>\n",
       "      <td>0.0</td>\n",
       "      <td>1.0</td>\n",
       "      <td>0.0</td>\n",
       "    </tr>\n",
       "    <tr>\n",
       "      <th>2</th>\n",
       "      <td>1.151461</td>\n",
       "      <td>-0.725351</td>\n",
       "      <td>-1.810686</td>\n",
       "      <td>1.779600</td>\n",
       "      <td>2.224593</td>\n",
       "      <td>1.716220</td>\n",
       "      <td>2.135705</td>\n",
       "      <td>-0.102610</td>\n",
       "      <td>-0.277947</td>\n",
       "      <td>-0.448829</td>\n",
       "      <td>0.190729</td>\n",
       "      <td>0.0</td>\n",
       "      <td>1.0</td>\n",
       "      <td>0.0</td>\n",
       "      <td>0.0</td>\n",
       "    </tr>\n",
       "    <tr>\n",
       "      <th>3</th>\n",
       "      <td>1.280885</td>\n",
       "      <td>-0.402015</td>\n",
       "      <td>-1.180235</td>\n",
       "      <td>0.449767</td>\n",
       "      <td>0.280213</td>\n",
       "      <td>0.411296</td>\n",
       "      <td>0.219805</td>\n",
       "      <td>-0.124012</td>\n",
       "      <td>0.294904</td>\n",
       "      <td>0.297433</td>\n",
       "      <td>-0.408950</td>\n",
       "      <td>0.0</td>\n",
       "      <td>1.0</td>\n",
       "      <td>0.0</td>\n",
       "      <td>0.0</td>\n",
       "    </tr>\n",
       "    <tr>\n",
       "      <th>4</th>\n",
       "      <td>0.096164</td>\n",
       "      <td>0.341659</td>\n",
       "      <td>-0.155751</td>\n",
       "      <td>-0.586273</td>\n",
       "      <td>-0.313580</td>\n",
       "      <td>0.354130</td>\n",
       "      <td>-0.293213</td>\n",
       "      <td>-1.508549</td>\n",
       "      <td>-0.759690</td>\n",
       "      <td>1.695479</td>\n",
       "      <td>0.771074</td>\n",
       "      <td>0.0</td>\n",
       "      <td>1.0</td>\n",
       "      <td>0.0</td>\n",
       "      <td>0.0</td>\n",
       "    </tr>\n",
       "  </tbody>\n",
       "</table>\n",
       "</div>"
      ],
      "text/plain": [
       "     num_x0    num_x1    num_x2    num_x3    num_x4    num_x5    num_x6  \\\n",
       "0  0.175809  0.267753 -1.022622  0.141599 -0.025416  0.261785  0.112135   \n",
       "1 -1.312558  0.937522  1.814410 -0.491983 -0.121471 -0.585811 -0.096872   \n",
       "2  1.151461 -0.725351 -1.810686  1.779600  2.224593  1.716220  2.135705   \n",
       "3  1.280885 -0.402015 -1.180235  0.449767  0.280213  0.411296  0.219805   \n",
       "4  0.096164  0.341659 -0.155751 -0.586273 -0.313580  0.354130 -0.293213   \n",
       "\n",
       "     num_x7    num_x8    num_x9   num_x10  ocean_proximity_1H OCEAN  \\\n",
       "0 -0.043140 -0.024011  0.231115 -0.438588                       0.0   \n",
       "1 -0.630365 -0.846261 -1.261343  0.952592                       0.0   \n",
       "2 -0.102610 -0.277947 -0.448829  0.190729                       0.0   \n",
       "3 -0.124012  0.294904  0.297433 -0.408950                       0.0   \n",
       "4 -1.508549 -0.759690  1.695479  0.771074                       0.0   \n",
       "\n",
       "   ocean_proximity_INLAND  ocean_proximity_NEAR BAY  \\\n",
       "0                     1.0                       0.0   \n",
       "1                     0.0                       1.0   \n",
       "2                     1.0                       0.0   \n",
       "3                     1.0                       0.0   \n",
       "4                     1.0                       0.0   \n",
       "\n",
       "   ocean_proximity_NEAR OCEAN  \n",
       "0                         0.0  \n",
       "1                         0.0  \n",
       "2                         0.0  \n",
       "3                         0.0  \n",
       "4                         0.0  "
      ]
     },
     "execution_count": 205,
     "metadata": {},
     "output_type": "execute_result"
    }
   ],
   "source": [
    "sample_train_X.head()"
   ]
  },
  {
   "cell_type": "code",
   "execution_count": 206,
   "metadata": {},
   "outputs": [
    {
     "data": {
      "text/plain": [
       "['ocean_proximity_1H OCEAN',\n",
       " 'ocean_proximity_INLAND',\n",
       " 'ocean_proximity_NEAR BAY',\n",
       " 'ocean_proximity_NEAR OCEAN']"
      ]
     },
     "execution_count": 206,
     "metadata": {},
     "output_type": "execute_result"
    }
   ],
   "source": [
    "list(sample_train_X.columns)[11:]"
   ]
  },
  {
   "cell_type": "code",
   "execution_count": 207,
   "metadata": {},
   "outputs": [],
   "source": [
    "col_list = list(train_X.columns) + ['rooms_per_household', 'population_per_household', 'bedrooms_per_room']"
   ]
  },
  {
   "cell_type": "code",
   "execution_count": 208,
   "metadata": {},
   "outputs": [
    {
     "data": {
      "text/plain": [
       "longitude               0\n",
       "latitude                0\n",
       "housing_median_age      0\n",
       "total_rooms             0\n",
       "total_bedrooms        158\n",
       "population              0\n",
       "households              0\n",
       "median_income           0\n",
       "ocean_proximity         0\n",
       "dtype: int64"
      ]
     },
     "execution_count": 208,
     "metadata": {},
     "output_type": "execute_result"
    }
   ],
   "source": [
    "train_X.isnull().sum()"
   ]
  },
  {
   "cell_type": "code",
   "execution_count": 209,
   "metadata": {},
   "outputs": [],
   "source": [
    "train_X = get_dataframe(\n",
    "    features_transformer.fit_transform(train_X, train_y), \n",
    "    get_feature_names_from_column_transformer(features_transformer)\n",
    ")"
   ]
  },
  {
   "cell_type": "code",
   "execution_count": 210,
   "metadata": {},
   "outputs": [
    {
     "data": {
      "text/plain": [
       "num_x0                        0\n",
       "num_x1                        0\n",
       "num_x2                        0\n",
       "num_x3                        0\n",
       "num_x4                        0\n",
       "num_x5                        0\n",
       "num_x6                        0\n",
       "num_x7                        0\n",
       "num_x8                        0\n",
       "num_x9                        0\n",
       "num_x10                       0\n",
       "ocean_proximity_1H OCEAN      0\n",
       "ocean_proximity_INLAND        0\n",
       "ocean_proximity_ISLAND        0\n",
       "ocean_proximity_NEAR BAY      0\n",
       "ocean_proximity_NEAR OCEAN    0\n",
       "dtype: int64"
      ]
     },
     "execution_count": 210,
     "metadata": {},
     "output_type": "execute_result"
    }
   ],
   "source": [
    "train_X.isnull().sum()"
   ]
  },
  {
   "cell_type": "markdown",
   "metadata": {},
   "source": [
    "### 3.2.1 Univariate\n",
    "\n",
    "\n",
    "- Look at each variable independently. This is useful if your models have assumptions on the distribution and/or bounds on the features/target"
   ]
  },
  {
   "cell_type": "code",
   "execution_count": 211,
   "metadata": {},
   "outputs": [
    {
     "data": {},
     "metadata": {},
     "output_type": "display_data"
    },
    {
     "data": {
      "application/vnd.holoviews_exec.v0+json": "",
      "text/html": [
       "<div id='76812'>\n",
       "  <div class=\"bk-root\" id=\"dc091984-6565-4d88-a450-b9c2f13d5929\" data-root-id=\"76812\"></div>\n",
       "</div>\n",
       "<script type=\"application/javascript\">(function(root) {\n",
       "  function embed_document(root) {\n",
       "    var docs_json = {\"a28ada46-c5c2-494d-b786-63682612e1f6\":{\"defs\":[{\"extends\":null,\"module\":null,\"name\":\"ReactiveHTML1\",\"overrides\":[],\"properties\":[]},{\"extends\":null,\"module\":null,\"name\":\"FlexBox1\",\"overrides\":[],\"properties\":[{\"default\":\"flex-start\",\"kind\":null,\"name\":\"align_content\"},{\"default\":\"flex-start\",\"kind\":null,\"name\":\"align_items\"},{\"default\":\"row\",\"kind\":null,\"name\":\"flex_direction\"},{\"default\":\"wrap\",\"kind\":null,\"name\":\"flex_wrap\"},{\"default\":\"flex-start\",\"kind\":null,\"name\":\"justify_content\"}]},{\"extends\":null,\"module\":null,\"name\":\"GridStack1\",\"overrides\":[],\"properties\":[{\"default\":\"warn\",\"kind\":null,\"name\":\"mode\"},{\"default\":null,\"kind\":null,\"name\":\"ncols\"},{\"default\":null,\"kind\":null,\"name\":\"nrows\"},{\"default\":true,\"kind\":null,\"name\":\"allow_resize\"},{\"default\":true,\"kind\":null,\"name\":\"allow_drag\"},{\"default\":[],\"kind\":null,\"name\":\"state\"}]},{\"extends\":null,\"module\":null,\"name\":\"click1\",\"overrides\":[],\"properties\":[{\"default\":\"\",\"kind\":null,\"name\":\"terminal_output\"},{\"default\":\"\",\"kind\":null,\"name\":\"debug_name\"},{\"default\":0,\"kind\":null,\"name\":\"clears\"}]},{\"extends\":null,\"module\":null,\"name\":\"NotificationAreaBase1\",\"overrides\":[],\"properties\":[{\"default\":\"bottom-right\",\"kind\":null,\"name\":\"position\"},{\"default\":0,\"kind\":null,\"name\":\"_clear\"}]},{\"extends\":null,\"module\":null,\"name\":\"NotificationArea1\",\"overrides\":[],\"properties\":[{\"default\":[],\"kind\":null,\"name\":\"notifications\"},{\"default\":\"bottom-right\",\"kind\":null,\"name\":\"position\"},{\"default\":0,\"kind\":null,\"name\":\"_clear\"},{\"default\":[{\"background\":\"#ffc107\",\"icon\":{\"className\":\"fas fa-exclamation-triangle\",\"color\":\"white\",\"tagName\":\"i\"},\"type\":\"warning\"},{\"background\":\"#007bff\",\"icon\":{\"className\":\"fas fa-info-circle\",\"color\":\"white\",\"tagName\":\"i\"},\"type\":\"info\"}],\"kind\":null,\"name\":\"types\"}]},{\"extends\":null,\"module\":null,\"name\":\"Notification\",\"overrides\":[],\"properties\":[{\"default\":null,\"kind\":null,\"name\":\"background\"},{\"default\":3000,\"kind\":null,\"name\":\"duration\"},{\"default\":null,\"kind\":null,\"name\":\"icon\"},{\"default\":\"\",\"kind\":null,\"name\":\"message\"},{\"default\":null,\"kind\":null,\"name\":\"notification_type\"},{\"default\":false,\"kind\":null,\"name\":\"_destroyed\"}]},{\"extends\":null,\"module\":null,\"name\":\"TemplateActions1\",\"overrides\":[],\"properties\":[{\"default\":0,\"kind\":null,\"name\":\"open_modal\"},{\"default\":0,\"kind\":null,\"name\":\"close_modal\"}]},{\"extends\":null,\"module\":null,\"name\":\"MaterialTemplateActions1\",\"overrides\":[],\"properties\":[{\"default\":0,\"kind\":null,\"name\":\"open_modal\"},{\"default\":0,\"kind\":null,\"name\":\"close_modal\"}]}],\"roots\":{\"references\":[{\"attributes\":{\"source\":{\"id\":\"76981\"}},\"id\":\"77025\",\"type\":\"CDSView\"},{\"attributes\":{\"client_comm_id\":\"d42db9b3fcd944bbba351bac717fc02f\",\"comm_id\":\"2a64af42e9c547e8bcedb6adf308fb6f\",\"plot_id\":\"76812\"},\"id\":\"77290\",\"type\":\"panel.models.comm_manager.CommManager\"},{\"attributes\":{\"bottom_units\":\"screen\",\"coordinates\":null,\"fill_alpha\":0.5,\"fill_color\":\"lightgrey\",\"group\":null,\"left_units\":\"screen\",\"level\":\"overlay\",\"line_alpha\":1.0,\"line_color\":\"black\",\"line_dash\":[4,4],\"line_width\":2,\"right_units\":\"screen\",\"syncable\":false,\"top_units\":\"screen\"},\"id\":\"76842\",\"type\":\"BoxAnnotation\"},{\"attributes\":{},\"id\":\"76880\",\"type\":\"BasicTicker\"},{\"attributes\":{},\"id\":\"76854\",\"type\":\"BasicTickFormatter\"},{\"attributes\":{\"margin\":[5,5,5,5],\"name\":\"HSpacer185547\",\"sizing_mode\":\"stretch_width\"},\"id\":\"77238\",\"type\":\"Spacer\"},{\"attributes\":{\"below\":[{\"id\":\"76829\"}],\"center\":[{\"id\":\"76832\"},{\"id\":\"76836\"}],\"extra_y_ranges\":{\"twiny\":{\"id\":\"76874\"}},\"height\":300,\"left\":[{\"id\":\"76833\"}],\"margin\":null,\"min_border_bottom\":10,\"min_border_left\":10,\"min_border_right\":10,\"min_border_top\":10,\"renderers\":[{\"id\":\"76862\"},{\"id\":\"76871\"}],\"right\":[{\"id\":\"76875\"}],\"sizing_mode\":\"fixed\",\"title\":{\"id\":\"76821\"},\"toolbar\":{\"id\":\"76843\"},\"toolbar_location\":null,\"x_range\":{\"id\":\"76817\"},\"x_scale\":{\"id\":\"76825\"},\"y_range\":{\"id\":\"76818\"},\"y_scale\":{\"id\":\"76827\"}},\"id\":\"76820\",\"subtype\":\"Figure\",\"type\":\"Plot\"},{\"attributes\":{},\"id\":\"77181\",\"type\":\"NumberEditor\"},{\"attributes\":{\"children\":[{\"id\":\"76815\"},{\"id\":\"77233\"}],\"margin\":[0,0,0,0],\"name\":\"Column185546\"},\"id\":\"76814\",\"type\":\"Column\"},{\"attributes\":{\"editor\":{\"id\":\"77191\"},\"field\":\"min\",\"formatter\":{\"id\":\"77190\"},\"title\":\"min\"},\"id\":\"77192\",\"type\":\"TableColumn\"},{\"attributes\":{\"format\":\"0,0.0[00000]\"},\"id\":\"77180\",\"type\":\"NumberFormatter\"},{\"attributes\":{\"axis_label\":\"num_x0_density, y\",\"coordinates\":null,\"formatter\":{\"id\":\"76881\"},\"group\":null,\"major_label_policy\":{\"id\":\"76882\"},\"ticker\":{\"id\":\"76880\"},\"y_range_name\":\"twiny\"},\"id\":\"76875\",\"type\":\"LinearAxis\"},{\"attributes\":{\"data\":{\"left\":{\"__ndarray__\":\"ulPoGAYcA8BJUnF97xoBwLCh9MOxM/6/zp4GjYQx+r/smxhWVy/2vwqZKh8qLfK/UCx50PlV7L+MJp1in1Hkv5BBgumJmti/EGyUG6ojwb8AVrc3f9u9PwjhpamUf9c/SPauwiTE4z8M/Iowf8jrP+iAM89s5vE/yoMhBpro9T+shg89x+r5P4yJ/XP07P0/OMZ11ZD3AECqx+xwp/gCQA==\",\"dtype\":\"float64\",\"order\":\"little\",\"shape\":[20]},\"right\":{\"__ndarray__\":\"SVJxfe8aAcCwofTDsTP+v86eBo2EMfq/7JsYVlcv9r8KmSofKi3yv1AsedD5Vey/jCadYp9R5L+QQYLpiZrYvxBslBuqI8G/AFa3N3/bvT8I4aWplH/XP0j2rsIkxOM/DPyKMH/I6z/ogDPPbObxP8qDIQaa6PU/rIYPPcfq+T+Mif1z9Oz9PzjGddWQ9wBAqsfscKf4AkAZyWMMvvkEQA==\",\"dtype\":\"float64\",\"order\":\"little\",\"shape\":[20]},\"top\":[103,46,118,1132,2577,1074,890,417,283,607,610,1669,3978,1041,1686,106,67,82,4,22]},\"selected\":{\"id\":\"76857\"},\"selection_policy\":{\"id\":\"76886\"}},\"id\":\"76856\",\"type\":\"ColumnDataSource\"},{\"attributes\":{\"data\":{\"x\":{\"__ndarray__\":\"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\",\"dtype\":\"float64\",\"order\":\"little\",\"shape\":[200]},\"y\":{\"__ndarray__\":\"AAAAAAAAAAAAAAAAAAAAAAAAAAAAAAAAAAAAAAAAAAAAAAAAAAAAAAAAAAAAAAAAAAAAAAAAAAAAAAAAAAAAAAAAAAAAAAAAAAAAAAAAAAAAAAAAAAAAAAAAAAAAAAAAAAAAAAAAAAAAAAAAAAAAAAAAAAAAAAAAAAAAAAAAAAAAAAAAAAAAAAAAAAAAAAAAAAAAAAAAAAAAAAAAAAAAAAAAAAAAAAAAAAAAAAAAAAAAAAAAAAAAAAAAAAAAAAAAAAAAAAAAAAAAAAAAAAAAAAAAAAAAAAAAAAAAAAAAAAAAAAAAAAAAAAAAAAAAAAAAAAAAAAAAAAAAAAAAAAAAAAAAAAAAAAAAAAAAAAAAAAAAAAAAAAAAAAAAAAAAAAAAAAAAAAAAAAAAAAAAAAAAAAAAAAAAAAAAAAAAAAAAAAAAAAAAAAAAAAAAAAAAAAAAAAAAAAAAAAAAAAAAAAAAAAAAAAAAAAAAAAAAAAAAAAAAAAAAAAAAAAAAAAAAAAAAAAAAAAAAAAAAAAAAAAAAAAAAAAAAAAAAAAAAAAAAAAAAAAAAAAAAAAAAAAAAAAAAAAAAAAAAAAAAAAAAAAAAAAAAAAAAAAAAAAAAAAAAAAAAAAAAAAAAAAAAAAAAAAAAAAAAAAAAAAAAAAAAAAAAAAAAAAAAAAAAAAAAAAAAAAAAAAAAAAAAAAAAAAAAAAAAAAAAAAAAAAAAAAAAAAAAAAAAAAAAAAAAAAAAAAAAAAAAAAAAAAAAAAAAAAAAAAAAAAAAAAAAAAAAAAAAAAAAAAAAAAAAAAAAAAAAAAAAAAAAAAAAAAAAAAAAAAAAAAAAAAAAAAAAAAAAAAAAAAAAAAAAAAAAAAAAAAAAAAAAAAAAAAAAAAAAAAAAAAAAAAAAAAAAAAAAAAAAAAAAAAAAAAAAAAAAAAAAAAAAAAAAAAAAAAAAAAAAAAAAAAAAAAAAAAAAAAAAAAAAAAAAAAAAAAAAAAAAAAAAAAAAAAAAAAAAAAAAAAAAAAAAAAAAAAAAAAAAAAAAAAAAAAAAAAAAAAAAAAAAAAAAAAAAAAAAAACWcUoOY4TMPnjFeJps7+o+uLaHZVQ4Bj8t34e90wMgP3pjj+ufIzQ/ODGyERYIRj/P6CkUNeZUP9sA8sskJWE/kqpuMFBPaD99eDCvKOZtP5bxCZLiL3A/udbcd0YYcD8869SCVChwP8cTYKFFk3I/Hwl9Q5YUeT+YzfZB1dGBP1aF1dsr74c/vdYMTmQAjT9+0pl6o6aPP08iNP+jDZA/LYPGI2ETkD8JexI7pvaQP0mnuKSjW5M/EJkWAUWIlz8ZSdIKCFSeP9+4KrPTOKU/GkWETvs2sD/euaaMRsG5P730vCRU08M/yHwSDw0qzD/MOX609xDSP6xnLGSG7tQ/7KCLQtNV1j96/YBRc+PWP5VJIPjl59c/aWwsR2as2j9EIP3ssLffP1P3Hqy2O+M/EQ4RAUOw5j9J3qf56zPpP3wf09cj2+k/nWY8BlA46D+g8L8Wj5zkP7TUBG2iAOA/JeTDF9gj1z+eU8aJI1LQP7OMetrkEMg/kH3V0VmRwz+8gmLBD4LBPwEnv0G2p8A/1EHYO25xwD94ijh6z53AP0Wp+5BZ1MA/V/1zb06fwD/kqmvdhXa/P7cLu5F/r7w/Cwpb5Pn3uT9iwAPPgFO4P3dDq6zOLrg/ZTtmVu5quT8mk2mZCMu7PydEwTOtSr8/eKtSbAAMwj8SZ9jZ+yLFP6O5+Hqzvcg/XBsI1Wx3zD9FcSojaPLPPxRFZpdtntE/MYxG1tF80z8hDXyvjfvVP8oMCWiDMtk/CTXKvRGq3D/COwbe+XvfP9qWtXqLXeA/jG3aBNjW3z85ccDXWMvcP2W/3Nj3HNg/PkXvYvCq0j9iQ01/3cjKP16oyn4F98E//v7/D1Tvtj+Wa9ZFUKisP7cVN+okLKI/jy9WhLVVmD+1rRq6A+iRP/2Nsl55JI4/d1N1P6aHjT8GIM/udiuQP1gKzjeqOZI/MkNwfzCXkz+sjyFJLhyTPxiVpUnecZA/z2Vuv+STiD/5aVMRFZ5/P3q41rrVanE/+XpPkp5jYD+Mf4tP/E1KP6It6Hgm/jE/Y3Z4Wcr6FD+HCfUsOdv0Pg==\",\"dtype\":\"float64\",\"order\":\"little\",\"shape\":[200]}},\"selected\":{\"id\":\"76866\"},\"selection_policy\":{\"id\":\"76888\"}},\"id\":\"76865\",\"type\":\"ColumnDataSource\"},{\"attributes\":{},\"id\":\"76857\",\"type\":\"Selection\"},{\"attributes\":{\"format\":\"0,0.0[00000]\"},\"id\":\"77200\",\"type\":\"NumberFormatter\"},{\"attributes\":{},\"id\":\"76982\",\"type\":\"Selection\"},{\"attributes\":{\"margin\":[5,5,5,5],\"name\":\"HSpacer185539\",\"sizing_mode\":\"stretch_width\"},\"id\":\"77234\",\"type\":\"Spacer\"},{\"attributes\":{\"margin\":[5,5,5,5],\"name\":\"HSpacer185542\",\"sizing_mode\":\"stretch_width\"},\"id\":\"76813\",\"type\":\"Spacer\"},{\"attributes\":{\"children\":[{\"id\":\"77048\"},{\"id\":\"77047\"}]},\"id\":\"77049\",\"type\":\"Column\"},{\"attributes\":{\"children\":[{\"id\":\"76816\"},{\"id\":\"77049\"},{\"id\":\"77232\"}],\"margin\":[0,0,0,0],\"name\":\"Row185545\"},\"id\":\"76815\",\"type\":\"Row\"},{\"attributes\":{\"margin\":[5,5,5,5],\"name\":\"HSpacer185543\",\"sizing_mode\":\"stretch_width\"},\"id\":\"76816\",\"type\":\"Spacer\"},{\"attributes\":{\"end\":3.3455913978388807,\"reset_end\":3.3455913978388807,\"reset_start\":-3.1123303827048763,\"start\":-3.1123303827048763,\"tags\":[[[\"x\",\"x\",null]]]},\"id\":\"76817\",\"type\":\"Range1d\"},{\"attributes\":{\"coordinates\":null,\"data_source\":{\"id\":\"76865\"},\"glyph\":{\"id\":\"76868\"},\"group\":null,\"hover_glyph\":null,\"muted_glyph\":{\"id\":\"76870\"},\"nonselection_glyph\":{\"id\":\"76869\"},\"selection_glyph\":{\"id\":\"76873\"},\"view\":{\"id\":\"76872\"},\"y_range_name\":\"twiny\"},\"id\":\"76871\",\"type\":\"GlyphRenderer\"},{\"attributes\":{\"children\":[[{\"id\":\"76820\"},0,0],[{\"id\":\"77023\"},1,0]]},\"id\":\"77044\",\"type\":\"GridBox\"},{\"attributes\":{\"callback\":null,\"renderers\":[{\"id\":\"76871\"}],\"tags\":[\"hv_created\"],\"tooltips\":[[\"num_x0\",\"@{num_x0}\"],[\"Density\",\"@{num_x0_density}\"]]},\"id\":\"76819\",\"type\":\"HoverTool\"},{\"attributes\":{\"editor\":{\"id\":\"77196\"},\"field\":\"A_25_percent\",\"formatter\":{\"id\":\"77195\"},\"title\":\"25%\"},\"id\":\"77197\",\"type\":\"TableColumn\"},{\"attributes\":{},\"id\":\"77186\",\"type\":\"NumberEditor\"},{\"attributes\":{\"tools\":[{\"id\":\"76819\"},{\"id\":\"76837\"},{\"id\":\"76838\"},{\"id\":\"76839\"},{\"id\":\"76840\"},{\"id\":\"76841\"}]},\"id\":\"76843\",\"type\":\"Toolbar\"},{\"attributes\":{\"end\":4017.78,\"reset_end\":4375.799999660049,\"reset_start\":0.0,\"tags\":[[[\"Frequency\",\"Frequency\",null]]]},\"id\":\"76818\",\"type\":\"Range1d\"},{\"attributes\":{},\"id\":\"76841\",\"type\":\"ResetTool\"},{\"attributes\":{\"bottom\":{\"value\":0},\"fill_alpha\":{\"value\":0.1},\"fill_color\":{\"value\":\"#00fff0\"},\"hatch_alpha\":{\"value\":0.1},\"hatch_color\":{\"value\":\"#00fff0\"},\"left\":{\"field\":\"left\"},\"line_alpha\":{\"value\":0.1},\"right\":{\"field\":\"right\"},\"top\":{\"field\":\"top\"}},\"id\":\"76860\",\"type\":\"Quad\"},{\"attributes\":{},\"id\":\"77176\",\"type\":\"NumberEditor\"},{\"attributes\":{\"editor\":{\"id\":\"77186\"},\"field\":\"std\",\"formatter\":{\"id\":\"77185\"},\"title\":\"std\"},\"id\":\"77187\",\"type\":\"TableColumn\"},{\"attributes\":{},\"id\":\"76838\",\"type\":\"PanTool\"},{\"attributes\":{\"overlay\":{\"id\":\"76842\"}},\"id\":\"76840\",\"type\":\"BoxZoomTool\"},{\"attributes\":{},\"id\":\"76834\",\"type\":\"BasicTicker\"},{\"attributes\":{},\"id\":\"76839\",\"type\":\"WheelZoomTool\"},{\"attributes\":{\"children\":[{\"id\":\"77234\"},{\"id\":\"77235\"},{\"id\":\"77237\"}],\"margin\":[0,0,0,0],\"name\":\"Row185541\"},\"id\":\"77233\",\"type\":\"Row\"},{\"attributes\":{\"data\":{\"A_25_percent\":{\"__ndarray__\":\"7FG4HoXr8b8=\",\"dtype\":\"float64\",\"order\":\"little\",\"shape\":[1]},\"A_50_percent\":{\"__ndarray__\":\"SOF6FK5H4T8=\",\"dtype\":\"float64\",\"order\":\"little\",\"shape\":[1]},\"A_75_percent\":{\"__ndarray__\":\"9ihcj8L16D8=\",\"dtype\":\"float64\",\"order\":\"little\",\"shape\":[1]},\"count\":{\"__ndarray__\":\"AAAAAAAg0EA=\",\"dtype\":\"float64\",\"order\":\"little\",\"shape\":[1]},\"max\":{\"__ndarray__\":\"9ihcj8L1BEA=\",\"dtype\":\"float64\",\"order\":\"little\",\"shape\":[1]},\"mean\":{\"__ndarray__\":\"AAAAAAAAAAA=\",\"dtype\":\"float64\",\"order\":\"little\",\"shape\":[1]},\"min\":{\"__ndarray__\":\"H4XrUbgeA8A=\",\"dtype\":\"float64\",\"order\":\"little\",\"shape\":[1]},\"std\":{\"__ndarray__\":\"AAAAAAAA8D8=\",\"dtype\":\"float64\",\"order\":\"little\",\"shape\":[1]}},\"selected\":{\"id\":\"76982\"},\"selection_policy\":{\"id\":\"77042\"}},\"id\":\"76981\",\"type\":\"ColumnDataSource\"},{\"attributes\":{},\"id\":\"76837\",\"type\":\"SaveTool\"},{\"attributes\":{\"editor\":{\"id\":\"77181\"},\"field\":\"mean\",\"formatter\":{\"id\":\"77180\"},\"title\":\"mean\"},\"id\":\"77182\",\"type\":\"TableColumn\"},{\"attributes\":{\"margin\":[20,20,20,20],\"min_width\":250,\"options\":[\"num_x0\",\"num_x1\",\"num_x2\",\"num_x3\",\"num_x4\",\"num_x5\",\"num_x6\",\"num_x7\",\"num_x8\",\"num_x9\",\"num_x10\"],\"title\":\"col\",\"value\":\"num_x0\",\"width\":250},\"id\":\"77236\",\"type\":\"panel.models.widgets.CustomSelect\"},{\"attributes\":{\"fill_alpha\":0.5,\"fill_color\":\"#30a2da\",\"hatch_color\":\"#30a2da\",\"x\":{\"field\":\"x\"},\"y\":{\"field\":\"y\"}},\"id\":\"76873\",\"type\":\"Patch\"},{\"attributes\":{\"children\":[{\"id\":\"77236\"}],\"css_classes\":[\"panel-widget-box\"],\"margin\":[5,5,5,5],\"name\":\"WidgetBox185534\"},\"id\":\"77235\",\"type\":\"Column\"},{\"attributes\":{\"axis\":{\"id\":\"76833\"},\"coordinates\":null,\"dimension\":1,\"grid_line_color\":null,\"group\":null,\"ticker\":null},\"id\":\"76836\",\"type\":\"Grid\"},{\"attributes\":{\"toolbar\":{\"id\":\"77045\"},\"toolbar_location\":\"above\"},\"id\":\"77046\",\"type\":\"ToolbarBox\"},{\"attributes\":{\"fill_alpha\":0.5,\"fill_color\":\"#30a2da\",\"hatch_alpha\":0.1,\"hatch_color\":\"#30a2da\",\"line_alpha\":1,\"x\":{\"field\":\"x\"},\"y\":{\"field\":\"y\"}},\"id\":\"76869\",\"type\":\"Patch\"},{\"attributes\":{},\"id\":\"77042\",\"type\":\"UnionRenderers\"},{\"attributes\":{\"coordinates\":null,\"data_source\":{\"id\":\"76856\"},\"glyph\":{\"id\":\"76859\"},\"group\":null,\"hover_glyph\":null,\"muted_glyph\":{\"id\":\"76861\"},\"nonselection_glyph\":{\"id\":\"76860\"},\"selection_glyph\":{\"id\":\"76864\"},\"view\":{\"id\":\"76863\"}},\"id\":\"76862\",\"type\":\"GlyphRenderer\"},{\"attributes\":{},\"id\":\"76881\",\"type\":\"BasicTickFormatter\"},{\"attributes\":{\"coordinates\":null,\"group\":null,\"text\":\"Density Plot for num_x0\",\"text_color\":\"black\",\"text_font_size\":\"12pt\"},\"id\":\"76821\",\"type\":\"Title\"},{\"attributes\":{\"margin\":[5,5,5,5],\"name\":\"HSpacer185544\",\"sizing_mode\":\"stretch_width\"},\"id\":\"77232\",\"type\":\"Spacer\"},{\"attributes\":{\"format\":\"0,0.0[00000]\"},\"id\":\"77210\",\"type\":\"NumberFormatter\"},{\"attributes\":{\"source\":{\"id\":\"76865\"}},\"id\":\"76872\",\"type\":\"CDSView\"},{\"attributes\":{},\"id\":\"76852\",\"type\":\"AllLabels\"},{\"attributes\":{},\"id\":\"76866\",\"type\":\"Selection\"},{\"attributes\":{\"axis_label\":\"num_x0\",\"coordinates\":null,\"formatter\":{\"id\":\"76851\"},\"group\":null,\"major_label_policy\":{\"id\":\"76852\"},\"ticker\":{\"id\":\"76830\"}},\"id\":\"76829\",\"type\":\"LinearAxis\"},{\"attributes\":{\"bottom\":{\"value\":0},\"fill_alpha\":{\"value\":1.0},\"fill_color\":{\"value\":\"#00fff0\"},\"hatch_alpha\":{\"value\":1.0},\"hatch_color\":{\"value\":\"#00fff0\"},\"hatch_scale\":{\"value\":12.0},\"hatch_weight\":{\"value\":1.0},\"left\":{\"field\":\"left\"},\"line_alpha\":{\"value\":1.0},\"line_cap\":{\"value\":\"butt\"},\"line_color\":{\"value\":\"black\"},\"line_dash\":{\"value\":[]},\"line_dash_offset\":{\"value\":0},\"line_join\":{\"value\":\"bevel\"},\"line_width\":{\"value\":1},\"right\":{\"field\":\"right\"},\"top\":{\"field\":\"top\"}},\"id\":\"76864\",\"type\":\"Quad\"},{\"attributes\":{\"fill_alpha\":0.5,\"fill_color\":\"#30a2da\",\"hatch_color\":\"#30a2da\",\"x\":{\"field\":\"x\"},\"y\":{\"field\":\"y\"}},\"id\":\"76868\",\"type\":\"Patch\"},{\"attributes\":{\"columns\":[{\"id\":\"77177\"},{\"id\":\"77182\"},{\"id\":\"77187\"},{\"id\":\"77192\"},{\"id\":\"77197\"},{\"id\":\"77202\"},{\"id\":\"77207\"},{\"id\":\"77212\"}],\"height\":60,\"reorderable\":false,\"source\":{\"id\":\"76981\"},\"view\":{\"id\":\"77025\"}},\"id\":\"77023\",\"type\":\"DataTable\"},{\"attributes\":{\"source\":{\"id\":\"76856\"}},\"id\":\"76863\",\"type\":\"CDSView\"},{\"attributes\":{\"format\":\"0,0.0[00000]\"},\"id\":\"77175\",\"type\":\"NumberFormatter\"},{\"attributes\":{\"editor\":{\"id\":\"77211\"},\"field\":\"max\",\"formatter\":{\"id\":\"77210\"},\"title\":\"max\"},\"id\":\"77212\",\"type\":\"TableColumn\"},{\"attributes\":{\"axis\":{\"id\":\"76829\"},\"coordinates\":null,\"grid_line_color\":null,\"group\":null,\"ticker\":null},\"id\":\"76832\",\"type\":\"Grid\"},{\"attributes\":{},\"id\":\"76888\",\"type\":\"UnionRenderers\"},{\"attributes\":{},\"id\":\"76882\",\"type\":\"AllLabels\"},{\"attributes\":{},\"id\":\"76851\",\"type\":\"BasicTickFormatter\"},{\"attributes\":{\"end\":0.8160804946402948},\"id\":\"76874\",\"type\":\"Range1d\"},{\"attributes\":{\"style\":{\"white-space\":\"nowrap\"},\"text\":\"<span style=\\\"color:black;font-family:Arial;font-style:bold;font-weight:bold;font-size:12pt\\\">col: num_x0</span>\",\"width\":450},\"id\":\"77048\",\"type\":\"Div\"},{\"attributes\":{\"toolbars\":[{\"id\":\"76843\"}],\"tools\":[{\"id\":\"76819\"},{\"id\":\"76837\"},{\"id\":\"76838\"},{\"id\":\"76839\"},{\"id\":\"76840\"},{\"id\":\"76841\"}]},\"id\":\"77045\",\"type\":\"ProxyToolbar\"},{\"attributes\":{\"margin\":[5,5,5,5],\"name\":\"HSpacer185540\",\"sizing_mode\":\"stretch_width\"},\"id\":\"77237\",\"type\":\"Spacer\"},{\"attributes\":{},\"id\":\"76825\",\"type\":\"LinearScale\"},{\"attributes\":{\"format\":\"0,0.0[00000]\"},\"id\":\"77190\",\"type\":\"NumberFormatter\"},{\"attributes\":{\"children\":[{\"id\":\"76813\"},{\"id\":\"76814\"},{\"id\":\"77238\"}],\"margin\":[0,0,0,0],\"name\":\"Row185533\"},\"id\":\"76812\",\"type\":\"Row\"},{\"attributes\":{\"children\":[{\"id\":\"77046\"},{\"id\":\"77044\"}]},\"id\":\"77047\",\"type\":\"Column\"},{\"attributes\":{\"format\":\"0,0.0[00000]\"},\"id\":\"77205\",\"type\":\"NumberFormatter\"},{\"attributes\":{\"bottom\":{\"value\":0},\"fill_alpha\":{\"value\":0.2},\"fill_color\":{\"value\":\"#00fff0\"},\"hatch_alpha\":{\"value\":0.2},\"hatch_color\":{\"value\":\"#00fff0\"},\"left\":{\"field\":\"left\"},\"line_alpha\":{\"value\":0.2},\"right\":{\"field\":\"right\"},\"top\":{\"field\":\"top\"}},\"id\":\"76861\",\"type\":\"Quad\"},{\"attributes\":{},\"id\":\"77211\",\"type\":\"NumberEditor\"},{\"attributes\":{\"axis_label\":\"Frequency\",\"coordinates\":null,\"formatter\":{\"id\":\"76854\"},\"group\":null,\"major_label_policy\":{\"id\":\"76855\"},\"ticker\":{\"id\":\"76834\"}},\"id\":\"76833\",\"type\":\"LinearAxis\"},{\"attributes\":{},\"id\":\"76827\",\"type\":\"LinearScale\"},{\"attributes\":{},\"id\":\"77196\",\"type\":\"NumberEditor\"},{\"attributes\":{\"fill_alpha\":0.2,\"fill_color\":\"#30a2da\",\"hatch_alpha\":0.2,\"hatch_color\":\"#30a2da\",\"line_alpha\":0.2,\"x\":{\"field\":\"x\"},\"y\":{\"field\":\"y\"}},\"id\":\"76870\",\"type\":\"Patch\"},{\"attributes\":{\"editor\":{\"id\":\"77201\"},\"field\":\"A_50_percent\",\"formatter\":{\"id\":\"77200\"},\"title\":\"50%\"},\"id\":\"77202\",\"type\":\"TableColumn\"},{\"attributes\":{\"editor\":{\"id\":\"77176\"},\"field\":\"count\",\"formatter\":{\"id\":\"77175\"},\"title\":\"count\"},\"id\":\"77177\",\"type\":\"TableColumn\"},{\"attributes\":{},\"id\":\"77201\",\"type\":\"NumberEditor\"},{\"attributes\":{},\"id\":\"77206\",\"type\":\"NumberEditor\"},{\"attributes\":{\"editor\":{\"id\":\"77206\"},\"field\":\"A_75_percent\",\"formatter\":{\"id\":\"77205\"},\"title\":\"75%\"},\"id\":\"77207\",\"type\":\"TableColumn\"},{\"attributes\":{},\"id\":\"76855\",\"type\":\"AllLabels\"},{\"attributes\":{},\"id\":\"77191\",\"type\":\"NumberEditor\"},{\"attributes\":{\"format\":\"0,0.0[00000]\"},\"id\":\"77185\",\"type\":\"NumberFormatter\"},{\"attributes\":{},\"id\":\"76830\",\"type\":\"BasicTicker\"},{\"attributes\":{},\"id\":\"76886\",\"type\":\"UnionRenderers\"},{\"attributes\":{\"bottom\":{\"value\":0},\"fill_color\":{\"value\":\"#00fff0\"},\"hatch_color\":{\"value\":\"#00fff0\"},\"left\":{\"field\":\"left\"},\"right\":{\"field\":\"right\"},\"top\":{\"field\":\"top\"}},\"id\":\"76859\",\"type\":\"Quad\"},{\"attributes\":{\"format\":\"0,0.0[00000]\"},\"id\":\"77195\",\"type\":\"NumberFormatter\"}],\"root_ids\":[\"76812\",\"77290\"]},\"title\":\"Bokeh Application\",\"version\":\"2.4.3\"}};\n",
       "    var render_items = [{\"docid\":\"a28ada46-c5c2-494d-b786-63682612e1f6\",\"root_ids\":[\"76812\"],\"roots\":{\"76812\":\"dc091984-6565-4d88-a450-b9c2f13d5929\"}}];\n",
       "    root.Bokeh.embed.embed_items_notebook(docs_json, render_items);\n",
       "  }\n",
       "  if (root.Bokeh !== undefined && root.Bokeh.Panel !== undefined) {\n",
       "    embed_document(root);\n",
       "  } else {\n",
       "    var attempts = 0;\n",
       "    var timer = setInterval(function(root) {\n",
       "      if (root.Bokeh !== undefined && root.Bokeh.Panel !== undefined) {\n",
       "        clearInterval(timer);\n",
       "        embed_document(root);\n",
       "      } else if (document.readyState == \"complete\") {\n",
       "        attempts++;\n",
       "        if (attempts > 200) {\n",
       "          clearInterval(timer);\n",
       "          console.log(\"Bokeh: ERROR: Unable to run BokehJS code because BokehJS library is missing\");\n",
       "        }\n",
       "      }\n",
       "    }, 25, root)\n",
       "  }\n",
       "})(window);</script>"
      ],
      "text/plain": [
       ":DynamicMap   [col]\n",
       "   :Layout\n",
       "      .Overlay.I :Overlay\n",
       "         .Histogram.I    :Histogram   [x]   (Frequency)\n",
       "         .Distribution.I :Distribution   [num_x0]   (Density)\n",
       "      .Table.I   :Table   [count,mean,std,min,25%,50%,75%,max]"
      ]
     },
     "execution_count": 211,
     "metadata": {
      "application/vnd.holoviews_exec.v0+json": {
       "id": "76812"
      }
     },
     "output_type": "execute_result"
    }
   ],
   "source": [
    "out = eda.get_density_plots(train_X, cols=list(train_X.columns)[:11])\n",
    "out"
   ]
  },
  {
   "cell_type": "code",
   "execution_count": 212,
   "metadata": {},
   "outputs": [],
   "source": [
    "# save the plots are html\n",
    "reports.create_report({'univariate': out}, name='feature_analysis_univariate')"
   ]
  },
  {
   "cell_type": "markdown",
   "metadata": {},
   "source": [
    "A report containing the above plot is available [here](https://drive.google.com/file/d/16ntqUc_zvpg0at5pTtO-ljBjw5UVGFnp/view?usp=sharing)\n"
   ]
  },
  {
   "cell_type": "markdown",
   "metadata": {},
   "source": [
    "Alternatively, the above plots can be generated as a single html as below. The output from this is available [here](https://drive.google.com/file/d/1vUaCcs1PJ4IYo1em9-eZIEj9WuDsnFKT/view?usp=sharing)"
   ]
  },
  {
   "cell_type": "code",
   "execution_count": 213,
   "metadata": {},
   "outputs": [
    {
     "name": "stderr",
     "output_type": "stream",
     "text": [
      "p-value may not be accurate for N > 5000.\n"
     ]
    }
   ],
   "source": [
    "reports.feature_analysis(train_X,'./feature_analysis_report.html')"
   ]
  },
  {
   "cell_type": "markdown",
   "metadata": {},
   "source": [
    "### 3.2.2 Bivariate - mutual interactions"
   ]
  },
  {
   "cell_type": "markdown",
   "metadata": {},
   "source": [
    "- Find columns with high correlations and drop them"
   ]
  },
  {
   "cell_type": "code",
   "execution_count": 214,
   "metadata": {},
   "outputs": [
    {
     "data": {
      "text/html": [
       "<div>\n",
       "<style scoped>\n",
       "    .dataframe tbody tr th:only-of-type {\n",
       "        vertical-align: middle;\n",
       "    }\n",
       "\n",
       "    .dataframe tbody tr th {\n",
       "        vertical-align: top;\n",
       "    }\n",
       "\n",
       "    .dataframe thead th {\n",
       "        text-align: right;\n",
       "    }\n",
       "</style>\n",
       "<table border=\"1\" class=\"dataframe\">\n",
       "  <thead>\n",
       "    <tr style=\"text-align: right;\">\n",
       "      <th></th>\n",
       "      <th>Variable 1</th>\n",
       "      <th>Variable 2</th>\n",
       "      <th>Corr Coef</th>\n",
       "      <th>Abs Corr Coef</th>\n",
       "    </tr>\n",
       "  </thead>\n",
       "  <tbody>\n",
       "    <tr>\n",
       "      <th>0</th>\n",
       "      <td>num_x4</td>\n",
       "      <td>num_x6</td>\n",
       "      <td>0.972044</td>\n",
       "      <td>0.972044</td>\n",
       "    </tr>\n",
       "    <tr>\n",
       "      <th>1</th>\n",
       "      <td>num_x0</td>\n",
       "      <td>num_x1</td>\n",
       "      <td>-0.925628</td>\n",
       "      <td>0.925628</td>\n",
       "    </tr>\n",
       "    <tr>\n",
       "      <th>2</th>\n",
       "      <td>num_x3</td>\n",
       "      <td>num_x4</td>\n",
       "      <td>0.920203</td>\n",
       "      <td>0.920203</td>\n",
       "    </tr>\n",
       "    <tr>\n",
       "      <th>3</th>\n",
       "      <td>num_x3</td>\n",
       "      <td>num_x6</td>\n",
       "      <td>0.912943</td>\n",
       "      <td>0.912943</td>\n",
       "    </tr>\n",
       "    <tr>\n",
       "      <th>4</th>\n",
       "      <td>num_x5</td>\n",
       "      <td>num_x6</td>\n",
       "      <td>0.908202</td>\n",
       "      <td>0.908202</td>\n",
       "    </tr>\n",
       "    <tr>\n",
       "      <th>5</th>\n",
       "      <td>num_x4</td>\n",
       "      <td>num_x5</td>\n",
       "      <td>0.872036</td>\n",
       "      <td>0.872036</td>\n",
       "    </tr>\n",
       "    <tr>\n",
       "      <th>6</th>\n",
       "      <td>num_x3</td>\n",
       "      <td>num_x5</td>\n",
       "      <td>0.841843</td>\n",
       "      <td>0.841843</td>\n",
       "    </tr>\n",
       "    <tr>\n",
       "      <th>7</th>\n",
       "      <td>ocean_proximity_1H OCEAN</td>\n",
       "      <td>ocean_proximity_INLAND</td>\n",
       "      <td>-0.608116</td>\n",
       "      <td>0.608116</td>\n",
       "    </tr>\n",
       "  </tbody>\n",
       "</table>\n",
       "</div>"
      ],
      "text/plain": [
       "                 Variable 1              Variable 2  Corr Coef  Abs Corr Coef\n",
       "0                    num_x4                  num_x6   0.972044       0.972044\n",
       "1                    num_x0                  num_x1  -0.925628       0.925628\n",
       "2                    num_x3                  num_x4   0.920203       0.920203\n",
       "3                    num_x3                  num_x6   0.912943       0.912943\n",
       "4                    num_x5                  num_x6   0.908202       0.908202\n",
       "5                    num_x4                  num_x5   0.872036       0.872036\n",
       "6                    num_x3                  num_x5   0.841843       0.841843\n",
       "7  ocean_proximity_1H OCEAN  ocean_proximity_INLAND  -0.608116       0.608116"
      ]
     },
     "execution_count": 214,
     "metadata": {},
     "output_type": "execute_result"
    }
   ],
   "source": [
    "out = eda.get_correlation_table(train_X)\n",
    "out[out[\"Abs Corr Coef\"] > 0.6]"
   ]
  },
  {
   "cell_type": "code",
   "execution_count": 215,
   "metadata": {},
   "outputs": [
    {
     "data": {
      "text/html": [
       "<div>\n",
       "<style scoped>\n",
       "    .dataframe tbody tr th:only-of-type {\n",
       "        vertical-align: middle;\n",
       "    }\n",
       "\n",
       "    .dataframe tbody tr th {\n",
       "        vertical-align: top;\n",
       "    }\n",
       "\n",
       "    .dataframe thead th {\n",
       "        text-align: right;\n",
       "    }\n",
       "</style>\n",
       "<table border=\"1\" class=\"dataframe\">\n",
       "  <thead>\n",
       "    <tr style=\"text-align: right;\">\n",
       "      <th></th>\n",
       "      <th>Variable 1</th>\n",
       "      <th>Variable 2</th>\n",
       "      <th>Corr Coef</th>\n",
       "      <th>Abs Corr Coef</th>\n",
       "    </tr>\n",
       "  </thead>\n",
       "  <tbody>\n",
       "    <tr>\n",
       "      <th>0</th>\n",
       "      <td>num_x0</td>\n",
       "      <td>num_x1</td>\n",
       "      <td>-0.925628</td>\n",
       "      <td>0.925628</td>\n",
       "    </tr>\n",
       "    <tr>\n",
       "      <th>1</th>\n",
       "      <td>num_x4</td>\n",
       "      <td>num_x5</td>\n",
       "      <td>0.872036</td>\n",
       "      <td>0.872036</td>\n",
       "    </tr>\n",
       "  </tbody>\n",
       "</table>\n",
       "</div>"
      ],
      "text/plain": [
       "  Variable 1 Variable 2  Corr Coef  Abs Corr Coef\n",
       "0     num_x0     num_x1  -0.925628       0.925628\n",
       "1     num_x4     num_x5   0.872036       0.872036"
      ]
     },
     "execution_count": 215,
     "metadata": {},
     "output_type": "execute_result"
    }
   ],
   "source": [
    "# channel and source_channel highly correlated. So discarding source_channel\n",
    "# brand and manufacturer are almost same so discarding manufacturer.\n",
    "# Similarly keeping sku between inventory and sku\n",
    "# Similarly keeping condition between conditions and ext_grade\n",
    "# Similarly keeping model_family between platforms, ext_model_family and model_family\n",
    "# Discarding selling price & selling cost as they are multiples of unit price/cost & quantity.\n",
    "# Discarding gp as it is the of selling price and selling cost\n",
    "# order_no, line, invoice_no & customername cannot be IDVs\n",
    "curated_columns = list(\n",
    "    set(train_X.columns.to_list()) \n",
    "    - set(['ocean_proximity_INLAND', 'num_x6', 'num_x3'])\n",
    ")\n",
    "\n",
    "train_X = train_X[curated_columns]\n",
    "\n",
    "out = eda.get_correlation_table(train_X)\n",
    "out[out[\"Abs Corr Coef\"] > 0.6]"
   ]
  },
  {
   "cell_type": "code",
   "execution_count": 153,
   "metadata": {},
   "outputs": [],
   "source": [
    "# out = eda.get_bivariate_plots(train_X, x_cols=['brand'], y_cols=['color'])\n",
    "# out"
   ]
  },
  {
   "cell_type": "code",
   "execution_count": 216,
   "metadata": {},
   "outputs": [
    {
     "name": "stdout",
     "output_type": "stream",
     "text": [
      "CPU times: user 20.2 s, sys: 19.6 s, total: 39.8 s\n",
      "Wall time: 15.6 s\n"
     ]
    }
   ],
   "source": [
    "%%time\n",
    "# create reports as needed\n",
    "cols = train_X.columns.to_list()\n",
    "all_plots = {}\n",
    "for ii, col1 in enumerate(cols): \n",
    "    for jj in range(ii+1, len(cols)):\n",
    "        col2 = cols[jj]\n",
    "        out = eda.get_bivariate_plots(train_X, x_cols=[col1], y_cols=[col2])\n",
    "        all_plots.update({f'{col2} vs {col1}': out})\n",
    "\n",
    "reports.create_report(all_plots, name='feature_analysis_bivariate')"
   ]
  },
  {
   "cell_type": "markdown",
   "metadata": {},
   "source": [
    "A report containing the bivariate plot is available [here](https://drive.google.com/file/d/1WSGT3586tY-rOmZ57xGILbmL5ll9cSVT/view?usp=sharing)\n",
    "\n",
    "Alternatively, the above plots can be generated as a single html as below. The output from this is available [here](https://drive.google.com/file/d/1A2fz_bjYv8I3iaFDT75JQSDKeJEXxCtp/view?usp=sharing)"
   ]
  },
  {
   "cell_type": "code",
   "execution_count": 217,
   "metadata": {},
   "outputs": [],
   "source": [
    "reports.feature_interactions(train_X,'./feature_interaction_report.html')"
   ]
  },
  {
   "cell_type": "markdown",
   "metadata": {},
   "source": [
    "### 3.2.3 Key Drivers - Interaction with Target variable"
   ]
  },
  {
   "cell_type": "code",
   "execution_count": 218,
   "metadata": {},
   "outputs": [
    {
     "data": {},
     "metadata": {},
     "output_type": "display_data"
    },
    {
     "data": {},
     "metadata": {},
     "output_type": "display_data"
    },
    {
     "data": {
      "application/vnd.holoviews_exec.v0+json": "",
      "text/html": [
       "<div id='109724'>\n",
       "  <div class=\"bk-root\" id=\"623c0ea3-5160-46c8-ac85-af88844bdf83\" data-root-id=\"109724\"></div>\n",
       "</div>\n",
       "<script type=\"application/javascript\">(function(root) {\n",
       "  function embed_document(root) {\n",
       "    var docs_json = {\"fbb044d4-5458-4f4f-8695-21811c18f63e\":{\"defs\":[{\"extends\":null,\"module\":null,\"name\":\"ReactiveHTML1\",\"overrides\":[],\"properties\":[]},{\"extends\":null,\"module\":null,\"name\":\"FlexBox1\",\"overrides\":[],\"properties\":[{\"default\":\"flex-start\",\"kind\":null,\"name\":\"align_content\"},{\"default\":\"flex-start\",\"kind\":null,\"name\":\"align_items\"},{\"default\":\"row\",\"kind\":null,\"name\":\"flex_direction\"},{\"default\":\"wrap\",\"kind\":null,\"name\":\"flex_wrap\"},{\"default\":\"flex-start\",\"kind\":null,\"name\":\"justify_content\"}]},{\"extends\":null,\"module\":null,\"name\":\"GridStack1\",\"overrides\":[],\"properties\":[{\"default\":\"warn\",\"kind\":null,\"name\":\"mode\"},{\"default\":null,\"kind\":null,\"name\":\"ncols\"},{\"default\":null,\"kind\":null,\"name\":\"nrows\"},{\"default\":true,\"kind\":null,\"name\":\"allow_resize\"},{\"default\":true,\"kind\":null,\"name\":\"allow_drag\"},{\"default\":[],\"kind\":null,\"name\":\"state\"}]},{\"extends\":null,\"module\":null,\"name\":\"click1\",\"overrides\":[],\"properties\":[{\"default\":\"\",\"kind\":null,\"name\":\"terminal_output\"},{\"default\":\"\",\"kind\":null,\"name\":\"debug_name\"},{\"default\":0,\"kind\":null,\"name\":\"clears\"}]},{\"extends\":null,\"module\":null,\"name\":\"NotificationAreaBase1\",\"overrides\":[],\"properties\":[{\"default\":\"bottom-right\",\"kind\":null,\"name\":\"position\"},{\"default\":0,\"kind\":null,\"name\":\"_clear\"}]},{\"extends\":null,\"module\":null,\"name\":\"NotificationArea1\",\"overrides\":[],\"properties\":[{\"default\":[],\"kind\":null,\"name\":\"notifications\"},{\"default\":\"bottom-right\",\"kind\":null,\"name\":\"position\"},{\"default\":0,\"kind\":null,\"name\":\"_clear\"},{\"default\":[{\"background\":\"#ffc107\",\"icon\":{\"className\":\"fas fa-exclamation-triangle\",\"color\":\"white\",\"tagName\":\"i\"},\"type\":\"warning\"},{\"background\":\"#007bff\",\"icon\":{\"className\":\"fas fa-info-circle\",\"color\":\"white\",\"tagName\":\"i\"},\"type\":\"info\"}],\"kind\":null,\"name\":\"types\"}]},{\"extends\":null,\"module\":null,\"name\":\"Notification\",\"overrides\":[],\"properties\":[{\"default\":null,\"kind\":null,\"name\":\"background\"},{\"default\":3000,\"kind\":null,\"name\":\"duration\"},{\"default\":null,\"kind\":null,\"name\":\"icon\"},{\"default\":\"\",\"kind\":null,\"name\":\"message\"},{\"default\":null,\"kind\":null,\"name\":\"notification_type\"},{\"default\":false,\"kind\":null,\"name\":\"_destroyed\"}]},{\"extends\":null,\"module\":null,\"name\":\"TemplateActions1\",\"overrides\":[],\"properties\":[{\"default\":0,\"kind\":null,\"name\":\"open_modal\"},{\"default\":0,\"kind\":null,\"name\":\"close_modal\"}]},{\"extends\":null,\"module\":null,\"name\":\"MaterialTemplateActions1\",\"overrides\":[],\"properties\":[{\"default\":0,\"kind\":null,\"name\":\"open_modal\"},{\"default\":0,\"kind\":null,\"name\":\"close_modal\"}]}],\"roots\":{\"references\":[{\"attributes\":{\"below\":[{\"id\":\"109737\"}],\"center\":[{\"id\":\"109740\"},{\"id\":\"109743\"}],\"height\":300,\"left\":[{\"id\":\"109741\"}],\"margin\":[5,5,5,5],\"min_border_bottom\":10,\"min_border_left\":10,\"min_border_right\":10,\"min_border_top\":10,\"renderers\":[{\"id\":\"109763\"}],\"sizing_mode\":\"fixed\",\"title\":{\"id\":\"109729\"},\"toolbar\":{\"id\":\"109750\"},\"width\":700,\"x_range\":{\"id\":\"109725\"},\"x_scale\":{\"id\":\"109733\"},\"y_range\":{\"id\":\"109726\"},\"y_scale\":{\"id\":\"109735\"}},\"id\":\"109728\",\"subtype\":\"Figure\",\"type\":\"Plot\"},{\"attributes\":{},\"id\":\"109745\",\"type\":\"PanTool\"},{\"attributes\":{\"factors\":[\"num_x10\",\"num_x1\",\"num_x0\",\"num_x5\",\"num_x9\",\"ocean_proximity_ISLAND\",\"num_x4\",\"num_x2\",\"ocean_proximity_NEAR OCEAN\",\"num_x8\",\"ocean_proximity_NEAR BAY\",\"ocean_proximity_1H OCEAN\",\"num_x7\"],\"tags\":[[[\"index\",\"index\",null]]]},\"id\":\"109726\",\"type\":\"FactorRange\"},{\"attributes\":{\"overlay\":{\"id\":\"109749\"}},\"id\":\"109747\",\"type\":\"BoxZoomTool\"},{\"attributes\":{\"axis_label\":\"\",\"coordinates\":null,\"formatter\":{\"id\":\"109770\"},\"group\":null,\"major_label_policy\":{\"id\":\"109771\"},\"ticker\":{\"id\":\"109742\"}},\"id\":\"109741\",\"type\":\"CategoricalAxis\"},{\"attributes\":{},\"id\":\"109748\",\"type\":\"ResetTool\"},{\"attributes\":{},\"id\":\"109733\",\"type\":\"LinearScale\"},{\"attributes\":{\"coordinates\":null,\"group\":null,\"text\":\"Feature Correlation with Target Function\",\"text_color\":\"black\",\"text_font_size\":\"12pt\"},\"id\":\"109729\",\"type\":\"Title\"},{\"attributes\":{\"coordinates\":null,\"data_source\":{\"id\":\"109757\"},\"glyph\":{\"id\":\"109760\"},\"group\":null,\"hover_glyph\":null,\"muted_glyph\":{\"id\":\"109762\"},\"nonselection_glyph\":{\"id\":\"109761\"},\"selection_glyph\":{\"id\":\"109765\"},\"view\":{\"id\":\"109764\"}},\"id\":\"109763\",\"type\":\"GlyphRenderer\"},{\"attributes\":{},\"id\":\"109767\",\"type\":\"BasicTickFormatter\"},{\"attributes\":{\"fill_alpha\":{\"value\":1.0},\"fill_color\":{\"value\":\"#30a2da\"},\"hatch_alpha\":{\"value\":1.0},\"hatch_color\":{\"value\":\"#30a2da\"},\"hatch_scale\":{\"value\":12.0},\"hatch_weight\":{\"value\":1.0},\"height\":{\"value\":0.8},\"left\":{\"value\":0},\"line_alpha\":{\"value\":1.0},\"line_cap\":{\"value\":\"butt\"},\"line_color\":{\"value\":\"black\"},\"line_dash\":{\"value\":[]},\"line_dash_offset\":{\"value\":0},\"line_join\":{\"value\":\"bevel\"},\"line_width\":{\"value\":1},\"right\":{\"field\":\"Pearson_correlation_with_Target\"},\"y\":{\"field\":\"index\"}},\"id\":\"109765\",\"type\":\"HBar\"},{\"attributes\":{},\"id\":\"109770\",\"type\":\"CategoricalTickFormatter\"},{\"attributes\":{\"bottom_units\":\"screen\",\"coordinates\":null,\"fill_alpha\":0.5,\"fill_color\":\"lightgrey\",\"group\":null,\"left_units\":\"screen\",\"level\":\"overlay\",\"line_alpha\":1.0,\"line_color\":\"black\",\"line_dash\":[4,4],\"line_width\":2,\"right_units\":\"screen\",\"syncable\":false,\"top_units\":\"screen\"},\"id\":\"109749\",\"type\":\"BoxAnnotation\"},{\"attributes\":{},\"id\":\"109746\",\"type\":\"WheelZoomTool\"},{\"attributes\":{\"tools\":[{\"id\":\"109727\"},{\"id\":\"109744\"},{\"id\":\"109745\"},{\"id\":\"109746\"},{\"id\":\"109747\"},{\"id\":\"109748\"}]},\"id\":\"109750\",\"type\":\"Toolbar\"},{\"attributes\":{},\"id\":\"109742\",\"type\":\"CategoricalTicker\"},{\"attributes\":{},\"id\":\"109758\",\"type\":\"Selection\"},{\"attributes\":{\"axis\":{\"id\":\"109737\"},\"coordinates\":null,\"grid_line_color\":null,\"group\":null,\"ticker\":null},\"id\":\"109740\",\"type\":\"Grid\"},{\"attributes\":{},\"id\":\"109738\",\"type\":\"BasicTicker\"},{\"attributes\":{\"client_comm_id\":\"f8cf6c95362e4dea93038f3651a36e70\",\"comm_id\":\"5f3fef669aae41fd8814a39d8cb79bc5\",\"plot_id\":\"109724\"},\"id\":\"109813\",\"type\":\"panel.models.comm_manager.CommManager\"},{\"attributes\":{},\"id\":\"109735\",\"type\":\"CategoricalScale\"},{\"attributes\":{\"source\":{\"id\":\"109757\"}},\"id\":\"109764\",\"type\":\"CDSView\"},{\"attributes\":{\"child\":{\"id\":\"109728\"},\"name\":\"feature_correlation\",\"title\":\"feature_correlation\"},\"id\":\"109782\",\"type\":\"Panel\"},{\"attributes\":{\"end\":0.791698723518793,\"reset_end\":0.791698723518793,\"reset_start\":-0.3243735913980464,\"start\":-0.3243735913980464,\"tags\":[[[\"Pearson_correlation_with_Target\",\"Pearson_correlation_with_Target\",null]]]},\"id\":\"109725\",\"type\":\"Range1d\"},{\"attributes\":{\"axis_label\":\"Pearson_correlation_with_Target\",\"coordinates\":null,\"formatter\":{\"id\":\"109767\"},\"group\":null,\"major_label_policy\":{\"id\":\"109768\"},\"ticker\":{\"id\":\"109738\"}},\"id\":\"109737\",\"type\":\"LinearAxis\"},{\"attributes\":{\"fill_alpha\":{\"value\":0.1},\"fill_color\":{\"value\":\"#30a2da\"},\"hatch_alpha\":{\"value\":0.1},\"hatch_color\":{\"value\":\"#30a2da\"},\"height\":{\"value\":0.8},\"line_alpha\":{\"value\":0.1},\"right\":{\"field\":\"Pearson_correlation_with_Target\"},\"y\":{\"field\":\"index\"}},\"id\":\"109761\",\"type\":\"HBar\"},{\"attributes\":{},\"id\":\"109768\",\"type\":\"AllLabels\"},{\"attributes\":{\"data\":{\"Pearson_correlation_with_Target\":{\"__ndarray__\":\"Fw/ZznOdzb8mfJ1AaUDCv3PXV9SqHqi/KwHR6rLgoL9/VUYT04ydvzrOzeMtkJU/gbbx0qRxqj/ND/bRRDe6P8RuU36FiMI/J8hSlD4Nwz8t8WNlvVPEP91/8wC/YNA/shqYybBb5j8=\",\"dtype\":\"float64\",\"order\":\"little\",\"shape\":[13]},\"index\":[\"num_x10\",\"num_x1\",\"num_x0\",\"num_x5\",\"num_x9\",\"ocean_proximity_ISLAND\",\"num_x4\",\"num_x2\",\"ocean_proximity_NEAR OCEAN\",\"num_x8\",\"ocean_proximity_NEAR BAY\",\"ocean_proximity_1H OCEAN\",\"num_x7\"]},\"selected\":{\"id\":\"109758\"},\"selection_policy\":{\"id\":\"109779\"}},\"id\":\"109757\",\"type\":\"ColumnDataSource\"},{\"attributes\":{},\"id\":\"109779\",\"type\":\"UnionRenderers\"},{\"attributes\":{\"fill_color\":{\"value\":\"#30a2da\"},\"hatch_color\":{\"value\":\"#30a2da\"},\"height\":{\"value\":0.8},\"right\":{\"field\":\"Pearson_correlation_with_Target\"},\"y\":{\"field\":\"index\"}},\"id\":\"109760\",\"type\":\"HBar\"},{\"attributes\":{},\"id\":\"109744\",\"type\":\"SaveTool\"},{\"attributes\":{\"fill_alpha\":{\"value\":0.2},\"fill_color\":{\"value\":\"#30a2da\"},\"hatch_alpha\":{\"value\":0.2},\"hatch_color\":{\"value\":\"#30a2da\"},\"height\":{\"value\":0.8},\"line_alpha\":{\"value\":0.2},\"right\":{\"field\":\"Pearson_correlation_with_Target\"},\"y\":{\"field\":\"index\"}},\"id\":\"109762\",\"type\":\"HBar\"},{\"attributes\":{\"callback\":null,\"renderers\":[{\"id\":\"109763\"}],\"tags\":[\"hv_created\"],\"tooltips\":[[\"index\",\"@{index}\"],[\"Pearson_correlation_with_Target\",\"@{Pearson_correlation_with_Target}\"]]},\"id\":\"109727\",\"type\":\"HoverTool\"},{\"attributes\":{},\"id\":\"109771\",\"type\":\"AllLabels\"},{\"attributes\":{\"axis\":{\"id\":\"109741\"},\"coordinates\":null,\"dimension\":1,\"grid_line_color\":null,\"group\":null,\"ticker\":null},\"id\":\"109743\",\"type\":\"Grid\"},{\"attributes\":{\"margin\":[0,0,0,0],\"tabs\":[{\"id\":\"109782\"}]},\"id\":\"109724\",\"type\":\"panel.models.tabs.Tabs\"}],\"root_ids\":[\"109724\",\"109813\"]},\"title\":\"Bokeh Application\",\"version\":\"2.4.3\"}};\n",
       "    var render_items = [{\"docid\":\"fbb044d4-5458-4f4f-8695-21811c18f63e\",\"root_ids\":[\"109724\"],\"roots\":{\"109724\":\"623c0ea3-5160-46c8-ac85-af88844bdf83\"}}];\n",
       "    root.Bokeh.embed.embed_items_notebook(docs_json, render_items);\n",
       "  }\n",
       "  if (root.Bokeh !== undefined && root.Bokeh.Panel !== undefined) {\n",
       "    embed_document(root);\n",
       "  } else {\n",
       "    var attempts = 0;\n",
       "    var timer = setInterval(function(root) {\n",
       "      if (root.Bokeh !== undefined && root.Bokeh.Panel !== undefined) {\n",
       "        clearInterval(timer);\n",
       "        embed_document(root);\n",
       "      } else if (document.readyState == \"complete\") {\n",
       "        attempts++;\n",
       "        if (attempts > 200) {\n",
       "          clearInterval(timer);\n",
       "          console.log(\"Bokeh: ERROR: Unable to run BokehJS code because BokehJS library is missing\");\n",
       "        }\n",
       "      }\n",
       "    }, 25, root)\n",
       "  }\n",
       "})(window);</script>"
      ],
      "text/plain": [
       "Tabs\n",
       "    [0] HoloViews(Bars, name='feature_correlation')"
      ]
     },
     "execution_count": 218,
     "metadata": {
      "application/vnd.holoviews_exec.v0+json": {
       "id": "109724"
      }
     },
     "output_type": "execute_result"
    }
   ],
   "source": [
    "out = eda.get_target_correlation(train_X, train_y, y_continuous=True)\n",
    "display_as_tabs([(k, v) for k,v in out.items()])"
   ]
  },
  {
   "cell_type": "code",
   "execution_count": 219,
   "metadata": {},
   "outputs": [
    {
     "data": {},
     "metadata": {},
     "output_type": "display_data"
    },
    {
     "data": {},
     "metadata": {},
     "output_type": "display_data"
    },
    {
     "data": {
      "application/vnd.holoviews_exec.v0+json": "",
      "text/html": [
       "<div id='109864'>\n",
       "  <div class=\"bk-root\" id=\"8fb10c1e-d38a-4e5f-9821-c1db4eecc1aa\" data-root-id=\"109864\"></div>\n",
       "</div>\n",
       "<script type=\"application/javascript\">(function(root) {\n",
       "  function embed_document(root) {\n",
       "    var docs_json = {\"bffb602b-1d58-42be-ac2c-ab68c9079730\":{\"defs\":[{\"extends\":null,\"module\":null,\"name\":\"ReactiveHTML1\",\"overrides\":[],\"properties\":[]},{\"extends\":null,\"module\":null,\"name\":\"FlexBox1\",\"overrides\":[],\"properties\":[{\"default\":\"flex-start\",\"kind\":null,\"name\":\"align_content\"},{\"default\":\"flex-start\",\"kind\":null,\"name\":\"align_items\"},{\"default\":\"row\",\"kind\":null,\"name\":\"flex_direction\"},{\"default\":\"wrap\",\"kind\":null,\"name\":\"flex_wrap\"},{\"default\":\"flex-start\",\"kind\":null,\"name\":\"justify_content\"}]},{\"extends\":null,\"module\":null,\"name\":\"GridStack1\",\"overrides\":[],\"properties\":[{\"default\":\"warn\",\"kind\":null,\"name\":\"mode\"},{\"default\":null,\"kind\":null,\"name\":\"ncols\"},{\"default\":null,\"kind\":null,\"name\":\"nrows\"},{\"default\":true,\"kind\":null,\"name\":\"allow_resize\"},{\"default\":true,\"kind\":null,\"name\":\"allow_drag\"},{\"default\":[],\"kind\":null,\"name\":\"state\"}]},{\"extends\":null,\"module\":null,\"name\":\"click1\",\"overrides\":[],\"properties\":[{\"default\":\"\",\"kind\":null,\"name\":\"terminal_output\"},{\"default\":\"\",\"kind\":null,\"name\":\"debug_name\"},{\"default\":0,\"kind\":null,\"name\":\"clears\"}]},{\"extends\":null,\"module\":null,\"name\":\"NotificationAreaBase1\",\"overrides\":[],\"properties\":[{\"default\":\"bottom-right\",\"kind\":null,\"name\":\"position\"},{\"default\":0,\"kind\":null,\"name\":\"_clear\"}]},{\"extends\":null,\"module\":null,\"name\":\"NotificationArea1\",\"overrides\":[],\"properties\":[{\"default\":[],\"kind\":null,\"name\":\"notifications\"},{\"default\":\"bottom-right\",\"kind\":null,\"name\":\"position\"},{\"default\":0,\"kind\":null,\"name\":\"_clear\"},{\"default\":[{\"background\":\"#ffc107\",\"icon\":{\"className\":\"fas fa-exclamation-triangle\",\"color\":\"white\",\"tagName\":\"i\"},\"type\":\"warning\"},{\"background\":\"#007bff\",\"icon\":{\"className\":\"fas fa-info-circle\",\"color\":\"white\",\"tagName\":\"i\"},\"type\":\"info\"}],\"kind\":null,\"name\":\"types\"}]},{\"extends\":null,\"module\":null,\"name\":\"Notification\",\"overrides\":[],\"properties\":[{\"default\":null,\"kind\":null,\"name\":\"background\"},{\"default\":3000,\"kind\":null,\"name\":\"duration\"},{\"default\":null,\"kind\":null,\"name\":\"icon\"},{\"default\":\"\",\"kind\":null,\"name\":\"message\"},{\"default\":null,\"kind\":null,\"name\":\"notification_type\"},{\"default\":false,\"kind\":null,\"name\":\"_destroyed\"}]},{\"extends\":null,\"module\":null,\"name\":\"TemplateActions1\",\"overrides\":[],\"properties\":[{\"default\":0,\"kind\":null,\"name\":\"open_modal\"},{\"default\":0,\"kind\":null,\"name\":\"close_modal\"}]},{\"extends\":null,\"module\":null,\"name\":\"MaterialTemplateActions1\",\"overrides\":[],\"properties\":[{\"default\":0,\"kind\":null,\"name\":\"open_modal\"},{\"default\":0,\"kind\":null,\"name\":\"close_modal\"}]}],\"roots\":{\"references\":[{\"attributes\":{\"axis\":{\"id\":\"109881\"},\"coordinates\":null,\"dimension\":1,\"grid_line_color\":null,\"group\":null,\"ticker\":null},\"id\":\"109883\",\"type\":\"Grid\"},{\"attributes\":{\"tools\":[{\"id\":\"109867\"},{\"id\":\"109884\"},{\"id\":\"109885\"},{\"id\":\"109886\"},{\"id\":\"109887\"},{\"id\":\"109888\"}]},\"id\":\"109890\",\"type\":\"Toolbar\"},{\"attributes\":{\"end\":91.80665822213082,\"reset_end\":91.80665822213082,\"reset_start\":-80.10232360207041,\"start\":-80.10232360207041,\"tags\":[[[\"importance\",\"importance\",null]]]},\"id\":\"109865\",\"type\":\"Range1d\"},{\"attributes\":{\"margin\":[0,0,0,0],\"tabs\":[{\"id\":\"109922\"},{\"id\":\"109924\"}]},\"id\":\"109864\",\"type\":\"panel.models.tabs.Tabs\"},{\"attributes\":{},\"id\":\"109873\",\"type\":\"LinearScale\"},{\"attributes\":{\"fill_alpha\":{\"value\":0.1},\"fill_color\":{\"value\":\"#30a2da\"},\"hatch_alpha\":{\"value\":0.1},\"hatch_color\":{\"value\":\"#30a2da\"},\"height\":{\"value\":0.8},\"line_alpha\":{\"value\":0.1},\"right\":{\"field\":\"importance\"},\"y\":{\"field\":\"index\"}},\"id\":\"109901\",\"type\":\"HBar\"},{\"attributes\":{},\"id\":\"109888\",\"type\":\"ResetTool\"},{\"attributes\":{},\"id\":\"109911\",\"type\":\"AllLabels\"},{\"attributes\":{\"factors\":[\"num_x1\",\"num_x0\",\"num_x5\",\"ocean_proximity_ISLAND\",\"num_x9\",\"num_x8\",\"ocean_proximity_NEAR BAY\",\"ocean_proximity_NEAR OCEAN\",\"num_x10\",\"num_x2\",\"ocean_proximity_1H OCEAN\",\"num_x4\",\"num_x7\"],\"tags\":[[[\"index\",\"index\",null]]]},\"id\":\"109866\",\"type\":\"FactorRange\"},{\"attributes\":{\"fill_alpha\":{\"value\":1.0},\"fill_color\":{\"value\":\"#30a2da\"},\"hatch_alpha\":{\"value\":1.0},\"hatch_color\":{\"value\":\"#30a2da\"},\"hatch_scale\":{\"value\":12.0},\"hatch_weight\":{\"value\":1.0},\"height\":{\"value\":0.8},\"left\":{\"value\":0},\"line_alpha\":{\"value\":1.0},\"line_cap\":{\"value\":\"butt\"},\"line_color\":{\"value\":\"black\"},\"line_dash\":{\"value\":[]},\"line_dash_offset\":{\"value\":0},\"line_join\":{\"value\":\"bevel\"},\"line_width\":{\"value\":1},\"right\":{\"field\":\"importance\"},\"y\":{\"field\":\"index\"}},\"id\":\"109905\",\"type\":\"HBar\"},{\"attributes\":{\"axis_label\":\"Features\",\"coordinates\":null,\"formatter\":{\"id\":\"109910\"},\"group\":null,\"major_label_policy\":{\"id\":\"109911\"},\"ticker\":{\"id\":\"109882\"}},\"id\":\"109881\",\"type\":\"CategoricalAxis\"},{\"attributes\":{},\"id\":\"109910\",\"type\":\"CategoricalTickFormatter\"},{\"attributes\":{\"fill_alpha\":{\"value\":0.2},\"fill_color\":{\"value\":\"#30a2da\"},\"hatch_alpha\":{\"value\":0.2},\"hatch_color\":{\"value\":\"#30a2da\"},\"height\":{\"value\":0.8},\"line_alpha\":{\"value\":0.2},\"right\":{\"field\":\"importance\"},\"y\":{\"field\":\"index\"}},\"id\":\"109902\",\"type\":\"HBar\"},{\"attributes\":{},\"id\":\"109919\",\"type\":\"UnionRenderers\"},{\"attributes\":{\"coordinates\":null,\"group\":null,\"text\":\"Feature Importances from LassoCV\",\"text_color\":\"black\",\"text_font_size\":\"12pt\"},\"id\":\"109869\",\"type\":\"Title\"},{\"attributes\":{\"data\":{\"importance\":{\"__ndarray__\":\"30weaLNxUMD1gK8lIRdQwB0U8gX/LEPAAAAAAAAAAADoNf3pCOqHP6t3OitK/dg/HTyMScZRDUCZysW1K1AYQNNQXpcmiR9A4Mt2oRAjMEAO5ef7cZUyQADPd2FXpEVARvOhOcdeU0A=\",\"dtype\":\"float64\",\"order\":\"little\",\"shape\":[13]},\"index\":[\"num_x1\",\"num_x0\",\"num_x5\",\"ocean_proximity_ISLAND\",\"num_x9\",\"num_x8\",\"ocean_proximity_NEAR BAY\",\"ocean_proximity_NEAR OCEAN\",\"num_x10\",\"num_x2\",\"ocean_proximity_1H OCEAN\",\"num_x4\",\"num_x7\"]},\"selected\":{\"id\":\"109898\"},\"selection_policy\":{\"id\":\"109919\"}},\"id\":\"109897\",\"type\":\"ColumnDataSource\"},{\"attributes\":{},\"id\":\"109907\",\"type\":\"BasicTickFormatter\"},{\"attributes\":{\"below\":[{\"id\":\"109877\"}],\"center\":[{\"id\":\"109880\"},{\"id\":\"109883\"}],\"height\":300,\"left\":[{\"id\":\"109881\"}],\"margin\":[5,5,5,5],\"min_border_bottom\":10,\"min_border_left\":10,\"min_border_right\":10,\"min_border_top\":10,\"renderers\":[{\"id\":\"109903\"}],\"sizing_mode\":\"fixed\",\"title\":{\"id\":\"109869\"},\"toolbar\":{\"id\":\"109890\"},\"width\":700,\"x_range\":{\"id\":\"109865\"},\"x_scale\":{\"id\":\"109873\"},\"y_range\":{\"id\":\"109866\"},\"y_scale\":{\"id\":\"109875\"}},\"id\":\"109868\",\"subtype\":\"Figure\",\"type\":\"Plot\"},{\"attributes\":{},\"id\":\"109908\",\"type\":\"AllLabels\"},{\"attributes\":{},\"id\":\"109886\",\"type\":\"WheelZoomTool\"},{\"attributes\":{\"fill_color\":{\"value\":\"#30a2da\"},\"hatch_color\":{\"value\":\"#30a2da\"},\"height\":{\"value\":0.8},\"right\":{\"field\":\"importance\"},\"y\":{\"field\":\"index\"}},\"id\":\"109900\",\"type\":\"HBar\"},{\"attributes\":{\"height\":670,\"margin\":[5,5,5,5],\"name\":\"shap_values\",\"text\":\"&lt;img src=&quot;data:image/png;base64,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&quot; width=&quot;800px&quot; height=&quot;670px&quot; alt=&quot;&quot;&gt;&lt;/img&gt;\",\"width\":800},\"id\":\"109923\",\"type\":\"panel.models.markup.HTML\"},{\"attributes\":{\"child\":{\"id\":\"109868\"},\"name\":\"from_model\",\"title\":\"from_model\"},\"id\":\"109922\",\"type\":\"Panel\"},{\"attributes\":{\"child\":{\"id\":\"109923\"},\"name\":\"shap_values\",\"title\":\"shap_values\"},\"id\":\"109924\",\"type\":\"Panel\"},{\"attributes\":{\"callback\":null,\"renderers\":[{\"id\":\"109903\"}],\"tags\":[\"hv_created\"],\"tooltips\":[[\"index\",\"@{index}\"],[\"importance\",\"@{importance}\"]]},\"id\":\"109867\",\"type\":\"HoverTool\"},{\"attributes\":{\"axis_label\":\"Feature Importance [determined by coeff * mean(x)]\",\"coordinates\":null,\"formatter\":{\"id\":\"109907\"},\"group\":null,\"major_label_policy\":{\"id\":\"109908\"},\"ticker\":{\"id\":\"109878\"}},\"id\":\"109877\",\"type\":\"LinearAxis\"},{\"attributes\":{\"source\":{\"id\":\"109897\"}},\"id\":\"109904\",\"type\":\"CDSView\"},{\"attributes\":{\"client_comm_id\":\"9548cbd52edd475ebf70ea17a554b60b\",\"comm_id\":\"04392f1abec4425692a3e9411eb75292\",\"plot_id\":\"109864\"},\"id\":\"109955\",\"type\":\"panel.models.comm_manager.CommManager\"},{\"attributes\":{\"coordinates\":null,\"data_source\":{\"id\":\"109897\"},\"glyph\":{\"id\":\"109900\"},\"group\":null,\"hover_glyph\":null,\"muted_glyph\":{\"id\":\"109902\"},\"nonselection_glyph\":{\"id\":\"109901\"},\"selection_glyph\":{\"id\":\"109905\"},\"view\":{\"id\":\"109904\"}},\"id\":\"109903\",\"type\":\"GlyphRenderer\"},{\"attributes\":{\"axis\":{\"id\":\"109877\"},\"coordinates\":null,\"grid_line_color\":null,\"group\":null,\"ticker\":null},\"id\":\"109880\",\"type\":\"Grid\"},{\"attributes\":{\"overlay\":{\"id\":\"109889\"}},\"id\":\"109887\",\"type\":\"BoxZoomTool\"},{\"attributes\":{},\"id\":\"109898\",\"type\":\"Selection\"},{\"attributes\":{},\"id\":\"109875\",\"type\":\"CategoricalScale\"},{\"attributes\":{\"bottom_units\":\"screen\",\"coordinates\":null,\"fill_alpha\":0.5,\"fill_color\":\"lightgrey\",\"group\":null,\"left_units\":\"screen\",\"level\":\"overlay\",\"line_alpha\":1.0,\"line_color\":\"black\",\"line_dash\":[4,4],\"line_width\":2,\"right_units\":\"screen\",\"syncable\":false,\"top_units\":\"screen\"},\"id\":\"109889\",\"type\":\"BoxAnnotation\"},{\"attributes\":{},\"id\":\"109882\",\"type\":\"CategoricalTicker\"},{\"attributes\":{},\"id\":\"109878\",\"type\":\"BasicTicker\"},{\"attributes\":{},\"id\":\"109884\",\"type\":\"SaveTool\"},{\"attributes\":{},\"id\":\"109885\",\"type\":\"PanTool\"}],\"root_ids\":[\"109864\",\"109955\"]},\"title\":\"Bokeh Application\",\"version\":\"2.4.3\"}};\n",
       "    var render_items = [{\"docid\":\"bffb602b-1d58-42be-ac2c-ab68c9079730\",\"root_ids\":[\"109864\"],\"roots\":{\"109864\":\"8fb10c1e-d38a-4e5f-9821-c1db4eecc1aa\"}}];\n",
       "    root.Bokeh.embed.embed_items_notebook(docs_json, render_items);\n",
       "  }\n",
       "  if (root.Bokeh !== undefined && root.Bokeh.Panel !== undefined) {\n",
       "    embed_document(root);\n",
       "  } else {\n",
       "    var attempts = 0;\n",
       "    var timer = setInterval(function(root) {\n",
       "      if (root.Bokeh !== undefined && root.Bokeh.Panel !== undefined) {\n",
       "        clearInterval(timer);\n",
       "        embed_document(root);\n",
       "      } else if (document.readyState == \"complete\") {\n",
       "        attempts++;\n",
       "        if (attempts > 200) {\n",
       "          clearInterval(timer);\n",
       "          console.log(\"Bokeh: ERROR: Unable to run BokehJS code because BokehJS library is missing\");\n",
       "        }\n",
       "      }\n",
       "    }, 25, root)\n",
       "  }\n",
       "})(window);</script>"
      ],
      "text/plain": [
       "Tabs\n",
       "    [0] HoloViews(Bars, name='from_model')\n",
       "    [1] Matplotlib(Figure, name='shap_values')"
      ]
     },
     "execution_count": 219,
     "metadata": {
      "application/vnd.holoviews_exec.v0+json": {
       "id": "109864"
      }
     },
     "output_type": "execute_result"
    }
   ],
   "source": [
    "out = eda.get_feature_importances(train_X, train_y, y_continuous=True)\n",
    "display_as_tabs([(k, v) for k,v in out.items()])"
   ]
  },
  {
   "cell_type": "markdown",
   "metadata": {},
   "source": [
    "Key drivers report like feature importance, bivariate plots can be obtained as below"
   ]
  },
  {
   "cell_type": "code",
   "execution_count": 220,
   "metadata": {},
   "outputs": [],
   "source": [
    "reports.key_drivers(train_X,train_y, './key_drivers_report.html', y_continuous=True)"
   ]
  },
  {
   "cell_type": "markdown",
   "metadata": {},
   "source": [
    "**Dev Notes**\n",
    "<details>\n",
    "    \n",
    "- The SHAP plots and bivariate plots in key drivers reports can be obtained by including quick=False as a parameter to key_drivers function call. \n",
    "- SHAP plots and bivariate plots often take long depending on data shape.\n",
    "- The plot with shap is present [here](https://drive.google.com/file/d/1JOTMBLiv3LEqZ-kxZz0RokW9v5UyiGva/view?usp=sharing)\n",
    "\n",
    "</details>"
   ]
  },
  {
   "cell_type": "markdown",
   "metadata": {},
   "source": [
    "\n",
    "All the plots like feature analysis, interaction, key drivers can be obtained as a single plot using data exploration method as shown below. The output from this is available [here](https://drive.google.com/file/d/1209MzmSSEhiTYuPfHpaVXFXUVbkaJm0B/view?usp=sharing)"
   ]
  },
  {
   "cell_type": "code",
   "execution_count": 221,
   "metadata": {},
   "outputs": [
    {
     "name": "stderr",
     "output_type": "stream",
     "text": [
      "p-value may not be accurate for N > 5000.\n"
     ]
    }
   ],
   "source": [
    "reports.data_exploration(train_X,train_y,'./data_exploration_report.html', y_continuous=True)"
   ]
  },
  {
   "cell_type": "code",
   "execution_count": 228,
   "metadata": {},
   "outputs": [],
   "source": [
    "# saving the list of relevant columns\n",
    "save_pipeline(curated_columns, op.abspath(op.join(artifacts_folder, 'curated_columns.joblib')))\n",
    "\n",
    "# save the feature pipeline\n",
    "save_pipeline(features_transformer, op.abspath(op.join(artifacts_folder, 'features.joblib')))"
   ]
  },
  {
   "cell_type": "markdown",
   "metadata": {},
   "source": [
    "# 4 Modelling"
   ]
  },
  {
   "cell_type": "markdown",
   "metadata": {},
   "source": [
    "## 4.1 Modelling - Linear Regression"
   ]
  },
  {
   "cell_type": "markdown",
   "metadata": {},
   "source": [
    "### 4.1.1 Feature Selection(Specific to Regression)\n",
    "\n",
    "- Selecting Features specific to regression\n",
    "- VIF : measure of the amount of multi-collinearity in a set of multiple regressor variables. \n",
    "- On a case to case basis VIF thresholds change. Generally 5 or 10 are acceptable levels.\n",
    "- Usually on a recursive basis when removing the most collinear variable, there can be shuffle in VIF. \n",
    "- Often this section will not be part of the production code."
   ]
  },
  {
   "cell_type": "code",
   "execution_count": 229,
   "metadata": {},
   "outputs": [],
   "source": [
    "cols = list(train_X.columns)\n",
    "vif = eda.calc_vif(train_X)\n",
    "while max(vif.VIF) > 15:\n",
    "    #removing the largest variable from VIF\n",
    "    cols.remove(vif[(vif.VIF==vif.VIF.max())].variables.tolist()[0])\n",
    "    vif = eda.calc_vif(train_X[cols])"
   ]
  },
  {
   "cell_type": "code",
   "execution_count": 230,
   "metadata": {},
   "outputs": [],
   "source": [
    "reg_vars = vif.query('VIF < 15').variables\n",
    "reg_vars = list(reg_vars)"
   ]
  },
  {
   "cell_type": "markdown",
   "metadata": {},
   "source": [
    "### 4.1.2 Data transformations"
   ]
  },
  {
   "cell_type": "code",
   "execution_count": 231,
   "metadata": {},
   "outputs": [],
   "source": [
    "# Custom Transformations like these can be utilised\n",
    "def _custom_data_transform(df, cols2keep=None):\n",
    "    \"\"\"Transformation to drop some columns in the data\n",
    "    \n",
    "    Parameters\n",
    "    ----------\n",
    "        df - pd.DataFrame\n",
    "        cols2keep - columns to keep in the dataframe\n",
    "    \"\"\"\n",
    "    cols2keep = cols2keep or []\n",
    "    if len(cols2keep):\n",
    "        return (df\n",
    "                .select_columns(cols2keep))\n",
    "    else:\n",
    "        return df"
   ]
  },
  {
   "cell_type": "markdown",
   "metadata": {},
   "source": [
    "### 4.1.3 Model training pipeline\n",
    "\n",
    "- Here we focus on creating a collection of pipelines that can be used for training respective models.\n",
    "- Each model pipeline will essentially be of the form\n",
    "```\n",
    "[\n",
    "('preprocessing', preprocessing_pipeline),\n",
    "('feature_selection', feature_selection_pipeline),\n",
    "('estimator', estimator),\n",
    "]\n",
    "```"
   ]
  },
  {
   "cell_type": "markdown",
   "metadata": {},
   "source": [
    "### 4.1.4 Model Pipeline Build\n",
    "\n",
    "- This will be part of the production code (training only)."
   ]
  },
  {
   "cell_type": "code",
   "execution_count": 232,
   "metadata": {},
   "outputs": [
    {
     "data": {
      "text/html": [
       "<style>#sk-container-id-5 {color: black;background-color: white;}#sk-container-id-5 pre{padding: 0;}#sk-container-id-5 div.sk-toggleable {background-color: white;}#sk-container-id-5 label.sk-toggleable__label {cursor: pointer;display: block;width: 100%;margin-bottom: 0;padding: 0.3em;box-sizing: border-box;text-align: center;}#sk-container-id-5 label.sk-toggleable__label-arrow:before {content: \"▸\";float: left;margin-right: 0.25em;color: #696969;}#sk-container-id-5 label.sk-toggleable__label-arrow:hover:before {color: black;}#sk-container-id-5 div.sk-estimator:hover label.sk-toggleable__label-arrow:before {color: black;}#sk-container-id-5 div.sk-toggleable__content {max-height: 0;max-width: 0;overflow: hidden;text-align: left;background-color: #f0f8ff;}#sk-container-id-5 div.sk-toggleable__content pre {margin: 0.2em;color: black;border-radius: 0.25em;background-color: #f0f8ff;}#sk-container-id-5 input.sk-toggleable__control:checked~div.sk-toggleable__content {max-height: 200px;max-width: 100%;overflow: auto;}#sk-container-id-5 input.sk-toggleable__control:checked~label.sk-toggleable__label-arrow:before {content: \"▾\";}#sk-container-id-5 div.sk-estimator input.sk-toggleable__control:checked~label.sk-toggleable__label {background-color: #d4ebff;}#sk-container-id-5 div.sk-label input.sk-toggleable__control:checked~label.sk-toggleable__label {background-color: #d4ebff;}#sk-container-id-5 input.sk-hidden--visually {border: 0;clip: rect(1px 1px 1px 1px);clip: rect(1px, 1px, 1px, 1px);height: 1px;margin: -1px;overflow: hidden;padding: 0;position: absolute;width: 1px;}#sk-container-id-5 div.sk-estimator {font-family: monospace;background-color: #f0f8ff;border: 1px dotted black;border-radius: 0.25em;box-sizing: border-box;margin-bottom: 0.5em;}#sk-container-id-5 div.sk-estimator:hover {background-color: #d4ebff;}#sk-container-id-5 div.sk-parallel-item::after {content: \"\";width: 100%;border-bottom: 1px solid gray;flex-grow: 1;}#sk-container-id-5 div.sk-label:hover label.sk-toggleable__label {background-color: #d4ebff;}#sk-container-id-5 div.sk-serial::before {content: \"\";position: absolute;border-left: 1px solid gray;box-sizing: border-box;top: 0;bottom: 0;left: 50%;z-index: 0;}#sk-container-id-5 div.sk-serial {display: flex;flex-direction: column;align-items: center;background-color: white;padding-right: 0.2em;padding-left: 0.2em;position: relative;}#sk-container-id-5 div.sk-item {position: relative;z-index: 1;}#sk-container-id-5 div.sk-parallel {display: flex;align-items: stretch;justify-content: center;background-color: white;position: relative;}#sk-container-id-5 div.sk-item::before, #sk-container-id-5 div.sk-parallel-item::before {content: \"\";position: absolute;border-left: 1px solid gray;box-sizing: border-box;top: 0;bottom: 0;left: 50%;z-index: -1;}#sk-container-id-5 div.sk-parallel-item {display: flex;flex-direction: column;z-index: 1;position: relative;background-color: white;}#sk-container-id-5 div.sk-parallel-item:first-child::after {align-self: flex-end;width: 50%;}#sk-container-id-5 div.sk-parallel-item:last-child::after {align-self: flex-start;width: 50%;}#sk-container-id-5 div.sk-parallel-item:only-child::after {width: 0;}#sk-container-id-5 div.sk-dashed-wrapped {border: 1px dashed gray;margin: 0 0.4em 0.5em 0.4em;box-sizing: border-box;padding-bottom: 0.4em;background-color: white;}#sk-container-id-5 div.sk-label label {font-family: monospace;font-weight: bold;display: inline-block;line-height: 1.2em;}#sk-container-id-5 div.sk-label-container {text-align: center;}#sk-container-id-5 div.sk-container {/* jupyter's `normalize.less` sets `[hidden] { display: none; }` but bootstrap.min.css set `[hidden] { display: none !important; }` so we also need the `!important` here to be able to override the default hidden behavior on the sphinx rendered scikit-learn.org. See: https://github.com/scikit-learn/scikit-learn/issues/21755 */display: inline-block !important;position: relative;}#sk-container-id-5 div.sk-text-repr-fallback {display: none;}</style><div id=\"sk-container-id-5\" class=\"sk-top-container\"><div class=\"sk-text-repr-fallback\"><pre>Pipeline(steps=[(&#x27;&#x27;,\n",
       "                 FunctionTransformer(func=&lt;function _custom_data_transform at 0x7fa1fb6a3280&gt;,\n",
       "                                     kw_args={&#x27;cols2keep&#x27;: [&#x27;ocean_proximity_NEAR &#x27;\n",
       "                                                            &#x27;OCEAN&#x27;,\n",
       "                                                            &#x27;num_x9&#x27;, &#x27;num_x2&#x27;,\n",
       "                                                            &#x27;num_x0&#x27;, &#x27;num_x10&#x27;,\n",
       "                                                            &#x27;num_x8&#x27;, &#x27;num_x5&#x27;,\n",
       "                                                            &#x27;ocean_proximity_1H &#x27;\n",
       "                                                            &#x27;OCEAN&#x27;,\n",
       "                                                            &#x27;num_x4&#x27;, &#x27;num_x1&#x27;,\n",
       "                                                            &#x27;num_x7&#x27;,\n",
       "                                                            &#x27;ocean_proximity_ISLAND&#x27;,\n",
       "                                                            &#x27;ocean_proximity_NEAR &#x27;\n",
       "                                                            &#x27;BAY&#x27;]})),\n",
       "                (&#x27;estimator&#x27;, SKLStatsmodelOLS())])</pre><b>In a Jupyter environment, please rerun this cell to show the HTML representation or trust the notebook. <br />On GitHub, the HTML representation is unable to render, please try loading this page with nbviewer.org.</b></div><div class=\"sk-container\" hidden><div class=\"sk-item sk-dashed-wrapped\"><div class=\"sk-label-container\"><div class=\"sk-label sk-toggleable\"><input class=\"sk-toggleable__control sk-hidden--visually\" id=\"sk-estimator-id-12\" type=\"checkbox\" ><label for=\"sk-estimator-id-12\" class=\"sk-toggleable__label sk-toggleable__label-arrow\">Pipeline</label><div class=\"sk-toggleable__content\"><pre>Pipeline(steps=[(&#x27;&#x27;,\n",
       "                 FunctionTransformer(func=&lt;function _custom_data_transform at 0x7fa1fb6a3280&gt;,\n",
       "                                     kw_args={&#x27;cols2keep&#x27;: [&#x27;ocean_proximity_NEAR &#x27;\n",
       "                                                            &#x27;OCEAN&#x27;,\n",
       "                                                            &#x27;num_x9&#x27;, &#x27;num_x2&#x27;,\n",
       "                                                            &#x27;num_x0&#x27;, &#x27;num_x10&#x27;,\n",
       "                                                            &#x27;num_x8&#x27;, &#x27;num_x5&#x27;,\n",
       "                                                            &#x27;ocean_proximity_1H &#x27;\n",
       "                                                            &#x27;OCEAN&#x27;,\n",
       "                                                            &#x27;num_x4&#x27;, &#x27;num_x1&#x27;,\n",
       "                                                            &#x27;num_x7&#x27;,\n",
       "                                                            &#x27;ocean_proximity_ISLAND&#x27;,\n",
       "                                                            &#x27;ocean_proximity_NEAR &#x27;\n",
       "                                                            &#x27;BAY&#x27;]})),\n",
       "                (&#x27;estimator&#x27;, SKLStatsmodelOLS())])</pre></div></div></div><div class=\"sk-serial\"><div class=\"sk-item\"><div class=\"sk-estimator sk-toggleable\"><input class=\"sk-toggleable__control sk-hidden--visually\" id=\"sk-estimator-id-13\" type=\"checkbox\" ><label for=\"sk-estimator-id-13\" class=\"sk-toggleable__label sk-toggleable__label-arrow\">FunctionTransformer</label><div class=\"sk-toggleable__content\"><pre>FunctionTransformer(func=&lt;function _custom_data_transform at 0x7fa1fb6a3280&gt;,\n",
       "                    kw_args={&#x27;cols2keep&#x27;: [&#x27;ocean_proximity_NEAR OCEAN&#x27;,\n",
       "                                           &#x27;num_x9&#x27;, &#x27;num_x2&#x27;, &#x27;num_x0&#x27;,\n",
       "                                           &#x27;num_x10&#x27;, &#x27;num_x8&#x27;, &#x27;num_x5&#x27;,\n",
       "                                           &#x27;ocean_proximity_1H OCEAN&#x27;, &#x27;num_x4&#x27;,\n",
       "                                           &#x27;num_x1&#x27;, &#x27;num_x7&#x27;,\n",
       "                                           &#x27;ocean_proximity_ISLAND&#x27;,\n",
       "                                           &#x27;ocean_proximity_NEAR BAY&#x27;]})</pre></div></div></div><div class=\"sk-item\"><div class=\"sk-estimator sk-toggleable\"><input class=\"sk-toggleable__control sk-hidden--visually\" id=\"sk-estimator-id-14\" type=\"checkbox\" ><label for=\"sk-estimator-id-14\" class=\"sk-toggleable__label sk-toggleable__label-arrow\">SKLStatsmodelOLS</label><div class=\"sk-toggleable__content\"><pre>SKLStatsmodelOLS()</pre></div></div></div></div></div></div></div>"
      ],
      "text/plain": [
       "Pipeline(steps=[('',\n",
       "                 FunctionTransformer(func=<function _custom_data_transform at 0x7fa1fb6a3280>,\n",
       "                                     kw_args={'cols2keep': ['ocean_proximity_NEAR '\n",
       "                                                            'OCEAN',\n",
       "                                                            'num_x9', 'num_x2',\n",
       "                                                            'num_x0', 'num_x10',\n",
       "                                                            'num_x8', 'num_x5',\n",
       "                                                            'ocean_proximity_1H '\n",
       "                                                            'OCEAN',\n",
       "                                                            'num_x4', 'num_x1',\n",
       "                                                            'num_x7',\n",
       "                                                            'ocean_proximity_ISLAND',\n",
       "                                                            'ocean_proximity_NEAR '\n",
       "                                                            'BAY']})),\n",
       "                ('estimator', SKLStatsmodelOLS())])"
      ]
     },
     "execution_count": 232,
     "metadata": {},
     "output_type": "execute_result"
    }
   ],
   "source": [
    "reg_ppln_ols = Pipeline([\n",
    "    ('',FunctionTransformer(_custom_data_transform, kw_args={'cols2keep':reg_vars})),\n",
    "    ('estimator', SKLStatsmodelOLS())\n",
    "])\n",
    "reg_ppln_ols.fit(train_X, train_y.values.ravel())\n"
   ]
  },
  {
   "cell_type": "code",
   "execution_count": 233,
   "metadata": {},
   "outputs": [
    {
     "data": {
      "text/html": [
       "<table class=\"simpletable\">\n",
       "<caption>OLS Regression Results</caption>\n",
       "<tr>\n",
       "  <th>Dep. Variable:</th>            <td>y</td>        <th>  R-squared:         </th>  <td>   0.666</td>  \n",
       "</tr>\n",
       "<tr>\n",
       "  <th>Model:</th>                   <td>OLS</td>       <th>  Adj. R-squared:    </th>  <td>   0.666</td>  \n",
       "</tr>\n",
       "<tr>\n",
       "  <th>Method:</th>             <td>Least Squares</td>  <th>  F-statistic:       </th>  <td>   2533.</td>  \n",
       "</tr>\n",
       "<tr>\n",
       "  <th>Date:</th>             <td>Sun, 29 Oct 2023</td> <th>  Prob (F-statistic):</th>   <td>  0.00</td>   \n",
       "</tr>\n",
       "<tr>\n",
       "  <th>Time:</th>                 <td>00:45:57</td>     <th>  Log-Likelihood:    </th> <td>-2.0684e+05</td>\n",
       "</tr>\n",
       "<tr>\n",
       "  <th>No. Observations:</th>      <td> 16512</td>      <th>  AIC:               </th>  <td>4.137e+05</td> \n",
       "</tr>\n",
       "<tr>\n",
       "  <th>Df Residuals:</th>          <td> 16498</td>      <th>  BIC:               </th>  <td>4.138e+05</td> \n",
       "</tr>\n",
       "<tr>\n",
       "  <th>Df Model:</th>              <td>    13</td>      <th>                     </th>      <td> </td>     \n",
       "</tr>\n",
       "<tr>\n",
       "  <th>Covariance Type:</th>      <td>nonrobust</td>    <th>                     </th>      <td> </td>     \n",
       "</tr>\n",
       "</table>\n",
       "<table class=\"simpletable\">\n",
       "<tr>\n",
       "               <td></td>                 <th>coef</th>     <th>std err</th>      <th>t</th>      <th>P>|t|</th>  <th>[0.025</th>    <th>0.975]</th>  \n",
       "</tr>\n",
       "<tr>\n",
       "  <th>intercept</th>                  <td> 1.826e+05</td> <td> 1385.740</td> <td>  131.804</td> <td> 0.000</td> <td>  1.8e+05</td> <td> 1.85e+05</td>\n",
       "</tr>\n",
       "<tr>\n",
       "  <th>ocean_proximity_NEAR OCEAN</th> <td> 4.044e+04</td> <td> 2452.659</td> <td>   16.487</td> <td> 0.000</td> <td> 3.56e+04</td> <td> 4.52e+04</td>\n",
       "</tr>\n",
       "<tr>\n",
       "  <th>num_x9</th>                     <td>  415.6674</td> <td>  533.452</td> <td>    0.779</td> <td> 0.436</td> <td> -629.956</td> <td> 1461.291</td>\n",
       "</tr>\n",
       "<tr>\n",
       "  <th>num_x2</th>                     <td>   1.5e+04</td> <td>  604.861</td> <td>   24.794</td> <td> 0.000</td> <td> 1.38e+04</td> <td> 1.62e+04</td>\n",
       "</tr>\n",
       "<tr>\n",
       "  <th>num_x0</th>                     <td>-5.539e+04</td> <td> 2264.180</td> <td>  -24.465</td> <td> 0.000</td> <td>-5.98e+04</td> <td> -5.1e+04</td>\n",
       "</tr>\n",
       "<tr>\n",
       "  <th>num_x10</th>                    <td> 9521.3063</td> <td>  672.106</td> <td>   14.166</td> <td> 0.000</td> <td> 8203.907</td> <td> 1.08e+04</td>\n",
       "</tr>\n",
       "<tr>\n",
       "  <th>num_x8</th>                     <td>  939.9597</td> <td>  598.924</td> <td>    1.569</td> <td> 0.117</td> <td> -233.996</td> <td> 2113.915</td>\n",
       "</tr>\n",
       "<tr>\n",
       "  <th>num_x5</th>                     <td>-4.281e+04</td> <td> 1153.031</td> <td>  -37.131</td> <td> 0.000</td> <td>-4.51e+04</td> <td>-4.06e+04</td>\n",
       "</tr>\n",
       "<tr>\n",
       "  <th>ocean_proximity_1H OCEAN</th>   <td> 3.566e+04</td> <td> 1897.540</td> <td>   18.793</td> <td> 0.000</td> <td> 3.19e+04</td> <td> 3.94e+04</td>\n",
       "</tr>\n",
       "<tr>\n",
       "  <th>num_x4</th>                     <td> 4.839e+04</td> <td> 1149.893</td> <td>   42.085</td> <td> 0.000</td> <td> 4.61e+04</td> <td> 5.06e+04</td>\n",
       "</tr>\n",
       "<tr>\n",
       "  <th>num_x1</th>                     <td>-5.577e+04</td> <td> 2391.321</td> <td>  -23.322</td> <td> 0.000</td> <td>-6.05e+04</td> <td>-5.11e+04</td>\n",
       "</tr>\n",
       "<tr>\n",
       "  <th>num_x7</th>                     <td> 7.863e+04</td> <td>  706.170</td> <td>  111.350</td> <td> 0.000</td> <td> 7.72e+04</td> <td>    8e+04</td>\n",
       "</tr>\n",
       "<tr>\n",
       "  <th>ocean_proximity_ISLAND</th>     <td> 1.599e+05</td> <td> 3.35e+04</td> <td>    4.778</td> <td> 0.000</td> <td> 9.43e+04</td> <td> 2.25e+05</td>\n",
       "</tr>\n",
       "<tr>\n",
       "  <th>ocean_proximity_NEAR BAY</th>   <td>  2.94e+04</td> <td> 2544.314</td> <td>   11.554</td> <td> 0.000</td> <td> 2.44e+04</td> <td> 3.44e+04</td>\n",
       "</tr>\n",
       "</table>\n",
       "<table class=\"simpletable\">\n",
       "<tr>\n",
       "  <th>Omnibus:</th>       <td>3527.617</td> <th>  Durbin-Watson:     </th> <td>   2.006</td> \n",
       "</tr>\n",
       "<tr>\n",
       "  <th>Prob(Omnibus):</th>  <td> 0.000</td>  <th>  Jarque-Bera (JB):  </th> <td>13142.983</td>\n",
       "</tr>\n",
       "<tr>\n",
       "  <th>Skew:</th>           <td> 1.037</td>  <th>  Prob(JB):          </th> <td>    0.00</td> \n",
       "</tr>\n",
       "<tr>\n",
       "  <th>Kurtosis:</th>       <td> 6.848</td>  <th>  Cond. No.          </th> <td>    97.0</td> \n",
       "</tr>\n",
       "</table><br/><br/>Notes:<br/>[1] Standard Errors assume that the covariance matrix of the errors is correctly specified."
      ],
      "text/plain": [
       "<class 'statsmodels.iolib.summary.Summary'>\n",
       "\"\"\"\n",
       "                            OLS Regression Results                            \n",
       "==============================================================================\n",
       "Dep. Variable:                      y   R-squared:                       0.666\n",
       "Model:                            OLS   Adj. R-squared:                  0.666\n",
       "Method:                 Least Squares   F-statistic:                     2533.\n",
       "Date:                Sun, 29 Oct 2023   Prob (F-statistic):               0.00\n",
       "Time:                        00:45:57   Log-Likelihood:            -2.0684e+05\n",
       "No. Observations:               16512   AIC:                         4.137e+05\n",
       "Df Residuals:                   16498   BIC:                         4.138e+05\n",
       "Df Model:                          13                                         \n",
       "Covariance Type:            nonrobust                                         \n",
       "==============================================================================================\n",
       "                                 coef    std err          t      P>|t|      [0.025      0.975]\n",
       "----------------------------------------------------------------------------------------------\n",
       "intercept                   1.826e+05   1385.740    131.804      0.000     1.8e+05    1.85e+05\n",
       "ocean_proximity_NEAR OCEAN  4.044e+04   2452.659     16.487      0.000    3.56e+04    4.52e+04\n",
       "num_x9                       415.6674    533.452      0.779      0.436    -629.956    1461.291\n",
       "num_x2                        1.5e+04    604.861     24.794      0.000    1.38e+04    1.62e+04\n",
       "num_x0                     -5.539e+04   2264.180    -24.465      0.000   -5.98e+04    -5.1e+04\n",
       "num_x10                     9521.3063    672.106     14.166      0.000    8203.907    1.08e+04\n",
       "num_x8                       939.9597    598.924      1.569      0.117    -233.996    2113.915\n",
       "num_x5                     -4.281e+04   1153.031    -37.131      0.000   -4.51e+04   -4.06e+04\n",
       "ocean_proximity_1H OCEAN    3.566e+04   1897.540     18.793      0.000    3.19e+04    3.94e+04\n",
       "num_x4                      4.839e+04   1149.893     42.085      0.000    4.61e+04    5.06e+04\n",
       "num_x1                     -5.577e+04   2391.321    -23.322      0.000   -6.05e+04   -5.11e+04\n",
       "num_x7                      7.863e+04    706.170    111.350      0.000    7.72e+04       8e+04\n",
       "ocean_proximity_ISLAND      1.599e+05   3.35e+04      4.778      0.000    9.43e+04    2.25e+05\n",
       "ocean_proximity_NEAR BAY     2.94e+04   2544.314     11.554      0.000    2.44e+04    3.44e+04\n",
       "==============================================================================\n",
       "Omnibus:                     3527.617   Durbin-Watson:                   2.006\n",
       "Prob(Omnibus):                  0.000   Jarque-Bera (JB):            13142.983\n",
       "Skew:                           1.037   Prob(JB):                         0.00\n",
       "Kurtosis:                       6.848   Cond. No.                         97.0\n",
       "==============================================================================\n",
       "\n",
       "Notes:\n",
       "[1] Standard Errors assume that the covariance matrix of the errors is correctly specified.\n",
       "\"\"\""
      ]
     },
     "execution_count": 233,
     "metadata": {},
     "output_type": "execute_result"
    }
   ],
   "source": [
    "reg_ppln_ols['estimator'].summary()"
   ]
  },
  {
   "cell_type": "markdown",
   "metadata": {},
   "source": [
    "### 4.1.5 Model Evaluation(Linear Model)\n",
    "\n",
    "This will be part of the production code."
   ]
  },
  {
   "cell_type": "code",
   "execution_count": 234,
   "metadata": {},
   "outputs": [],
   "source": [
    "reg_ppln = Pipeline([\n",
    "    ('', FunctionTransformer(_custom_data_transform, kw_args={'cols2keep':reg_vars})),\n",
    "    ('Linear Regression', SKLStatsmodelOLS())\n",
    "])\n",
    "\n",
    "test_X = get_dataframe(\n",
    "    features_transformer.transform(test_X), \n",
    "    get_feature_names_from_column_transformer(features_transformer)\n",
    ")\n",
    "#test_X = test_X[curated_columns]"
   ]
  },
  {
   "cell_type": "code",
   "execution_count": 235,
   "metadata": {},
   "outputs": [],
   "source": [
    "reg_linear_report = RegressionReport(model=reg_ppln, x_train=train_X, y_train=train_y, x_test= test_X, y_test= test_y, refit=True)\n",
    "reg_linear_report.get_report(include_shap=False, file_path='regression_linear_model_report')"
   ]
  },
  {
   "cell_type": "markdown",
   "metadata": {},
   "source": [
    "**Dev Notes**\n",
    "Use SHAP for variable interpretability.\n",
    "<details>\n",
    "\n",
    "    1. Use SHAP=True to generate variable interpretability plots in the report\n",
    "    2. SHAP is recommended for non parameteric models such as RF, xgboost.\n",
    "    3. However, SHAP reports are time consuming depending on no.of records and model complexity.\n",
    "    \n",
    "A sample of regerssion report with SHAP can be found [here](https://drive.google.com/file/d/18RlQTsT1ze09Cgz-qpb4ha_cvyWbN5F5/view?usp=sharing).\n",
    "</details>"
   ]
  },
  {
   "cell_type": "markdown",
   "metadata": {},
   "source": [
    "### 4.1.6 Residual Analysis\n",
    "- After scoring the model, it is recommended to do a residual analysis to know the distribution of errors\n",
    "- we took a threshold of 30% above which it is marked as over prediction or underprediction\n",
    "- This will not be part of the production code."
   ]
  },
  {
   "cell_type": "code",
   "execution_count": 236,
   "metadata": {},
   "outputs": [],
   "source": [
    "threshold=0.3\n",
    "residual_analysis = test_X.copy()\n",
    "residual_analysis['prediction'] = reg_ppln_ols.predict(test_X)\n",
    "residual_analysis['actuals'] = test_y.reset_index(drop = True).iloc[:,0].values\n",
    "residual_analysis['forecast_flag'] = 'good'\n",
    "residual_analysis.loc[((residual_analysis['prediction'] > (1+threshold) * residual_analysis['actuals'])\\\n",
    "                       & (residual_analysis['actuals']>100)),'forecast_flag'] = 'over predict'\n",
    "residual_analysis.loc[((residual_analysis['prediction'] < (1-threshold) * residual_analysis['actuals'])\\\n",
    "                       & (residual_analysis['actuals']>100)),'forecast_flag'] = 'under predict'"
   ]
  },
  {
   "cell_type": "code",
   "execution_count": 239,
   "metadata": {},
   "outputs": [
    {
     "data": {},
     "metadata": {},
     "output_type": "display_data"
    },
    {
     "data": {
      "application/vnd.holoviews_exec.v0+json": "",
      "text/html": [
       "<div id='139033'>\n",
       "  <div class=\"bk-root\" id=\"986209e2-05df-495a-bb3e-344c9702f394\" data-root-id=\"139033\"></div>\n",
       "</div>\n",
       "<script type=\"application/javascript\">(function(root) {\n",
       "  function embed_document(root) {\n",
       "    var docs_json = {\"3470b7da-3dd0-4def-bba3-c2f30aa26fb8\":{\"defs\":[{\"extends\":null,\"module\":null,\"name\":\"ReactiveHTML1\",\"overrides\":[],\"properties\":[]},{\"extends\":null,\"module\":null,\"name\":\"FlexBox1\",\"overrides\":[],\"properties\":[{\"default\":\"flex-start\",\"kind\":null,\"name\":\"align_content\"},{\"default\":\"flex-start\",\"kind\":null,\"name\":\"align_items\"},{\"default\":\"row\",\"kind\":null,\"name\":\"flex_direction\"},{\"default\":\"wrap\",\"kind\":null,\"name\":\"flex_wrap\"},{\"default\":\"flex-start\",\"kind\":null,\"name\":\"justify_content\"}]},{\"extends\":null,\"module\":null,\"name\":\"GridStack1\",\"overrides\":[],\"properties\":[{\"default\":\"warn\",\"kind\":null,\"name\":\"mode\"},{\"default\":null,\"kind\":null,\"name\":\"ncols\"},{\"default\":null,\"kind\":null,\"name\":\"nrows\"},{\"default\":true,\"kind\":null,\"name\":\"allow_resize\"},{\"default\":true,\"kind\":null,\"name\":\"allow_drag\"},{\"default\":[],\"kind\":null,\"name\":\"state\"}]},{\"extends\":null,\"module\":null,\"name\":\"click1\",\"overrides\":[],\"properties\":[{\"default\":\"\",\"kind\":null,\"name\":\"terminal_output\"},{\"default\":\"\",\"kind\":null,\"name\":\"debug_name\"},{\"default\":0,\"kind\":null,\"name\":\"clears\"}]},{\"extends\":null,\"module\":null,\"name\":\"NotificationAreaBase1\",\"overrides\":[],\"properties\":[{\"default\":\"bottom-right\",\"kind\":null,\"name\":\"position\"},{\"default\":0,\"kind\":null,\"name\":\"_clear\"}]},{\"extends\":null,\"module\":null,\"name\":\"NotificationArea1\",\"overrides\":[],\"properties\":[{\"default\":[],\"kind\":null,\"name\":\"notifications\"},{\"default\":\"bottom-right\",\"kind\":null,\"name\":\"position\"},{\"default\":0,\"kind\":null,\"name\":\"_clear\"},{\"default\":[{\"background\":\"#ffc107\",\"icon\":{\"className\":\"fas fa-exclamation-triangle\",\"color\":\"white\",\"tagName\":\"i\"},\"type\":\"warning\"},{\"background\":\"#007bff\",\"icon\":{\"className\":\"fas fa-info-circle\",\"color\":\"white\",\"tagName\":\"i\"},\"type\":\"info\"}],\"kind\":null,\"name\":\"types\"}]},{\"extends\":null,\"module\":null,\"name\":\"Notification\",\"overrides\":[],\"properties\":[{\"default\":null,\"kind\":null,\"name\":\"background\"},{\"default\":3000,\"kind\":null,\"name\":\"duration\"},{\"default\":null,\"kind\":null,\"name\":\"icon\"},{\"default\":\"\",\"kind\":null,\"name\":\"message\"},{\"default\":null,\"kind\":null,\"name\":\"notification_type\"},{\"default\":false,\"kind\":null,\"name\":\"_destroyed\"}]},{\"extends\":null,\"module\":null,\"name\":\"TemplateActions1\",\"overrides\":[],\"properties\":[{\"default\":0,\"kind\":null,\"name\":\"open_modal\"},{\"default\":0,\"kind\":null,\"name\":\"close_modal\"}]},{\"extends\":null,\"module\":null,\"name\":\"MaterialTemplateActions1\",\"overrides\":[],\"properties\":[{\"default\":0,\"kind\":null,\"name\":\"open_modal\"},{\"default\":0,\"kind\":null,\"name\":\"close_modal\"}]}],\"roots\":{\"references\":[{\"attributes\":{\"coordinates\":null,\"data_source\":{\"id\":\"139097\"},\"glyph\":{\"id\":\"139100\"},\"group\":null,\"hover_glyph\":null,\"muted_glyph\":{\"id\":\"139102\"},\"nonselection_glyph\":{\"id\":\"139101\"},\"selection_glyph\":{\"id\":\"139118\"},\"view\":{\"id\":\"139104\"}},\"id\":\"139103\",\"type\":\"GlyphRenderer\"},{\"attributes\":{\"fill_alpha\":0.2,\"fill_color\":\"#fc4f30\",\"hatch_alpha\":0.2,\"hatch_color\":\"#fc4f30\",\"line_alpha\":0.2,\"x\":{\"field\":\"x\"},\"y\":{\"field\":\"y\"}},\"id\":\"139102\",\"type\":\"Patch\"},{\"attributes\":{},\"id\":\"139054\",\"type\":\"BasicTicker\"},{\"attributes\":{\"overlay\":{\"id\":\"139062\"}},\"id\":\"139060\",\"type\":\"BoxZoomTool\"},{\"attributes\":{\"fill_alpha\":0.5,\"fill_color\":\"#fc4f30\",\"hatch_alpha\":0.7,\"hatch_color\":\"#fc4f30\",\"line_alpha\":0.7,\"x\":{\"field\":\"x\"},\"y\":{\"field\":\"y\"}},\"id\":\"139100\",\"type\":\"Patch\"},{\"attributes\":{},\"id\":\"139091\",\"type\":\"UnionRenderers\"},{\"attributes\":{\"data\":{\"x\":{\"__ndarray__\":\"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\",\"dtype\":\"float64\",\"order\":\"little\",\"shape\":[200]},\"y\":{\"__ndarray__\":\"AAAAAAAAAAAAAAAAAAAAAAAAAAAAAAAAAAAAAAAAAAAAAAAAAAAAAAAAAAAAAAAAAAAAAAAAAAAAAAAAAAAAAAAAAAAAAAAAAAAAAAAAAAAAAAAAAAAAAAAAAAAAAAAAAAAAAAAAAAAAAAAAAAAAAAAAAAAAAAAAAAAAAAAAAAAAAAAAAAAAAAAAAAAAAAAAAAAAAAAAAAAAAAAAAAAAAAAAAAAAAAAAAAAAAAAAAAAAAAAAAAAAAAAAAAAAAAAAAAAAAAAAAAAAAAAAAAAAAAAAAAAAAAAAAAAAAAAAAAAAAAAAAAAAAAAAAAAAAAAAAAAAAAAAAAAAAAAAAAAAAAAAAAAAAAAAAAAAAAAAAAAAAAAAAAAAAAAAAAAAAAAAAAAAAAAAAAAAAAAAAAAAAAAAAAAAAAAAAAAAAAAAAAAAAAAAAAAAAAAAAAAAAAAAAAAAAAAAAAAAAAAAAAAAAAAAAAAAAAAAAAAAAAAAAAAAAAAAAAAAAAAAAAAAAAAAAAAAAAAAAAAAAAAAAAAAAAAAAAAAAAAAAAAAAAAAAAAAAAAAAAAAAAAAAAAAAAAAAAAAAAAAAAAAAAAAAAAAAAAAAAAAAAAAAAAAAAAAAAAAAAAAAAAAAAAAAAAAAAAAAAAAAAAAAAAAAAAAAAAAAAAAAAAAAAAAAAAAAAAAAAAAAAAAAAAAAAAAAAAAAAAAAAAAAAAAAAAAAAAAAAAAAAAAAAAAAAAAAAAAAAAAAAAAAAAAAAAAAAAAAAAAAAAAAAAAAAAAAAAAAAAAAAAAAAAAAAAAAAAAAAAAAAAAAAAAAAAAAAAAAAAAAAAAAAAAAAAAAAAAAAAAAAAAAAAAAAAAAAAAAAAAAAAAAAAAAAAAAAAAAAAAAAAAAAAAAAAAAAAAAAAAAAAAAAAAAAAAAAAAAAAAAAAAAAAAAAAAAAAAAAAAAAAAAAAAAAAAAAAAAAAAAAAAAAAAAAAAAAAAAAAAAAAAAAAAAAAAAAAAAAAAAAAAAAAAAAAAAAAAAAAAAAAAAAAAAAAAAAAAAAAAAAAAAAAAAAAAAAAAAAAAAAD32L2Z5CMtPhG+d5K3o0Q+t6tyJ21/WT68+buXgHhrPn/PSrWXz3k+i3CDIkwmhT6cLT0fIzqOPn9EzOZu1pI+vJ6v6e55lD5xu56/JmmTPqGJYWETDJA+uSL38qgjhz6NCszXKBl9PtBlBytl6W8+4z1S9VyFXj6lFNPXDnVJPtMvjh6ShDI+pWmv8pN+Fz6igDq89P75PYiJQbu7Fdk9e33DN+wctT2WvJ3lIi+PPVMULwqCFGk9ahMyRItycD3mWpAarOSSPe3Lx20Xk7Q9JML2o9OU0z2hL4qP2kDwPdxKPT7ohwc+CniGvrW1HT542nL2VFswPpyagbT6aT8+/q2n++5OSj6QvcnlTzdTPjmPwLEYfVg+lkzf+KU/Wz4TbWEDAJBaPoUh3a4c+1Y+RVi2c/9/Uj4pCQW5S9xPPkkn6U8vMlI+SM+m7ZfaWz4sGw+JxVNnPrGo6YgKvXI+Z0uKPjfTez4MWwPtUR2DPqyjHO4Tq4g+FtvxPpiMjj4Nb/NlZ4uSPiyoBeQ1YpY+TikDHJvsmj4/BrQc1AugPvSecg+H26I+6CqaHhbnpT6/ahRge2ypPve45GBc8K0+bwMyNfQRsj4WWA8jJVi2Ph0UI/t//bs+eH6EsfB8wT7CX+Tj7H7FPpBo3g9bvsk+m9RfzBnpzT7RxCJpMt7QPp5ECbaKjdI+3js+TaMJ1D6qjemPh2jVPjpcmdxhwtY+cHcUQOIj2D5aJeGcm4bZPteltUDm1No++JkyKfL42z6SD837Tu7cPo9ipOvWyN0+4jSALRyo3j4Jj1pft5rfPrNt2eC4QeA+ZPd++MuL4D6eop3rjX/gPsahKrKKAeA+bGQehron3j591y5jMJ/bPubvLkPBpNg+LBSkbc9h1T51y0F5UO/RPmQwTJ6P08w+rsxQ/Ob+xT71DnmzVKm/PtW/KMWWb7U+r12tNjNZqz4+8UIeYIagPq6r3TTMDJM+jRetTHgRhT7Ib7WU5112Pt4UY/mcpWY++/0tS9GYVT4Fkl83ERpDPn2y8tUr4C4+i9TViKCEFj6PoVA0kVv9PQ==\",\"dtype\":\"float64\",\"order\":\"little\",\"shape\":[200]}},\"selected\":{\"id\":\"139098\"},\"selection_policy\":{\"id\":\"139114\"}},\"id\":\"139097\",\"type\":\"ColumnDataSource\"},{\"attributes\":{\"fill_alpha\":0.5,\"fill_color\":\"#30a2da\",\"hatch_alpha\":0.7,\"hatch_color\":\"#30a2da\",\"line_alpha\":0.7,\"x\":{\"field\":\"x\"},\"y\":{\"field\":\"y\"}},\"id\":\"139079\",\"type\":\"Patch\"},{\"attributes\":{},\"id\":\"139072\",\"type\":\"AllLabels\"},{\"attributes\":{},\"id\":\"139057\",\"type\":\"SaveTool\"},{\"attributes\":{\"source\":{\"id\":\"139076\"}},\"id\":\"139083\",\"type\":\"CDSView\"},{\"attributes\":{},\"id\":\"139061\",\"type\":\"ResetTool\"},{\"attributes\":{\"margin\":[5,5,5,5],\"name\":\"HSpacer331192\",\"sizing_mode\":\"stretch_width\"},\"id\":\"139034\",\"type\":\"Spacer\"},{\"attributes\":{\"label\":{\"value\":\"over predict\"},\"renderers\":[{\"id\":\"139103\"}]},\"id\":\"139117\",\"type\":\"LegendItem\"},{\"attributes\":{\"fill_alpha\":0.5,\"fill_color\":\"#e5ae38\",\"hatch_alpha\":0.7,\"hatch_color\":\"#e5ae38\",\"line_alpha\":0.7,\"x\":{\"field\":\"x\"},\"y\":{\"field\":\"y\"}},\"id\":\"139142\",\"type\":\"Patch\"},{\"attributes\":{},\"id\":\"139045\",\"type\":\"LinearScale\"},{\"attributes\":{\"axis\":{\"id\":\"139049\"},\"coordinates\":null,\"grid_line_color\":null,\"group\":null,\"ticker\":null},\"id\":\"139052\",\"type\":\"Grid\"},{\"attributes\":{\"axis_label\":\"density\",\"coordinates\":null,\"formatter\":{\"id\":\"139074\"},\"group\":null,\"major_label_policy\":{\"id\":\"139075\"},\"ticker\":{\"id\":\"139054\"}},\"id\":\"139053\",\"type\":\"LinearAxis\"},{\"attributes\":{\"fill_alpha\":0.5,\"fill_color\":\"#e5ae38\",\"hatch_alpha\":0.1,\"hatch_color\":\"#e5ae38\",\"line_alpha\":0.7,\"x\":{\"field\":\"x\"},\"y\":{\"field\":\"y\"}},\"id\":\"139123\",\"type\":\"Patch\"},{\"attributes\":{\"label\":{\"value\":\"good\"},\"renderers\":[{\"id\":\"139082\"}]},\"id\":\"139095\",\"type\":\"LegendItem\"},{\"attributes\":{},\"id\":\"139098\",\"type\":\"Selection\"},{\"attributes\":{},\"id\":\"139047\",\"type\":\"LinearScale\"},{\"attributes\":{},\"id\":\"139120\",\"type\":\"Selection\"},{\"attributes\":{},\"id\":\"139058\",\"type\":\"PanTool\"},{\"attributes\":{\"coordinates\":null,\"group\":null,\"text\":\"median_house_value(density)\",\"text_color\":\"black\",\"text_font_size\":\"12pt\"},\"id\":\"139041\",\"type\":\"Title\"},{\"attributes\":{\"fill_alpha\":0.5,\"fill_color\":\"#fc4f30\",\"hatch_alpha\":0.1,\"hatch_color\":\"#fc4f30\",\"line_alpha\":0.7,\"x\":{\"field\":\"x\"},\"y\":{\"field\":\"y\"}},\"id\":\"139101\",\"type\":\"Patch\"},{\"attributes\":{\"axis\":{\"id\":\"139053\"},\"coordinates\":null,\"dimension\":1,\"grid_line_color\":null,\"group\":null,\"ticker\":null},\"id\":\"139056\",\"type\":\"Grid\"},{\"attributes\":{\"source\":{\"id\":\"139097\"}},\"id\":\"139104\",\"type\":\"CDSView\"},{\"attributes\":{},\"id\":\"139074\",\"type\":\"BasicTickFormatter\"},{\"attributes\":{\"label\":{\"value\":\"under predict\"},\"renderers\":[{\"id\":\"139125\"}]},\"id\":\"139141\",\"type\":\"LegendItem\"},{\"attributes\":{},\"id\":\"139077\",\"type\":\"Selection\"},{\"attributes\":{},\"id\":\"139075\",\"type\":\"AllLabels\"},{\"attributes\":{},\"id\":\"139050\",\"type\":\"BasicTicker\"},{\"attributes\":{\"coordinates\":null,\"data_source\":{\"id\":\"139076\"},\"glyph\":{\"id\":\"139079\"},\"group\":null,\"hover_glyph\":null,\"muted_glyph\":{\"id\":\"139081\"},\"nonselection_glyph\":{\"id\":\"139080\"},\"selection_glyph\":{\"id\":\"139096\"},\"view\":{\"id\":\"139083\"}},\"id\":\"139082\",\"type\":\"GlyphRenderer\"},{\"attributes\":{\"children\":[{\"id\":\"139034\"},{\"id\":\"139040\"},{\"id\":\"139255\"}],\"margin\":[0,0,0,0],\"name\":\"Row331188\",\"tags\":[\"embedded\"]},\"id\":\"139033\",\"type\":\"Row\"},{\"attributes\":{\"callback\":null,\"renderers\":[{\"id\":\"139082\"},{\"id\":\"139103\"},{\"id\":\"139125\"}],\"tags\":[\"hv_created\"],\"tooltips\":[[\"forecast_flag\",\"@{forecast_flag}\"],[\"actuals\",\"@{actuals}\"],[\"Density\",\"@{actuals_density}\"]]},\"id\":\"139037\",\"type\":\"HoverTool\"},{\"attributes\":{\"end\":8.678764846693743e-06,\"reset_end\":8.678764846693743e-06,\"reset_start\":0.0,\"tags\":[[[\"actuals_density\",\"Density\",null]]]},\"id\":\"139036\",\"type\":\"Range1d\"},{\"attributes\":{\"bottom_units\":\"screen\",\"coordinates\":null,\"fill_alpha\":0.5,\"fill_color\":\"lightgrey\",\"group\":null,\"left_units\":\"screen\",\"level\":\"overlay\",\"line_alpha\":1.0,\"line_color\":\"black\",\"line_dash\":[4,4],\"line_width\":2,\"right_units\":\"screen\",\"syncable\":false,\"top_units\":\"screen\"},\"id\":\"139062\",\"type\":\"BoxAnnotation\"},{\"attributes\":{\"margin\":[5,5,5,5],\"name\":\"HSpacer331193\",\"sizing_mode\":\"stretch_width\"},\"id\":\"139255\",\"type\":\"Spacer\"},{\"attributes\":{\"fill_alpha\":0.5,\"fill_color\":\"#30a2da\",\"hatch_alpha\":0.1,\"hatch_color\":\"#30a2da\",\"line_alpha\":0.7,\"x\":{\"field\":\"x\"},\"y\":{\"field\":\"y\"}},\"id\":\"139080\",\"type\":\"Patch\"},{\"attributes\":{},\"id\":\"139138\",\"type\":\"UnionRenderers\"},{\"attributes\":{},\"id\":\"139114\",\"type\":\"UnionRenderers\"},{\"attributes\":{\"click_policy\":\"mute\",\"coordinates\":null,\"group\":null,\"items\":[{\"id\":\"139095\"},{\"id\":\"139117\"},{\"id\":\"139141\"}],\"title\":\"forecast_flag\"},\"id\":\"139094\",\"type\":\"Legend\"},{\"attributes\":{\"data\":{\"x\":{\"__ndarray__\":\"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\",\"dtype\":\"float64\",\"order\":\"little\",\"shape\":[200]},\"y\":{\"__ndarray__\":\"AAAAAAAAAAAAAAAAAAAAAAAAAAAAAAAAAAAAAAAAAAAAAAAAAAAAAAAAAAAAAAAAAAAAAAAAAAAAAAAAAAAAAAAAAAAAAAAAAAAAAAAAAAAAAAAAAAAAAAAAAAAAAAAAAAAAAAAAAAAAAAAAAAAAAAAAAAAAAAAAAAAAAAAAAAAAAAAAAAAAAAAAAAAAAAAAAAAAAAAAAAAAAAAAAAAAAAAAAAAAAAAAAAAAAAAAAAAAAAAAAAAAAAAAAAAAAAAAAAAAAAAAAAAAAAAAAAAAAAAAAAAAAAAAAAAAAAAAAAAAAAAAAAAAAAAAAAAAAAAAAAAAAAAAAAAAAAAAAAAAAAAAAAAAAAAAAAAAAAAAAAAAAAAAAAAAAAAAAAAAAAAAAAAAAAAAAAAAAAAAAAAAAAAAAAAAAAAAAAAAAAAAAAAAAAAAAAAAAAAAAAAAAAAAAAAAAAAAAAAAAAAAAAAAAAAAAAAAAAAAAAAAAAAAAAAAAAAAAAAAAAAAAAAAAAAAAAAAAAAAAAAAAAAAAAAAAAAAAAAAAAAAAAAAAAAAAAAAAAAAAAAAAAAAAAAAAAAAAAAAAAAAAAAAAAAAAAAAAAAAAAAAAAAAAAAAAAAAAAAAAAAAAAAAAAAAAAAAAAAAAAAAAAAAAAAAAAAAAAAAAAAAAAAAAAAAAAAAAAAAAAAAAAAAAAAAAAAAAAAAAAAAAAAAAAAAAAAAAAAAAAAAAAAAAAAAAAAAAAAAAAAAAAAAAAAAAAAAAAAAAAAAAAAAAAAAAAAAAAAAAAAAAAAAAAAAAAAAAAAAAAAAAAAAAAAAAAAAAAAAAAAAAAAAAAAAAAAAAAAAAAAAAAAAAAAAAAAAAAAAAAAAAAAAAAAAAAAAAAAAAAAAAAAAAAAAAAAAAAAAAAAAAAAAAAAAAAAAAAAAAAAAAAAAAAAAAAAAAAAAAAAAAAAAAAAAAAAAAAAAAAAAAAAAAAAAAAAAAAAAAAAAAAAAAAAAAAAAAAAAAAAAAAAAAAAAAAAAAAAAAAAAAAAAAAAAAAAAAAAAAAAAAAAAAAAAAAAAAAAAAAAAAAA/6SPBjt1PPjOV6SwT11k+t43meMJoZD4JdJ+aSGdvPo4OcJkgiXc+JXi8A1kvgT42LKHj5XOIPhwunzYs9JA+KOPZhQXqlj4Y7I1+QzGePn3uVXOSZaM+d7x2qWZPqD7hzl4b+7qtPkfRlG9Av7E+EWT3mcextD77CJb0n5W3PpPALvb5Sbo+kN2ACQCwvD4fVIz5Ia6+PqbQJu1nGcA+USv+JRqbwD5Wn9KTVd3APu/VThb25cA+EO80qI2+wD5kMjtWDnPAPuyxyO5PEMA+WifYu1NFvz4+PQHcm2m+PqNwz/z9nb0+tzW3VVjtvD6xI8re0ly8PqWTRZVp7Ls+6qbq2OSXuz7Jy1WmFFi7PrnI8tMnJLs+B/U1Pf7yuj4gQMomWry6Pl0CV/nZebo+x/ubmqgnuj5ipMEt2cS5Pu/s1TRrU7k+9cryUP3XuD6E8KnQPVm4PuIFoTcv37c+93Wmm1pytz75xDqACRu3PrPF/vqc4LY+x6sfSBHJtj7Lk/zWtNi2PkzCcp4RErc+Nv9zeQB2tz5/s8Ft2QO4PrmdzMCxubg+eueF45mUuT4nPDc60ZC6PmyPf67rqbs+QVchVOvavD4t4LNrVR6+PtfioxNMbr8+gws3BVpiwD6s6rMYtA3BPg4vQEA6tsE+QiQALiVZwj7f1IDY7fPCPu+XSKtFhMM++NcdffQHxD42ytUxnnzEPpNRJhJ638Q+n4KUOw0txT5HlgfD/WDFPjX69nQTdsU+JfKy3HRmxT4HOiMuJCzFPllhKPWxwcQ+ppDsFg4jxD4l1+bzVU7DPoDgeOd6RMI+2vCnOKAJwT4pdP6xNEq/PrQBRekRQrw+sy0vOy0TuT44dbZV8Ne1PmVQAD6gqrI+A/a+tXZGrz5N5Cjca6upPreW94KQoaQ+US2Lsc06oD7QEeWEg/uYPn+CGUYlzpI+zO4XNPytiz5dXqPWMemDPoGb0GOt/Xs+TRZDO444cz7g21YTWshpPqqC1ujX4mA+g/NI4G6YVT66I77pyvVKPjIa7jrdbEA+/O96EwGIMz4RFp2AXKkmPg==\",\"dtype\":\"float64\",\"order\":\"little\",\"shape\":[200]}},\"selected\":{\"id\":\"139120\"},\"selection_policy\":{\"id\":\"139138\"}},\"id\":\"139119\",\"type\":\"ColumnDataSource\"},{\"attributes\":{\"source\":{\"id\":\"139119\"}},\"id\":\"139126\",\"type\":\"CDSView\"},{\"attributes\":{\"fill_alpha\":0.5,\"fill_color\":\"#e5ae38\",\"hatch_alpha\":0.7,\"hatch_color\":\"#e5ae38\",\"line_alpha\":0.7,\"x\":{\"field\":\"x\"},\"y\":{\"field\":\"y\"}},\"id\":\"139122\",\"type\":\"Patch\"},{\"attributes\":{\"fill_alpha\":0.2,\"fill_color\":\"#e5ae38\",\"hatch_alpha\":0.2,\"hatch_color\":\"#e5ae38\",\"line_alpha\":0.2,\"x\":{\"field\":\"x\"},\"y\":{\"field\":\"y\"}},\"id\":\"139124\",\"type\":\"Patch\"},{\"attributes\":{\"axis_label\":\"median_house_value\",\"coordinates\":null,\"formatter\":{\"id\":\"139071\"},\"group\":null,\"major_label_policy\":{\"id\":\"139072\"},\"ticker\":{\"id\":\"139050\"}},\"id\":\"139049\",\"type\":\"LinearAxis\"},{\"attributes\":{\"data\":{\"x\":{\"__ndarray__\":\"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\",\"dtype\":\"float64\",\"order\":\"little\",\"shape\":[200]},\"y\":{\"__ndarray__\":\"AAAAAAAAAAAAAAAAAAAAAAAAAAAAAAAAAAAAAAAAAAAAAAAAAAAAAAAAAAAAAAAAAAAAAAAAAAAAAAAAAAAAAAAAAAAAAAAAAAAAAAAAAAAAAAAAAAAAAAAAAAAAAAAAAAAAAAAAAAAAAAAAAAAAAAAAAAAAAAAAAAAAAAAAAAAAAAAAAAAAAAAAAAAAAAAAAAAAAAAAAAAAAAAAAAAAAAAAAAAAAAAAAAAAAAAAAAAAAAAAAAAAAAAAAAAAAAAAAAAAAAAAAAAAAAAAAAAAAAAAAAAAAAAAAAAAAAAAAAAAAAAAAAAAAAAAAAAAAAAAAAAAAAAAAAAAAAAAAAAAAAAAAAAAAAAAAAAAAAAAAAAAAAAAAAAAAAAAAAAAAAAAAAAAAAAAAAAAAAAAAAAAAAAAAAAAAAAAAAAAAAAAAAAAAAAAAAAAAAAAAAAAAAAAAAAAAAAAAAAAAAAAAAAAAAAAAAAAAAAAAAAAAAAAAAAAAAAAAAAAAAAAAAAAAAAAAAAAAAAAAAAAAAAAAAAAAAAAAAAAAAAAAAAAAAAAAAAAAAAAAAAAAAAAAAAAAAAAAAAAAAAAAAAAAAAAAAAAAAAAAAAAAAAAAAAAAAAAAAAAAAAAAAAAAAAAAAAAAAAAAAAAAAAAAAAAAAAAAAAAAAAAAAAAAAAAAAAAAAAAAAAAAAAAAAAAAAAAAAAAAAAAAAAAAAAAAAAAAAAAAAAAAAAAAAAAAAAAAAAAAAAAAAAAAAAAAAAAAAAAAAAAAAAAAAAAAAAAAAAAAAAAAAAAAAAAAAAAAAAAAAAAAAAAAAAAAAAAAAAAAAAAAAAAAAAAAAAAAAAAAAAAAAAAAAAAAAAAAAAAAAAAAAAAAAAAAAAAAAAAAAAAAAAAAAAAAAAAAAAAAAAAAAAAAAAAAAAAAAAAAAAAAAAAAAAAAAAAAAAAAAAAAAAAAAAAAAAAAAAAAAAAAAAAAAAAAAAAAAAAAAAAAAAAAAAAAAAAAAAAAAAAAAAAAAAAAAAAAAAAAAAAAAAAAAAAAAAAAAAAAAAAAAAAAAAAAAAAAAAAAAAAAACTom+sbXVEPsZVk/7dRFY+tDrS716HZj4k5V6yVC91PrBYzVnWhII+PymFOTkajj65TuvdfMCWPgkiZckp/p8+DKqEtNnupD5YplCGPIKpPh4HRw9j+aw+C2+vK924rj53bLSC0HuuPlyir+Rea6w+fXfH2qMQqT6kwIDWGSilPjnKHG6DaqE+ldVfeLXCnD4oyXjKhaeYPonvv5nDl5Y+Zm1x6xdWlj7KkLtVuYGXPvNUlMqUuZk+N/4to2iunD4rSndyKBOgPnzD5yMc/KE+14s8jOICpD4twgSPGhymPuzBm22zQKg+s8mFo45vqj6i5L4eUa6sPn3Zi+yoB68+2/hWVU/DsD6kcdoCJRiyPs0dVKk9f7M+sxU7CQLvtD71maMbHFm2PgF6Bp25rrc+mNQEHjfmuD5lxXTHUwC6PifV2MDWCrs+U+O4lycfvD5Ss3JFtly9PpoIcT+24L4+7nbDKvVewD597X0OuXvBPnoXxCpEwMI+SM5/2qAgxD5fus5aKY/FPtA8lLRFAMc+ngo6r2JsyD7L3dqCUs/JPmiKUSOdJcs+zRhovnhpzD7TJST1fZHNPgs0j3dYks4+Ayrb4whjzz6Nzfmz1gDQPi2Rwf4UO9A+mWGY9m5o0D45UqpAupLQPjFLzyfjwdA+6k8uJNX40D6aWEqADDTRPpuWTjhDatE+wVWdBdmO0T5KL2DrD5XRPixDvf8bc9E+zxwmNT8k0T5gDu8vjanQPos+Pl5aCdA+JAm3IlObzj5KHpTXJgTNPrcRKAhGY8s+W9nNMBrKyT47kBFuHUPIPv0aE+FL0cY++3xdN1VxxT6+0yj6ERzEPi6zHhRCycI+m9A5fYhxwT5lxOgAJA/APoowltWQO70+6WtpLy01uj7UDY5QCAq3PtKm+G45wbM+RqkiKRhtsD4YViCSWlaqPkYSS95PP6Q+Ejzat9e1nT4JGeKiMLiUPq4NWL/lYIs+NmySQ4sXgT7D5q8nUB90Pp4QbQkBTWY+iKggQkM8Vz6OsOZcXLxGPuSDLG773zQ+lPLhyqv4IT5NZkvA+P4MPg==\",\"dtype\":\"float64\",\"order\":\"little\",\"shape\":[200]}},\"selected\":{\"id\":\"139077\"},\"selection_policy\":{\"id\":\"139091\"}},\"id\":\"139076\",\"type\":\"ColumnDataSource\"},{\"attributes\":{\"tools\":[{\"id\":\"139037\"},{\"id\":\"139057\"},{\"id\":\"139058\"},{\"id\":\"139059\"},{\"id\":\"139060\"},{\"id\":\"139061\"}]},\"id\":\"139063\",\"type\":\"Toolbar\"},{\"attributes\":{\"fill_alpha\":0.2,\"fill_color\":\"#30a2da\",\"hatch_alpha\":0.2,\"hatch_color\":\"#30a2da\",\"line_alpha\":0.2,\"x\":{\"field\":\"x\"},\"y\":{\"field\":\"y\"}},\"id\":\"139081\",\"type\":\"Patch\"},{\"attributes\":{\"end\":636523.1996457343,\"reset_end\":636523.1996457343,\"reset_start\":-101922.19964573425,\"start\":-101922.19964573425,\"tags\":[[[\"actuals\",\"actuals\",null]]]},\"id\":\"139035\",\"type\":\"Range1d\"},{\"attributes\":{\"fill_alpha\":0.5,\"fill_color\":\"#30a2da\",\"hatch_alpha\":0.7,\"hatch_color\":\"#30a2da\",\"line_alpha\":0.7,\"x\":{\"field\":\"x\"},\"y\":{\"field\":\"y\"}},\"id\":\"139096\",\"type\":\"Patch\"},{\"attributes\":{\"below\":[{\"id\":\"139049\"}],\"center\":[{\"id\":\"139052\"},{\"id\":\"139056\"},{\"id\":\"139094\"}],\"height\":400,\"left\":[{\"id\":\"139053\"}],\"margin\":[5,5,5,5],\"min_border_bottom\":10,\"min_border_left\":10,\"min_border_right\":10,\"min_border_top\":10,\"renderers\":[{\"id\":\"139082\"},{\"id\":\"139103\"},{\"id\":\"139125\"}],\"sizing_mode\":\"fixed\",\"title\":{\"id\":\"139041\"},\"toolbar\":{\"id\":\"139063\"},\"width\":800,\"x_range\":{\"id\":\"139035\"},\"x_scale\":{\"id\":\"139045\"},\"y_range\":{\"id\":\"139036\"},\"y_scale\":{\"id\":\"139047\"}},\"id\":\"139040\",\"subtype\":\"Figure\",\"type\":\"Plot\"},{\"attributes\":{},\"id\":\"139059\",\"type\":\"WheelZoomTool\"},{\"attributes\":{\"fill_alpha\":0.5,\"fill_color\":\"#fc4f30\",\"hatch_alpha\":0.7,\"hatch_color\":\"#fc4f30\",\"line_alpha\":0.7,\"x\":{\"field\":\"x\"},\"y\":{\"field\":\"y\"}},\"id\":\"139118\",\"type\":\"Patch\"},{\"attributes\":{\"coordinates\":null,\"data_source\":{\"id\":\"139119\"},\"glyph\":{\"id\":\"139122\"},\"group\":null,\"hover_glyph\":null,\"muted_glyph\":{\"id\":\"139124\"},\"nonselection_glyph\":{\"id\":\"139123\"},\"selection_glyph\":{\"id\":\"139142\"},\"view\":{\"id\":\"139126\"}},\"id\":\"139125\",\"type\":\"GlyphRenderer\"},{\"attributes\":{},\"id\":\"139071\",\"type\":\"BasicTickFormatter\"}],\"root_ids\":[\"139033\"]},\"title\":\"Bokeh Application\",\"version\":\"2.4.3\"}};\n",
       "    var render_items = [{\"docid\":\"3470b7da-3dd0-4def-bba3-c2f30aa26fb8\",\"root_ids\":[\"139033\"],\"roots\":{\"139033\":\"986209e2-05df-495a-bb3e-344c9702f394\"}}];\n",
       "    root.Bokeh.embed.embed_items_notebook(docs_json, render_items);\n",
       "  }\n",
       "  if (root.Bokeh !== undefined && root.Bokeh.Panel !== undefined) {\n",
       "    embed_document(root);\n",
       "  } else {\n",
       "    var attempts = 0;\n",
       "    var timer = setInterval(function(root) {\n",
       "      if (root.Bokeh !== undefined && root.Bokeh.Panel !== undefined) {\n",
       "        clearInterval(timer);\n",
       "        embed_document(root);\n",
       "      } else if (document.readyState == \"complete\") {\n",
       "        attempts++;\n",
       "        if (attempts > 200) {\n",
       "          clearInterval(timer);\n",
       "          console.log(\"Bokeh: ERROR: Unable to run BokehJS code because BokehJS library is missing\");\n",
       "        }\n",
       "      }\n",
       "    }, 25, root)\n",
       "  }\n",
       "})(window);</script>"
      ],
      "text/plain": [
       ":NdOverlay   [forecast_flag]\n",
       "   :Distribution   [actuals]   (Density)"
      ]
     },
     "execution_count": 239,
     "metadata": {
      "application/vnd.holoviews_exec.v0+json": {
       "id": "139033"
      }
     },
     "output_type": "execute_result"
    }
   ],
   "source": [
    "residual_analysis.hvplot.kde(y=\"actuals\",by=\"forecast_flag\", ## Grouping by Predictions\n",
    "                                width=800, height=400,\n",
    "                                alpha=0.7,\n",
    "                                ylabel=\"density\",\n",
    "                                xlabel=\"median_house_value\",\n",
    "                                title=f'median_house_value(density)',legend='top_right')"
   ]
  },
  {
   "cell_type": "markdown",
   "metadata": {},
   "source": [
    "- From the above plot we can infer that the higher \"over predictions\" are happening for unit_cost > 200.\n",
    "- similarly, the higher \"under predictions\" are happening for unit_cost is zero.\n",
    "\n",
    "This can help us tune the model by a separate model for unit_cost > 200\n"
   ]
  },
  {
   "cell_type": "markdown",
   "metadata": {},
   "source": [
    "# 4.2 Modelling - XGBoost"
   ]
  },
  {
   "cell_type": "markdown",
   "metadata": {},
   "source": [
    "## 4.2.1 Model training pipeline\n",
    "\n",
    "Here we focus on creating a collection of pipelines that can be used for tranining respective models.\n",
    "\n",
    "Each model pipeline will essentially be of the form\n",
    "```\n",
    "[\n",
    "('preprocessing', preprocessing_pipeline),\n",
    "('feature_selection', feature_selection_pipeline),\n",
    "('estimator', estimator),\n",
    "]\n",
    "```"
   ]
  },
  {
   "cell_type": "markdown",
   "metadata": {},
   "source": [
    "### 4.2.2 Model Pipeline Build"
   ]
  },
  {
   "cell_type": "code",
   "execution_count": 240,
   "metadata": {},
   "outputs": [
    {
     "data": {
      "text/html": [
       "<style>#sk-container-id-6 {color: black;background-color: white;}#sk-container-id-6 pre{padding: 0;}#sk-container-id-6 div.sk-toggleable {background-color: white;}#sk-container-id-6 label.sk-toggleable__label {cursor: pointer;display: block;width: 100%;margin-bottom: 0;padding: 0.3em;box-sizing: border-box;text-align: center;}#sk-container-id-6 label.sk-toggleable__label-arrow:before {content: \"▸\";float: left;margin-right: 0.25em;color: #696969;}#sk-container-id-6 label.sk-toggleable__label-arrow:hover:before {color: black;}#sk-container-id-6 div.sk-estimator:hover label.sk-toggleable__label-arrow:before {color: black;}#sk-container-id-6 div.sk-toggleable__content {max-height: 0;max-width: 0;overflow: hidden;text-align: left;background-color: #f0f8ff;}#sk-container-id-6 div.sk-toggleable__content pre {margin: 0.2em;color: black;border-radius: 0.25em;background-color: #f0f8ff;}#sk-container-id-6 input.sk-toggleable__control:checked~div.sk-toggleable__content {max-height: 200px;max-width: 100%;overflow: auto;}#sk-container-id-6 input.sk-toggleable__control:checked~label.sk-toggleable__label-arrow:before {content: \"▾\";}#sk-container-id-6 div.sk-estimator input.sk-toggleable__control:checked~label.sk-toggleable__label {background-color: #d4ebff;}#sk-container-id-6 div.sk-label input.sk-toggleable__control:checked~label.sk-toggleable__label {background-color: #d4ebff;}#sk-container-id-6 input.sk-hidden--visually {border: 0;clip: rect(1px 1px 1px 1px);clip: rect(1px, 1px, 1px, 1px);height: 1px;margin: -1px;overflow: hidden;padding: 0;position: absolute;width: 1px;}#sk-container-id-6 div.sk-estimator {font-family: monospace;background-color: #f0f8ff;border: 1px dotted black;border-radius: 0.25em;box-sizing: border-box;margin-bottom: 0.5em;}#sk-container-id-6 div.sk-estimator:hover {background-color: #d4ebff;}#sk-container-id-6 div.sk-parallel-item::after {content: \"\";width: 100%;border-bottom: 1px solid gray;flex-grow: 1;}#sk-container-id-6 div.sk-label:hover label.sk-toggleable__label {background-color: #d4ebff;}#sk-container-id-6 div.sk-serial::before {content: \"\";position: absolute;border-left: 1px solid gray;box-sizing: border-box;top: 0;bottom: 0;left: 50%;z-index: 0;}#sk-container-id-6 div.sk-serial {display: flex;flex-direction: column;align-items: center;background-color: white;padding-right: 0.2em;padding-left: 0.2em;position: relative;}#sk-container-id-6 div.sk-item {position: relative;z-index: 1;}#sk-container-id-6 div.sk-parallel {display: flex;align-items: stretch;justify-content: center;background-color: white;position: relative;}#sk-container-id-6 div.sk-item::before, #sk-container-id-6 div.sk-parallel-item::before {content: \"\";position: absolute;border-left: 1px solid gray;box-sizing: border-box;top: 0;bottom: 0;left: 50%;z-index: -1;}#sk-container-id-6 div.sk-parallel-item {display: flex;flex-direction: column;z-index: 1;position: relative;background-color: white;}#sk-container-id-6 div.sk-parallel-item:first-child::after {align-self: flex-end;width: 50%;}#sk-container-id-6 div.sk-parallel-item:last-child::after {align-self: flex-start;width: 50%;}#sk-container-id-6 div.sk-parallel-item:only-child::after {width: 0;}#sk-container-id-6 div.sk-dashed-wrapped {border: 1px dashed gray;margin: 0 0.4em 0.5em 0.4em;box-sizing: border-box;padding-bottom: 0.4em;background-color: white;}#sk-container-id-6 div.sk-label label {font-family: monospace;font-weight: bold;display: inline-block;line-height: 1.2em;}#sk-container-id-6 div.sk-label-container {text-align: center;}#sk-container-id-6 div.sk-container {/* jupyter's `normalize.less` sets `[hidden] { display: none; }` but bootstrap.min.css set `[hidden] { display: none !important; }` so we also need the `!important` here to be able to override the default hidden behavior on the sphinx rendered scikit-learn.org. See: https://github.com/scikit-learn/scikit-learn/issues/21755 */display: inline-block !important;position: relative;}#sk-container-id-6 div.sk-text-repr-fallback {display: none;}</style><div id=\"sk-container-id-6\" class=\"sk-top-container\"><div class=\"sk-text-repr-fallback\"><pre>Pipeline(steps=[(&#x27;XGBoost&#x27;,\n",
       "                 XGBRegressor(base_score=0.5, booster=&#x27;gbtree&#x27;,\n",
       "                              colsample_bylevel=1, colsample_bynode=1,\n",
       "                              colsample_bytree=1, enable_categorical=False,\n",
       "                              gamma=0, gpu_id=-1, importance_type=None,\n",
       "                              interaction_constraints=&#x27;&#x27;,\n",
       "                              learning_rate=0.300000012, max_delta_step=0,\n",
       "                              max_depth=6, min_child_weight=1, missing=nan,\n",
       "                              monotone_constraints=&#x27;()&#x27;, n_estimators=100,\n",
       "                              n_jobs=8, num_parallel_tree=1, predictor=&#x27;auto&#x27;,\n",
       "                              random_state=0, reg_alpha=0, reg_lambda=1,\n",
       "                              scale_pos_weight=1, subsample=1,\n",
       "                              tree_method=&#x27;exact&#x27;, validate_parameters=1,\n",
       "                              verbosity=None))])</pre><b>In a Jupyter environment, please rerun this cell to show the HTML representation or trust the notebook. <br />On GitHub, the HTML representation is unable to render, please try loading this page with nbviewer.org.</b></div><div class=\"sk-container\" hidden><div class=\"sk-item sk-dashed-wrapped\"><div class=\"sk-label-container\"><div class=\"sk-label sk-toggleable\"><input class=\"sk-toggleable__control sk-hidden--visually\" id=\"sk-estimator-id-15\" type=\"checkbox\" ><label for=\"sk-estimator-id-15\" class=\"sk-toggleable__label sk-toggleable__label-arrow\">Pipeline</label><div class=\"sk-toggleable__content\"><pre>Pipeline(steps=[(&#x27;XGBoost&#x27;,\n",
       "                 XGBRegressor(base_score=0.5, booster=&#x27;gbtree&#x27;,\n",
       "                              colsample_bylevel=1, colsample_bynode=1,\n",
       "                              colsample_bytree=1, enable_categorical=False,\n",
       "                              gamma=0, gpu_id=-1, importance_type=None,\n",
       "                              interaction_constraints=&#x27;&#x27;,\n",
       "                              learning_rate=0.300000012, max_delta_step=0,\n",
       "                              max_depth=6, min_child_weight=1, missing=nan,\n",
       "                              monotone_constraints=&#x27;()&#x27;, n_estimators=100,\n",
       "                              n_jobs=8, num_parallel_tree=1, predictor=&#x27;auto&#x27;,\n",
       "                              random_state=0, reg_alpha=0, reg_lambda=1,\n",
       "                              scale_pos_weight=1, subsample=1,\n",
       "                              tree_method=&#x27;exact&#x27;, validate_parameters=1,\n",
       "                              verbosity=None))])</pre></div></div></div><div class=\"sk-serial\"><div class=\"sk-item\"><div class=\"sk-estimator sk-toggleable\"><input class=\"sk-toggleable__control sk-hidden--visually\" id=\"sk-estimator-id-16\" type=\"checkbox\" ><label for=\"sk-estimator-id-16\" class=\"sk-toggleable__label sk-toggleable__label-arrow\">XGBRegressor</label><div class=\"sk-toggleable__content\"><pre>XGBRegressor(base_score=0.5, booster=&#x27;gbtree&#x27;, colsample_bylevel=1,\n",
       "             colsample_bynode=1, colsample_bytree=1, enable_categorical=False,\n",
       "             gamma=0, gpu_id=-1, importance_type=None,\n",
       "             interaction_constraints=&#x27;&#x27;, learning_rate=0.300000012,\n",
       "             max_delta_step=0, max_depth=6, min_child_weight=1, missing=nan,\n",
       "             monotone_constraints=&#x27;()&#x27;, n_estimators=100, n_jobs=8,\n",
       "             num_parallel_tree=1, predictor=&#x27;auto&#x27;, random_state=0, reg_alpha=0,\n",
       "             reg_lambda=1, scale_pos_weight=1, subsample=1, tree_method=&#x27;exact&#x27;,\n",
       "             validate_parameters=1, verbosity=None)</pre></div></div></div></div></div></div></div>"
      ],
      "text/plain": [
       "Pipeline(steps=[('XGBoost',\n",
       "                 XGBRegressor(base_score=0.5, booster='gbtree',\n",
       "                              colsample_bylevel=1, colsample_bynode=1,\n",
       "                              colsample_bytree=1, enable_categorical=False,\n",
       "                              gamma=0, gpu_id=-1, importance_type=None,\n",
       "                              interaction_constraints='',\n",
       "                              learning_rate=0.300000012, max_delta_step=0,\n",
       "                              max_depth=6, min_child_weight=1, missing=nan,\n",
       "                              monotone_constraints='()', n_estimators=100,\n",
       "                              n_jobs=8, num_parallel_tree=1, predictor='auto',\n",
       "                              random_state=0, reg_alpha=0, reg_lambda=1,\n",
       "                              scale_pos_weight=1, subsample=1,\n",
       "                              tree_method='exact', validate_parameters=1,\n",
       "                              verbosity=None))])"
      ]
     },
     "execution_count": 240,
     "metadata": {},
     "output_type": "execute_result"
    }
   ],
   "source": [
    "# let's find features for some decent defaults\n",
    "estimator = XGBRegressor()\n",
    "xgb_training_pipe_init = Pipeline([\n",
    "    ('XGBoost', XGBRegressor())\n",
    "])\n",
    "xgb_training_pipe_init.fit(train_X, train_y)"
   ]
  },
  {
   "cell_type": "markdown",
   "metadata": {},
   "source": [
    "### 4.2.3 Model Tuning"
   ]
  },
  {
   "cell_type": "code",
   "execution_count": 241,
   "metadata": {},
   "outputs": [
    {
     "data": {
      "text/plain": [
       "<AxesSubplot:>"
      ]
     },
     "execution_count": 241,
     "metadata": {},
     "output_type": "execute_result"
    },
    {
     "data": {
      "image/png": "[encoded data removed]",
      "text/plain": [
       "<Figure size 640x480 with 1 Axes>"
      ]
     },
     "metadata": {},
     "output_type": "display_data"
    }
   ],
   "source": [
    "# Understanding the Feature Importance\n",
    "%matplotlib inline\n",
    "imp = pd.DataFrame({'importance': xgb_training_pipe_init['XGBoost'].feature_importances_})\n",
    "imp.index = train_X.columns\n",
    "imp.sort_values('importance',inplace=True)\n",
    "imp.plot(kind='barh')"
   ]
  },
  {
   "cell_type": "markdown",
   "metadata": {},
   "source": [
    "'condition','model_family','days_since_last_purchase','first_time_customer','sales_person', are considered to be important and in grid search"
   ]
  },
  {
   "cell_type": "markdown",
   "metadata": {},
   "source": [
    "##### Pipeline build based on new importance features"
   ]
  },
  {
   "cell_type": "code",
   "execution_count": 242,
   "metadata": {},
   "outputs": [
    {
     "data": {
      "text/plain": [
       "Index(['num_x0', 'num_x1', 'num_x2', 'num_x3', 'num_x4', 'num_x5', 'num_x6',\n",
       "       'num_x7', 'num_x8', 'num_x9', 'num_x10', 'ocean_proximity_1H OCEAN',\n",
       "       'ocean_proximity_INLAND', 'ocean_proximity_ISLAND',\n",
       "       'ocean_proximity_NEAR BAY', 'ocean_proximity_NEAR OCEAN'],\n",
       "      dtype='object')"
      ]
     },
     "execution_count": 242,
     "metadata": {},
     "output_type": "execute_result"
    }
   ],
   "source": [
    "test_X.columns"
   ]
  },
  {
   "cell_type": "code",
   "execution_count": 244,
   "metadata": {},
   "outputs": [],
   "source": [
    "#let's find features for some decent defaults\n",
    "imp_features = ['ocean_proximity_NEAR BAY','num_x7','ocean_proximity_1H OCEAN','ocean_proximity_ISLAND','ocean_proximity_NEAR OCEAN','num_x9','num_x0']\n",
    "\n",
    "estimator = XGBRegressor()\n",
    "xgb_training_pipe2 = Pipeline([\n",
    "    ('', FunctionTransformer(_custom_data_transform, kw_args={'cols2keep':imp_features})),\n",
    "    ('XGBoost', XGBRegressor())\n",
    "])"
   ]
  },
  {
   "cell_type": "markdown",
   "metadata": {},
   "source": [
    "#### Grid Search of the Estimator"
   ]
  },
  {
   "cell_type": "code",
   "execution_count": 245,
   "metadata": {},
   "outputs": [
    {
     "name": "stdout",
     "output_type": "stream",
     "text": [
      "Fitting 2 folds for each of 1 candidates, totalling 2 fits\n"
     ]
    },
    {
     "name": "stderr",
     "output_type": "stream",
     "text": [
      "/home/eswar_javvaji/miniconda3/envs/regression-codetmp-dev/lib/python3.9/site-packages/xgboost/compat.py:36: FutureWarning: pandas.Int64Index is deprecated and will be removed from pandas in a future version. Use pandas.Index with the appropriate dtype instead.\n",
      "  from pandas import MultiIndex, Int64Index\n",
      "/home/eswar_javvaji/miniconda3/envs/regression-codetmp-dev/lib/python3.9/site-packages/xgboost/compat.py:36: FutureWarning: pandas.Int64Index is deprecated and will be removed from pandas in a future version. Use pandas.Index with the appropriate dtype instead.\n",
      "  from pandas import MultiIndex, Int64Index\n",
      "/home/eswar_javvaji/miniconda3/envs/regression-codetmp-dev/lib/python3.9/site-packages/xgboost/data.py:262: FutureWarning: pandas.Int64Index is deprecated and will be removed from pandas in a future version. Use pandas.Index with the appropriate dtype instead.\n",
      "  elif isinstance(data.columns, (pd.Int64Index, pd.RangeIndex)):\n",
      "/home/eswar_javvaji/miniconda3/envs/regression-codetmp-dev/lib/python3.9/site-packages/xgboost/data.py:262: FutureWarning: pandas.Int64Index is deprecated and will be removed from pandas in a future version. Use pandas.Index with the appropriate dtype instead.\n",
      "  elif isinstance(data.columns, (pd.Int64Index, pd.RangeIndex)):\n"
     ]
    },
    {
     "name": "stdout",
     "output_type": "stream",
     "text": [
      "0.8236674426649087\n",
      "{'gamma': 0.03, 'learning_rate': 0.1, 'max_depth': 3, 'min_child_weight': 6, 'n_estimators': 500}\n",
      "CPU times: user 15.3 s, sys: 4.91 ms, total: 15.3 s\n",
      "Wall time: 9.39 s\n"
     ]
    }
   ],
   "source": [
    "%%time\n",
    "parameters = {\n",
    "   'gamma':[0.03],\n",
    "   'min_child_weight':[6],\n",
    "   'learning_rate':[0.1],\n",
    "   'max_depth':[3],\n",
    "   'n_estimators':[500], \n",
    "}\n",
    "est = XGBRegressor()\n",
    "xgb_grid = GridSearchCV(est,\n",
    "                        parameters,\n",
    "                        cv = 2,\n",
    "                        n_jobs = 4,\n",
    "                        verbose=True)\n",
    "\n",
    "xgb_grid.fit(train_X, train_y)\n",
    "\n",
    "print(xgb_grid.best_score_)\n",
    "print(xgb_grid.best_params_)"
   ]
  },
  {
   "cell_type": "markdown",
   "metadata": {},
   "source": [
    "#### Pipeline Build using the best estimator"
   ]
  },
  {
   "cell_type": "code",
   "execution_count": 246,
   "metadata": {},
   "outputs": [
    {
     "data": {
      "text/html": [
       "<style>#sk-container-id-7 {color: black;background-color: white;}#sk-container-id-7 pre{padding: 0;}#sk-container-id-7 div.sk-toggleable {background-color: white;}#sk-container-id-7 label.sk-toggleable__label {cursor: pointer;display: block;width: 100%;margin-bottom: 0;padding: 0.3em;box-sizing: border-box;text-align: center;}#sk-container-id-7 label.sk-toggleable__label-arrow:before {content: \"▸\";float: left;margin-right: 0.25em;color: #696969;}#sk-container-id-7 label.sk-toggleable__label-arrow:hover:before {color: black;}#sk-container-id-7 div.sk-estimator:hover label.sk-toggleable__label-arrow:before {color: black;}#sk-container-id-7 div.sk-toggleable__content {max-height: 0;max-width: 0;overflow: hidden;text-align: left;background-color: #f0f8ff;}#sk-container-id-7 div.sk-toggleable__content pre {margin: 0.2em;color: black;border-radius: 0.25em;background-color: #f0f8ff;}#sk-container-id-7 input.sk-toggleable__control:checked~div.sk-toggleable__content {max-height: 200px;max-width: 100%;overflow: auto;}#sk-container-id-7 input.sk-toggleable__control:checked~label.sk-toggleable__label-arrow:before {content: \"▾\";}#sk-container-id-7 div.sk-estimator input.sk-toggleable__control:checked~label.sk-toggleable__label {background-color: #d4ebff;}#sk-container-id-7 div.sk-label input.sk-toggleable__control:checked~label.sk-toggleable__label {background-color: #d4ebff;}#sk-container-id-7 input.sk-hidden--visually {border: 0;clip: rect(1px 1px 1px 1px);clip: rect(1px, 1px, 1px, 1px);height: 1px;margin: -1px;overflow: hidden;padding: 0;position: absolute;width: 1px;}#sk-container-id-7 div.sk-estimator {font-family: monospace;background-color: #f0f8ff;border: 1px dotted black;border-radius: 0.25em;box-sizing: border-box;margin-bottom: 0.5em;}#sk-container-id-7 div.sk-estimator:hover {background-color: #d4ebff;}#sk-container-id-7 div.sk-parallel-item::after {content: \"\";width: 100%;border-bottom: 1px solid gray;flex-grow: 1;}#sk-container-id-7 div.sk-label:hover label.sk-toggleable__label {background-color: #d4ebff;}#sk-container-id-7 div.sk-serial::before {content: \"\";position: absolute;border-left: 1px solid gray;box-sizing: border-box;top: 0;bottom: 0;left: 50%;z-index: 0;}#sk-container-id-7 div.sk-serial {display: flex;flex-direction: column;align-items: center;background-color: white;padding-right: 0.2em;padding-left: 0.2em;position: relative;}#sk-container-id-7 div.sk-item {position: relative;z-index: 1;}#sk-container-id-7 div.sk-parallel {display: flex;align-items: stretch;justify-content: center;background-color: white;position: relative;}#sk-container-id-7 div.sk-item::before, #sk-container-id-7 div.sk-parallel-item::before {content: \"\";position: absolute;border-left: 1px solid gray;box-sizing: border-box;top: 0;bottom: 0;left: 50%;z-index: -1;}#sk-container-id-7 div.sk-parallel-item {display: flex;flex-direction: column;z-index: 1;position: relative;background-color: white;}#sk-container-id-7 div.sk-parallel-item:first-child::after {align-self: flex-end;width: 50%;}#sk-container-id-7 div.sk-parallel-item:last-child::after {align-self: flex-start;width: 50%;}#sk-container-id-7 div.sk-parallel-item:only-child::after {width: 0;}#sk-container-id-7 div.sk-dashed-wrapped {border: 1px dashed gray;margin: 0 0.4em 0.5em 0.4em;box-sizing: border-box;padding-bottom: 0.4em;background-color: white;}#sk-container-id-7 div.sk-label label {font-family: monospace;font-weight: bold;display: inline-block;line-height: 1.2em;}#sk-container-id-7 div.sk-label-container {text-align: center;}#sk-container-id-7 div.sk-container {/* jupyter's `normalize.less` sets `[hidden] { display: none; }` but bootstrap.min.css set `[hidden] { display: none !important; }` so we also need the `!important` here to be able to override the default hidden behavior on the sphinx rendered scikit-learn.org. See: https://github.com/scikit-learn/scikit-learn/issues/21755 */display: inline-block !important;position: relative;}#sk-container-id-7 div.sk-text-repr-fallback {display: none;}</style><div id=\"sk-container-id-7\" class=\"sk-top-container\"><div class=\"sk-text-repr-fallback\"><pre>Pipeline(steps=[(&#x27;&#x27;,\n",
       "                 FunctionTransformer(func=&lt;function _custom_data_transform at 0x7fa1fb6a3280&gt;,\n",
       "                                     kw_args={&#x27;cols2keep&#x27;: [&#x27;ocean_proximity_NEAR &#x27;\n",
       "                                                            &#x27;BAY&#x27;,\n",
       "                                                            &#x27;num_x7&#x27;,\n",
       "                                                            &#x27;ocean_proximity_1H &#x27;\n",
       "                                                            &#x27;OCEAN&#x27;,\n",
       "                                                            &#x27;ocean_proximity_ISLAND&#x27;,\n",
       "                                                            &#x27;ocean_proximity_NEAR &#x27;\n",
       "                                                            &#x27;OCEAN&#x27;,\n",
       "                                                            &#x27;num_x9&#x27;,\n",
       "                                                            &#x27;num_x0&#x27;]})),\n",
       "                (&#x27;XGBoost&#x27;,\n",
       "                 XGBRegressor(base_score=0.5, booster=&#x27;gbtree&#x27;,\n",
       "                              colsample_bylevel=1, colsample_bynode...\n",
       "                              gamma=0.03, gpu_id=-1, importance_type=None,\n",
       "                              interaction_constraints=&#x27;&#x27;, learning_rate=0.1,\n",
       "                              max_delta_step=0, max_depth=3, min_child_weight=6,\n",
       "                              missing=nan, monotone_constraints=&#x27;()&#x27;,\n",
       "                              n_estimators=500, n_jobs=8, num_parallel_tree=1,\n",
       "                              predictor=&#x27;auto&#x27;, random_state=0, reg_alpha=0,\n",
       "                              reg_lambda=1, scale_pos_weight=1, subsample=1,\n",
       "                              tree_method=&#x27;exact&#x27;, validate_parameters=1,\n",
       "                              verbosity=None))])</pre><b>In a Jupyter environment, please rerun this cell to show the HTML representation or trust the notebook. <br />On GitHub, the HTML representation is unable to render, please try loading this page with nbviewer.org.</b></div><div class=\"sk-container\" hidden><div class=\"sk-item sk-dashed-wrapped\"><div class=\"sk-label-container\"><div class=\"sk-label sk-toggleable\"><input class=\"sk-toggleable__control sk-hidden--visually\" id=\"sk-estimator-id-17\" type=\"checkbox\" ><label for=\"sk-estimator-id-17\" class=\"sk-toggleable__label sk-toggleable__label-arrow\">Pipeline</label><div class=\"sk-toggleable__content\"><pre>Pipeline(steps=[(&#x27;&#x27;,\n",
       "                 FunctionTransformer(func=&lt;function _custom_data_transform at 0x7fa1fb6a3280&gt;,\n",
       "                                     kw_args={&#x27;cols2keep&#x27;: [&#x27;ocean_proximity_NEAR &#x27;\n",
       "                                                            &#x27;BAY&#x27;,\n",
       "                                                            &#x27;num_x7&#x27;,\n",
       "                                                            &#x27;ocean_proximity_1H &#x27;\n",
       "                                                            &#x27;OCEAN&#x27;,\n",
       "                                                            &#x27;ocean_proximity_ISLAND&#x27;,\n",
       "                                                            &#x27;ocean_proximity_NEAR &#x27;\n",
       "                                                            &#x27;OCEAN&#x27;,\n",
       "                                                            &#x27;num_x9&#x27;,\n",
       "                                                            &#x27;num_x0&#x27;]})),\n",
       "                (&#x27;XGBoost&#x27;,\n",
       "                 XGBRegressor(base_score=0.5, booster=&#x27;gbtree&#x27;,\n",
       "                              colsample_bylevel=1, colsample_bynode...\n",
       "                              gamma=0.03, gpu_id=-1, importance_type=None,\n",
       "                              interaction_constraints=&#x27;&#x27;, learning_rate=0.1,\n",
       "                              max_delta_step=0, max_depth=3, min_child_weight=6,\n",
       "                              missing=nan, monotone_constraints=&#x27;()&#x27;,\n",
       "                              n_estimators=500, n_jobs=8, num_parallel_tree=1,\n",
       "                              predictor=&#x27;auto&#x27;, random_state=0, reg_alpha=0,\n",
       "                              reg_lambda=1, scale_pos_weight=1, subsample=1,\n",
       "                              tree_method=&#x27;exact&#x27;, validate_parameters=1,\n",
       "                              verbosity=None))])</pre></div></div></div><div class=\"sk-serial\"><div class=\"sk-item\"><div class=\"sk-estimator sk-toggleable\"><input class=\"sk-toggleable__control sk-hidden--visually\" id=\"sk-estimator-id-18\" type=\"checkbox\" ><label for=\"sk-estimator-id-18\" class=\"sk-toggleable__label sk-toggleable__label-arrow\">FunctionTransformer</label><div class=\"sk-toggleable__content\"><pre>FunctionTransformer(func=&lt;function _custom_data_transform at 0x7fa1fb6a3280&gt;,\n",
       "                    kw_args={&#x27;cols2keep&#x27;: [&#x27;ocean_proximity_NEAR BAY&#x27;, &#x27;num_x7&#x27;,\n",
       "                                           &#x27;ocean_proximity_1H OCEAN&#x27;,\n",
       "                                           &#x27;ocean_proximity_ISLAND&#x27;,\n",
       "                                           &#x27;ocean_proximity_NEAR OCEAN&#x27;,\n",
       "                                           &#x27;num_x9&#x27;, &#x27;num_x0&#x27;]})</pre></div></div></div><div class=\"sk-item\"><div class=\"sk-estimator sk-toggleable\"><input class=\"sk-toggleable__control sk-hidden--visually\" id=\"sk-estimator-id-19\" type=\"checkbox\" ><label for=\"sk-estimator-id-19\" class=\"sk-toggleable__label sk-toggleable__label-arrow\">XGBRegressor</label><div class=\"sk-toggleable__content\"><pre>XGBRegressor(base_score=0.5, booster=&#x27;gbtree&#x27;, colsample_bylevel=1,\n",
       "             colsample_bynode=1, colsample_bytree=1, enable_categorical=False,\n",
       "             gamma=0.03, gpu_id=-1, importance_type=None,\n",
       "             interaction_constraints=&#x27;&#x27;, learning_rate=0.1, max_delta_step=0,\n",
       "             max_depth=3, min_child_weight=6, missing=nan,\n",
       "             monotone_constraints=&#x27;()&#x27;, n_estimators=500, n_jobs=8,\n",
       "             num_parallel_tree=1, predictor=&#x27;auto&#x27;, random_state=0, reg_alpha=0,\n",
       "             reg_lambda=1, scale_pos_weight=1, subsample=1, tree_method=&#x27;exact&#x27;,\n",
       "             validate_parameters=1, verbosity=None)</pre></div></div></div></div></div></div></div>"
      ],
      "text/plain": [
       "Pipeline(steps=[('',\n",
       "                 FunctionTransformer(func=<function _custom_data_transform at 0x7fa1fb6a3280>,\n",
       "                                     kw_args={'cols2keep': ['ocean_proximity_NEAR '\n",
       "                                                            'BAY',\n",
       "                                                            'num_x7',\n",
       "                                                            'ocean_proximity_1H '\n",
       "                                                            'OCEAN',\n",
       "                                                            'ocean_proximity_ISLAND',\n",
       "                                                            'ocean_proximity_NEAR '\n",
       "                                                            'OCEAN',\n",
       "                                                            'num_x9',\n",
       "                                                            'num_x0']})),\n",
       "                ('XGBoost',\n",
       "                 XGBRegressor(base_score=0.5, booster='gbtree',\n",
       "                              colsample_bylevel=1, colsample_bynode...\n",
       "                              gamma=0.03, gpu_id=-1, importance_type=None,\n",
       "                              interaction_constraints='', learning_rate=0.1,\n",
       "                              max_delta_step=0, max_depth=3, min_child_weight=6,\n",
       "                              missing=nan, monotone_constraints='()',\n",
       "                              n_estimators=500, n_jobs=8, num_parallel_tree=1,\n",
       "                              predictor='auto', random_state=0, reg_alpha=0,\n",
       "                              reg_lambda=1, scale_pos_weight=1, subsample=1,\n",
       "                              tree_method='exact', validate_parameters=1,\n",
       "                              verbosity=None))])"
      ]
     },
     "execution_count": 246,
     "metadata": {},
     "output_type": "execute_result"
    }
   ],
   "source": [
    "xgb_pipeline_final = Pipeline([\n",
    "    ('', FunctionTransformer(_custom_data_transform, kw_args={'cols2keep':imp_features})),\n",
    "    ('XGBoost', xgb_grid.best_estimator_)\n",
    "])\n",
    "xgb_pipeline_final.fit(train_X, train_y)"
   ]
  },
  {
   "cell_type": "code",
   "execution_count": 247,
   "metadata": {},
   "outputs": [],
   "source": [
    "reg_tree_report = RegressionReport(model=xgb_pipeline_final, x_train=train_X, y_train=train_y, x_test= test_X, y_test= test_y)\n",
    "reg_tree_report.get_report(include_shap=False, file_path='regression_tree_model_report')"
   ]
  },
  {
   "cell_type": "markdown",
   "metadata": {},
   "source": [
    "The Regression report containing the feature importances are available [here](https://drive.google.com/file/d/1JBfL3uxPcxBfl0amweXBFmLr7CSHFBUO/view?usp=sharing)"
   ]
  },
  {
   "cell_type": "markdown",
   "metadata": {},
   "source": [
    "# 5 Model Comparison"
   ]
  },
  {
   "cell_type": "markdown",
   "metadata": {},
   "source": [
    "Now, a comparison report of the  linear (vs) tree -based model  approach can be generated as follows.\n",
    "\n",
    "This code will not be part of the production code."
   ]
  },
  {
   "cell_type": "code",
   "execution_count": 254,
   "metadata": {},
   "outputs": [
    {
     "ename": "ValueError",
     "evalue": "Shape of passed values is (16512, 1), indices imply (16512, 13)",
     "output_type": "error",
     "traceback": [
      "\u001b[0;31m---------------------------------------------------------------------------\u001b[0m",
      "\u001b[0;31mValueError\u001b[0m                                Traceback (most recent call last)",
      "Input \u001b[0;32mIn [254]\u001b[0m, in \u001b[0;36m<cell line: 3>\u001b[0;34m()\u001b[0m\n\u001b[1;32m      1\u001b[0m model_pipelines \u001b[38;5;241m=\u001b[39m [reg_ppln, xgb_pipeline_final]\n\u001b[1;32m      2\u001b[0m model_comparison_report \u001b[38;5;241m=\u001b[39m RegressionComparison(models\u001b[38;5;241m=\u001b[39mmodel_pipelines,x\u001b[38;5;241m=\u001b[39mtrain_X, y\u001b[38;5;241m=\u001b[39mtrain_y)\n\u001b[0;32m----> 3\u001b[0m metrics \u001b[38;5;241m=\u001b[39m \u001b[43mmodel_comparison_report\u001b[49m\u001b[38;5;241;43m.\u001b[39;49m\u001b[43mget_report\u001b[49m\u001b[43m(\u001b[49m\u001b[43mfile_path\u001b[49m\u001b[38;5;241;43m=\u001b[39;49m\u001b[38;5;124;43m'\u001b[39;49m\u001b[38;5;124;43mregression_comparison\u001b[39;49m\u001b[38;5;124;43m'\u001b[39;49m\u001b[43m)\u001b[49m\n",
      "File \u001b[0;32m/mnt/c/users/sai.javvaji/desktop/regression_codetemp/regression-py/src/ta_lib/_vendor/tigerml/model_eval/comparison.py:523\u001b[0m, in \u001b[0;36mRegressionComparison.get_report\u001b[0;34m(self, file_path, format, **kwargs)\u001b[0m\n\u001b[1;32m    520\u001b[0m \u001b[38;5;28;01mif\u001b[39;00m \u001b[38;5;129;01mnot\u001b[39;00m file_path:\n\u001b[1;32m    521\u001b[0m     file_path \u001b[38;5;241m=\u001b[39m \u001b[38;5;124mf\u001b[39m\u001b[38;5;124m'\u001b[39m\u001b[38;5;124mregression_comparison_report_at_\u001b[39m\u001b[38;5;132;01m{\u001b[39;00mdatetime\u001b[38;5;241m.\u001b[39mnow()\u001b[38;5;241m.\u001b[39mstrftime(\u001b[38;5;124m\"\u001b[39m\u001b[38;5;124m%\u001b[39m\u001b[38;5;124mY-\u001b[39m\u001b[38;5;124m%\u001b[39m\u001b[38;5;124mm-\u001b[39m\u001b[38;5;132;01m%d\u001b[39;00m\u001b[38;5;124m_\u001b[39m\u001b[38;5;124m%\u001b[39m\u001b[38;5;124mH-\u001b[39m\u001b[38;5;124m%\u001b[39m\u001b[38;5;124mM-\u001b[39m\u001b[38;5;124m%\u001b[39m\u001b[38;5;124mS\u001b[39m\u001b[38;5;124m\"\u001b[39m)\u001b[38;5;132;01m}\u001b[39;00m\u001b[38;5;124m'\u001b[39m\n\u001b[0;32m--> 523\u001b[0m \u001b[38;5;28;43msuper\u001b[39;49m\u001b[43m(\u001b[49m\u001b[43m)\u001b[49m\u001b[38;5;241;43m.\u001b[39;49m\u001b[43m_get_report\u001b[49m\u001b[43m(\u001b[49m\u001b[43mfile_path\u001b[49m\u001b[38;5;241;43m=\u001b[39;49m\u001b[43mfile_path\u001b[49m\u001b[43m,\u001b[49m\u001b[43m \u001b[49m\u001b[38;5;28;43mformat\u001b[39;49m\u001b[38;5;241;43m=\u001b[39;49m\u001b[38;5;28;43mformat\u001b[39;49m\u001b[43m,\u001b[49m\u001b[43m \u001b[49m\u001b[38;5;241;43m*\u001b[39;49m\u001b[38;5;241;43m*\u001b[39;49m\u001b[43mkwargs\u001b[49m\u001b[43m)\u001b[49m\n",
      "File \u001b[0;32m/mnt/c/users/sai.javvaji/desktop/regression_codetemp/regression-py/src/ta_lib/_vendor/tigerml/model_eval/comparison.py:248\u001b[0m, in \u001b[0;36mMultiModelReport._get_report\u001b[0;34m(self, file_path, cutoff_value, format, **kwargs)\u001b[0m\n\u001b[1;32m    246\u001b[0m \u001b[38;5;28;01mif\u001b[39;00m \u001b[38;5;28mself\u001b[39m\u001b[38;5;241m.\u001b[39mmulti_class:\n\u001b[1;32m    247\u001b[0m     interpret_dict \u001b[38;5;241m=\u001b[39m {}\n\u001b[0;32m--> 248\u001b[0m     interpret_dict[\u001b[38;5;124m\"\u001b[39m\u001b[38;5;124mfeature_importances\u001b[39m\u001b[38;5;124m\"\u001b[39m] \u001b[38;5;241m=\u001b[39m \u001b[38;5;28;43mself\u001b[39;49m\u001b[38;5;241;43m.\u001b[39;49m\u001b[43mshap_summary_plots\u001b[49m\u001b[43m(\u001b[49m\u001b[43m)\u001b[49m\n\u001b[1;32m    249\u001b[0m     \u001b[38;5;28mself\u001b[39m\u001b[38;5;241m.\u001b[39melement_tree[\u001b[38;5;124m\"\u001b[39m\u001b[38;5;124minterpretation\u001b[39m\u001b[38;5;124m\"\u001b[39m] \u001b[38;5;241m=\u001b[39m interpret_dict\n\u001b[1;32m    250\u001b[0m \u001b[38;5;28;01melse\u001b[39;00m:\n",
      "File \u001b[0;32m/mnt/c/users/sai.javvaji/desktop/regression_codetemp/regression-py/src/ta_lib/_vendor/tigerml/model_eval/comparison.py:209\u001b[0m, in \u001b[0;36mMultiModelReport.shap_summary_plots\u001b[0;34m(self)\u001b[0m\n\u001b[1;32m    207\u001b[0m     model \u001b[38;5;241m=\u001b[39m \u001b[38;5;28mself\u001b[39m\u001b[38;5;241m.\u001b[39mreporters[model_name]\u001b[38;5;241m.\u001b[39mmodel\n\u001b[1;32m    208\u001b[0m     X \u001b[38;5;241m=\u001b[39m \u001b[38;5;28mself\u001b[39m\u001b[38;5;241m.\u001b[39mreporters[model_name]\u001b[38;5;241m.\u001b[39mx_train\n\u001b[0;32m--> 209\u001b[0m     shap_fe \u001b[38;5;241m=\u001b[39m \u001b[43mget_shap_summary_plot\u001b[49m\u001b[43m(\u001b[49m\u001b[43mmodel\u001b[49m\u001b[43m,\u001b[49m\u001b[43m \u001b[49m\u001b[43mX\u001b[49m\u001b[43m,\u001b[49m\u001b[43m \u001b[49m\u001b[43mnative_plot\u001b[49m\u001b[38;5;241;43m=\u001b[39;49m\u001b[38;5;28;43;01mFalse\u001b[39;49;00m\u001b[43m)\u001b[49m\n\u001b[1;32m    210\u001b[0m     shap_summ_plots[model_name] \u001b[38;5;241m=\u001b[39m [shap_fe]\n\u001b[1;32m    211\u001b[0m \u001b[38;5;28;01mreturn\u001b[39;00m shap_summ_plots\n",
      "File \u001b[0;32m/mnt/c/users/sai.javvaji/desktop/regression_codetemp/regression-py/src/ta_lib/_vendor/tigerml/model_eval/plotters/interpretation.py:355\u001b[0m, in \u001b[0;36mget_shap_summary_plot\u001b[0;34m(model, X, model_type, native_plot, feature_names, class_names)\u001b[0m\n\u001b[1;32m    353\u001b[0m shap_values_matrix \u001b[38;5;241m=\u001b[39m np\u001b[38;5;241m.\u001b[39marray(shap_values)\n\u001b[1;32m    354\u001b[0m mean_abs_shap_values \u001b[38;5;241m=\u001b[39m np\u001b[38;5;241m.\u001b[39mmean(np\u001b[38;5;241m.\u001b[39mabs(shap_values_matrix), axis\u001b[38;5;241m=\u001b[39m\u001b[38;5;241m1\u001b[39m)\n\u001b[0;32m--> 355\u001b[0m plot_df \u001b[38;5;241m=\u001b[39m \u001b[43mpd\u001b[49m\u001b[38;5;241;43m.\u001b[39;49m\u001b[43mDataFrame\u001b[49m\u001b[43m(\u001b[49m\n\u001b[1;32m    356\u001b[0m \u001b[43m    \u001b[49m\u001b[43mmean_abs_shap_values\u001b[49m\u001b[43m,\u001b[49m\u001b[43m \u001b[49m\u001b[43mindex\u001b[49m\u001b[38;5;241;43m=\u001b[39;49m\u001b[43mclass_names\u001b[49m\u001b[43m,\u001b[49m\u001b[43m \u001b[49m\u001b[43mcolumns\u001b[49m\u001b[38;5;241;43m=\u001b[39;49m\u001b[43mfeature_names\u001b[49m\n\u001b[1;32m    357\u001b[0m \u001b[43m\u001b[49m\u001b[43m)\u001b[49m\n\u001b[1;32m    358\u001b[0m plot_df \u001b[38;5;241m=\u001b[39m plot_df\u001b[38;5;241m.\u001b[39mT\n\u001b[1;32m    359\u001b[0m plot_df[\u001b[38;5;124m\"\u001b[39m\u001b[38;5;124m_row_sum\u001b[39m\u001b[38;5;124m\"\u001b[39m] \u001b[38;5;241m=\u001b[39m plot_df\u001b[38;5;241m.\u001b[39msum(axis\u001b[38;5;241m=\u001b[39m\u001b[38;5;241m1\u001b[39m)\n",
      "File \u001b[0;32m~/miniconda3/envs/regression-codetmp-dev/lib/python3.9/site-packages/pandas/core/frame.py:694\u001b[0m, in \u001b[0;36mDataFrame.__init__\u001b[0;34m(self, data, index, columns, dtype, copy)\u001b[0m\n\u001b[1;32m    684\u001b[0m         mgr \u001b[38;5;241m=\u001b[39m dict_to_mgr(\n\u001b[1;32m    685\u001b[0m             \u001b[38;5;66;03m# error: Item \"ndarray\" of \"Union[ndarray, Series, Index]\" has no\u001b[39;00m\n\u001b[1;32m    686\u001b[0m             \u001b[38;5;66;03m# attribute \"name\"\u001b[39;00m\n\u001b[0;32m   (...)\u001b[0m\n\u001b[1;32m    691\u001b[0m             typ\u001b[38;5;241m=\u001b[39mmanager,\n\u001b[1;32m    692\u001b[0m         )\n\u001b[1;32m    693\u001b[0m     \u001b[38;5;28;01melse\u001b[39;00m:\n\u001b[0;32m--> 694\u001b[0m         mgr \u001b[38;5;241m=\u001b[39m \u001b[43mndarray_to_mgr\u001b[49m\u001b[43m(\u001b[49m\n\u001b[1;32m    695\u001b[0m \u001b[43m            \u001b[49m\u001b[43mdata\u001b[49m\u001b[43m,\u001b[49m\n\u001b[1;32m    696\u001b[0m \u001b[43m            \u001b[49m\u001b[43mindex\u001b[49m\u001b[43m,\u001b[49m\n\u001b[1;32m    697\u001b[0m \u001b[43m            \u001b[49m\u001b[43mcolumns\u001b[49m\u001b[43m,\u001b[49m\n\u001b[1;32m    698\u001b[0m \u001b[43m            \u001b[49m\u001b[43mdtype\u001b[49m\u001b[38;5;241;43m=\u001b[39;49m\u001b[43mdtype\u001b[49m\u001b[43m,\u001b[49m\n\u001b[1;32m    699\u001b[0m \u001b[43m            \u001b[49m\u001b[43mcopy\u001b[49m\u001b[38;5;241;43m=\u001b[39;49m\u001b[43mcopy\u001b[49m\u001b[43m,\u001b[49m\n\u001b[1;32m    700\u001b[0m \u001b[43m            \u001b[49m\u001b[43mtyp\u001b[49m\u001b[38;5;241;43m=\u001b[39;49m\u001b[43mmanager\u001b[49m\u001b[43m,\u001b[49m\n\u001b[1;32m    701\u001b[0m \u001b[43m        \u001b[49m\u001b[43m)\u001b[49m\n\u001b[1;32m    703\u001b[0m \u001b[38;5;66;03m# For data is list-like, or Iterable (will consume into list)\u001b[39;00m\n\u001b[1;32m    704\u001b[0m \u001b[38;5;28;01melif\u001b[39;00m is_list_like(data):\n",
      "File \u001b[0;32m~/miniconda3/envs/regression-codetmp-dev/lib/python3.9/site-packages/pandas/core/internals/construction.py:351\u001b[0m, in \u001b[0;36mndarray_to_mgr\u001b[0;34m(values, index, columns, dtype, copy, typ)\u001b[0m\n\u001b[1;32m    346\u001b[0m \u001b[38;5;66;03m# _prep_ndarray ensures that values.ndim == 2 at this point\u001b[39;00m\n\u001b[1;32m    347\u001b[0m index, columns \u001b[38;5;241m=\u001b[39m _get_axes(\n\u001b[1;32m    348\u001b[0m     values\u001b[38;5;241m.\u001b[39mshape[\u001b[38;5;241m0\u001b[39m], values\u001b[38;5;241m.\u001b[39mshape[\u001b[38;5;241m1\u001b[39m], index\u001b[38;5;241m=\u001b[39mindex, columns\u001b[38;5;241m=\u001b[39mcolumns\n\u001b[1;32m    349\u001b[0m )\n\u001b[0;32m--> 351\u001b[0m \u001b[43m_check_values_indices_shape_match\u001b[49m\u001b[43m(\u001b[49m\u001b[43mvalues\u001b[49m\u001b[43m,\u001b[49m\u001b[43m \u001b[49m\u001b[43mindex\u001b[49m\u001b[43m,\u001b[49m\u001b[43m \u001b[49m\u001b[43mcolumns\u001b[49m\u001b[43m)\u001b[49m\n\u001b[1;32m    353\u001b[0m \u001b[38;5;28;01mif\u001b[39;00m typ \u001b[38;5;241m==\u001b[39m \u001b[38;5;124m\"\u001b[39m\u001b[38;5;124marray\u001b[39m\u001b[38;5;124m\"\u001b[39m:\n\u001b[1;32m    355\u001b[0m     \u001b[38;5;28;01mif\u001b[39;00m \u001b[38;5;28missubclass\u001b[39m(values\u001b[38;5;241m.\u001b[39mdtype\u001b[38;5;241m.\u001b[39mtype, \u001b[38;5;28mstr\u001b[39m):\n",
      "File \u001b[0;32m~/miniconda3/envs/regression-codetmp-dev/lib/python3.9/site-packages/pandas/core/internals/construction.py:422\u001b[0m, in \u001b[0;36m_check_values_indices_shape_match\u001b[0;34m(values, index, columns)\u001b[0m\n\u001b[1;32m    420\u001b[0m passed \u001b[38;5;241m=\u001b[39m values\u001b[38;5;241m.\u001b[39mshape\n\u001b[1;32m    421\u001b[0m implied \u001b[38;5;241m=\u001b[39m (\u001b[38;5;28mlen\u001b[39m(index), \u001b[38;5;28mlen\u001b[39m(columns))\n\u001b[0;32m--> 422\u001b[0m \u001b[38;5;28;01mraise\u001b[39;00m \u001b[38;5;167;01mValueError\u001b[39;00m(\u001b[38;5;124mf\u001b[39m\u001b[38;5;124m\"\u001b[39m\u001b[38;5;124mShape of passed values is \u001b[39m\u001b[38;5;132;01m{\u001b[39;00mpassed\u001b[38;5;132;01m}\u001b[39;00m\u001b[38;5;124m, indices imply \u001b[39m\u001b[38;5;132;01m{\u001b[39;00mimplied\u001b[38;5;132;01m}\u001b[39;00m\u001b[38;5;124m\"\u001b[39m)\n",
      "\u001b[0;31mValueError\u001b[0m: Shape of passed values is (16512, 1), indices imply (16512, 13)"
     ]
    }
   ],
   "source": [
    "model_pipelines = [reg_ppln, xgb_pipeline_final]\n",
    "model_comparison_report = RegressionComparison(models=model_pipelines,x=train_X, y=train_y)\n",
    "metrics = model_comparison_report.get_report(file_path='regression_comparison')"
   ]
  },
  {
   "cell_type": "code",
   "execution_count": 255,
   "metadata": {},
   "outputs": [
    {
     "data": {
      "text/html": [
       "<div>\n",
       "<style scoped>\n",
       "    .dataframe tbody tr th:only-of-type {\n",
       "        vertical-align: middle;\n",
       "    }\n",
       "\n",
       "    .dataframe tbody tr th {\n",
       "        vertical-align: top;\n",
       "    }\n",
       "\n",
       "    .dataframe thead th {\n",
       "        text-align: right;\n",
       "    }\n",
       "</style>\n",
       "<table border=\"1\" class=\"dataframe\">\n",
       "  <thead>\n",
       "    <tr style=\"text-align: right;\">\n",
       "      <th>metric</th>\n",
       "      <th>MAPE</th>\n",
       "      <th>WMAPE</th>\n",
       "      <th>MAE</th>\n",
       "      <th>RMSE</th>\n",
       "      <th>R^2</th>\n",
       "    </tr>\n",
       "  </thead>\n",
       "  <tbody>\n",
       "    <tr>\n",
       "      <th>, Linear Regression</th>\n",
       "      <td>0.2841</td>\n",
       "      <td>0.2341</td>\n",
       "      <td>48438.2657</td>\n",
       "      <td>66675.8657</td>\n",
       "      <td>0.6662</td>\n",
       "    </tr>\n",
       "    <tr>\n",
       "      <th>, XGBoost</th>\n",
       "      <td>0.1929</td>\n",
       "      <td>0.1677</td>\n",
       "      <td>34705.6611</td>\n",
       "      <td>50809.1798</td>\n",
       "      <td>0.8062</td>\n",
       "    </tr>\n",
       "  </tbody>\n",
       "</table>\n",
       "</div>"
      ],
      "text/plain": [
       "metric                 MAPE   WMAPE         MAE        RMSE     R^2\n",
       ", Linear Regression  0.2841  0.2341  48438.2657  66675.8657  0.6662\n",
       ", XGBoost            0.1929  0.1677  34705.6611  50809.1798  0.8062"
      ]
     },
     "execution_count": 255,
     "metadata": {},
     "output_type": "execute_result"
    }
   ],
   "source": [
    "model_comparison_report.performance_metrics"
   ]
  },
  {
   "cell_type": "markdown",
   "metadata": {},
   "source": [
    "A report comparing the performance, metrics between Linear model and Tree model are available [here](https://drive.google.com/file/d/1LDibiFap9K4DKME-Y0S0mtI_05lTdaJF/view?usp=sharing)"
   ]
  },
  {
   "cell_type": "markdown",
   "metadata": {},
   "source": [
    "**Dev NOTES**\n",
    "<details>\n",
    "\n",
    "the above metrics are absolute nos and not %ges"
   ]
  },
  {
   "cell_type": "markdown",
   "metadata": {},
   "source": [
    "In this example we are choosing LM model for pipelining. General criteria for choosing production models is:\n",
    "\n",
    "- Parametric models (aka whitebox models) such as Linear Regression are easier to explain to non-technical audience.\n",
    "- Generally these are accepted fast and adoption is quicker.\n",
    "- If the downstream calls for optimization using these models parametric models are easier to implement.\n",
    "- When accuracy is primary goal without explainability, the above two takes a backseat"
   ]
  },
  {
   "cell_type": "code",
   "execution_count": null,
   "metadata": {},
   "outputs": [],
   "source": []
  }
 ],
 "metadata": {
  "kernelspec": {
   "display_name": "Python 3 (ipykernel)",
   "language": "python",
   "name": "python3"
  },
  "language_info": {
   "codemirror_mode": {
    "name": "ipython",
    "version": 3
   },
   "file_extension": ".py",
   "mimetype": "text/x-python",
   "name": "python",
   "nbconvert_exporter": "python",
   "pygments_lexer": "ipython3",
   "version": "3.9.18"
  }
 },
 "nbformat": 4,
 "nbformat_minor": 4
}
